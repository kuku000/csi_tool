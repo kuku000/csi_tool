{
 "cells": [
  {
   "cell_type": "code",
   "execution_count": 17,
   "metadata": {},
   "outputs": [],
   "source": [
    "# RSSI KNN"
   ]
  },
  {
   "cell_type": "code",
   "execution_count": 18,
   "metadata": {},
   "outputs": [],
   "source": [
    "import os \n",
    "import sys\n",
    "\n",
    "import sklearn as sk\n",
    "import numpy as np\n",
    "import pandas as pd\n",
    "from sklearn.model_selection import train_test_split\n",
    "from sklearn.neighbors import KNeighborsClassifier\n",
    "from sklearn.metrics import confusion_matrix, accuracy_score, classification_report\n",
    "from sklearn.preprocessing import StandardScaler, MinMaxScaler\n",
    "from sklearn.ensemble import RandomForestClassifier\n",
    "from xgboost import XGBClassifier\n",
    "from sklearn.decomposition import PCA\n",
    "import matplotlib.pyplot as plt \n",
    "import xgboost as xgb\n",
    "from sklearn.preprocessing import OneHotEncoder\n",
    "\n",
    "from scipy.stats import kurtosis, entropy\n",
    "from scipy.fft import fft"
   ]
  },
  {
   "cell_type": "code",
   "execution_count": 2,
   "metadata": {},
   "outputs": [],
   "source": [
    "sys.path.append(r\"/media/mcs/1441ae67-d7cd-43e6-b028-169f78661a2f/kyle/csi_tool\") #這行為絕對路徑，如需使用，必須要修改為當前決路徑\n",
    "import csi_tool\n",
    "import denoise"
   ]
  },
  {
   "cell_type": "code",
   "execution_count": 3,
   "metadata": {},
   "outputs": [],
   "source": [
    "base_path = \"/media/mcs/1441ae67-d7cd-43e6-b028-169f78661a2f/kyle/csi_tool/csi_dataset/RSSI/timestamp_allignment_Balanced_2024_12_14_rtt_logs.csv\""
   ]
  },
  {
   "cell_type": "code",
   "execution_count": 19,
   "metadata": {},
   "outputs": [],
   "source": [
    "data = pd.read_csv(\"/media/mcs/1441ae67-d7cd-43e6-b028-169f78661a2f/kyle/csi_tool/csi_dataset/rssi/rssi_for_4AP.csv\")"
   ]
  },
  {
   "cell_type": "code",
   "execution_count": 20,
   "metadata": {},
   "outputs": [
    {
     "data": {
      "text/html": [
       "<div>\n",
       "<style scoped>\n",
       "    .dataframe tbody tr th:only-of-type {\n",
       "        vertical-align: middle;\n",
       "    }\n",
       "\n",
       "    .dataframe tbody tr th {\n",
       "        vertical-align: top;\n",
       "    }\n",
       "\n",
       "    .dataframe thead th {\n",
       "        text-align: right;\n",
       "    }\n",
       "</style>\n",
       "<table border=\"1\" class=\"dataframe\">\n",
       "  <thead>\n",
       "    <tr style=\"text-align: right;\">\n",
       "      <th></th>\n",
       "      <th>Label</th>\n",
       "      <th>AP1_Rssi</th>\n",
       "      <th>AP2_Rssi</th>\n",
       "      <th>AP3_Rssi</th>\n",
       "      <th>AP4_Rssi</th>\n",
       "    </tr>\n",
       "  </thead>\n",
       "  <tbody>\n",
       "    <tr>\n",
       "      <th>0</th>\n",
       "      <td>11</td>\n",
       "      <td>-60.0</td>\n",
       "      <td>-68.0</td>\n",
       "      <td>-61.0</td>\n",
       "      <td>-59.0</td>\n",
       "    </tr>\n",
       "    <tr>\n",
       "      <th>1</th>\n",
       "      <td>11</td>\n",
       "      <td>-62.0</td>\n",
       "      <td>-70.0</td>\n",
       "      <td>-59.0</td>\n",
       "      <td>-59.0</td>\n",
       "    </tr>\n",
       "    <tr>\n",
       "      <th>2</th>\n",
       "      <td>11</td>\n",
       "      <td>-61.0</td>\n",
       "      <td>-69.0</td>\n",
       "      <td>-62.0</td>\n",
       "      <td>-55.0</td>\n",
       "    </tr>\n",
       "    <tr>\n",
       "      <th>3</th>\n",
       "      <td>11</td>\n",
       "      <td>-62.0</td>\n",
       "      <td>-69.0</td>\n",
       "      <td>-63.0</td>\n",
       "      <td>-55.0</td>\n",
       "    </tr>\n",
       "    <tr>\n",
       "      <th>4</th>\n",
       "      <td>11</td>\n",
       "      <td>-61.0</td>\n",
       "      <td>-70.0</td>\n",
       "      <td>-62.0</td>\n",
       "      <td>-55.0</td>\n",
       "    </tr>\n",
       "    <tr>\n",
       "      <th>...</th>\n",
       "      <td>...</td>\n",
       "      <td>...</td>\n",
       "      <td>...</td>\n",
       "      <td>...</td>\n",
       "      <td>...</td>\n",
       "    </tr>\n",
       "    <tr>\n",
       "      <th>24495</th>\n",
       "      <td>35</td>\n",
       "      <td>-66.0</td>\n",
       "      <td>-65.0</td>\n",
       "      <td>-61.0</td>\n",
       "      <td>-59.0</td>\n",
       "    </tr>\n",
       "    <tr>\n",
       "      <th>24496</th>\n",
       "      <td>35</td>\n",
       "      <td>-67.0</td>\n",
       "      <td>-64.0</td>\n",
       "      <td>-62.0</td>\n",
       "      <td>-59.0</td>\n",
       "    </tr>\n",
       "    <tr>\n",
       "      <th>24497</th>\n",
       "      <td>35</td>\n",
       "      <td>-65.0</td>\n",
       "      <td>-65.0</td>\n",
       "      <td>-61.0</td>\n",
       "      <td>-60.0</td>\n",
       "    </tr>\n",
       "    <tr>\n",
       "      <th>24498</th>\n",
       "      <td>35</td>\n",
       "      <td>-65.0</td>\n",
       "      <td>-65.0</td>\n",
       "      <td>-61.0</td>\n",
       "      <td>-58.0</td>\n",
       "    </tr>\n",
       "    <tr>\n",
       "      <th>24499</th>\n",
       "      <td>35</td>\n",
       "      <td>-66.0</td>\n",
       "      <td>-64.0</td>\n",
       "      <td>-60.0</td>\n",
       "      <td>-59.0</td>\n",
       "    </tr>\n",
       "  </tbody>\n",
       "</table>\n",
       "<p>24500 rows × 5 columns</p>\n",
       "</div>"
      ],
      "text/plain": [
       "       Label  AP1_Rssi  AP2_Rssi  AP3_Rssi  AP4_Rssi\n",
       "0         11     -60.0     -68.0     -61.0     -59.0\n",
       "1         11     -62.0     -70.0     -59.0     -59.0\n",
       "2         11     -61.0     -69.0     -62.0     -55.0\n",
       "3         11     -62.0     -69.0     -63.0     -55.0\n",
       "4         11     -61.0     -70.0     -62.0     -55.0\n",
       "...      ...       ...       ...       ...       ...\n",
       "24495     35     -66.0     -65.0     -61.0     -59.0\n",
       "24496     35     -67.0     -64.0     -62.0     -59.0\n",
       "24497     35     -65.0     -65.0     -61.0     -60.0\n",
       "24498     35     -65.0     -65.0     -61.0     -58.0\n",
       "24499     35     -66.0     -64.0     -60.0     -59.0\n",
       "\n",
       "[24500 rows x 5 columns]"
      ]
     },
     "execution_count": 20,
     "metadata": {},
     "output_type": "execute_result"
    }
   ],
   "source": [
    "data"
   ]
  },
  {
   "cell_type": "code",
   "execution_count": 6,
   "metadata": {},
   "outputs": [
    {
     "data": {
      "text/html": [
       "<div>\n",
       "<style scoped>\n",
       "    .dataframe tbody tr th:only-of-type {\n",
       "        vertical-align: middle;\n",
       "    }\n",
       "\n",
       "    .dataframe tbody tr th {\n",
       "        vertical-align: top;\n",
       "    }\n",
       "\n",
       "    .dataframe thead th {\n",
       "        text-align: right;\n",
       "    }\n",
       "</style>\n",
       "<table border=\"1\" class=\"dataframe\">\n",
       "  <thead>\n",
       "    <tr style=\"text-align: right;\">\n",
       "      <th></th>\n",
       "      <th>timeStemp</th>\n",
       "      <th>Label</th>\n",
       "      <th>AP1_Distance (mm)</th>\n",
       "      <th>AP2_Distance (mm)</th>\n",
       "      <th>AP3_Distance (mm)</th>\n",
       "      <th>AP4_Distance (mm)</th>\n",
       "      <th>AP1_Rssi</th>\n",
       "      <th>AP2_Rssi</th>\n",
       "      <th>AP3_Rssi</th>\n",
       "      <th>AP4_Rssi</th>\n",
       "      <th>AP1_StdDev (mm)</th>\n",
       "      <th>AP2_StdDev (mm)</th>\n",
       "      <th>AP3_StdDev (mm)</th>\n",
       "      <th>AP4_StdDev (mm)</th>\n",
       "    </tr>\n",
       "  </thead>\n",
       "  <tbody>\n",
       "    <tr>\n",
       "      <th>0</th>\n",
       "      <td>493453295</td>\n",
       "      <td>1-11</td>\n",
       "      <td>718.0</td>\n",
       "      <td>8178.0</td>\n",
       "      <td>7432.0</td>\n",
       "      <td>4852.0</td>\n",
       "      <td>-60.0</td>\n",
       "      <td>-68.0</td>\n",
       "      <td>-61.0</td>\n",
       "      <td>-59.0</td>\n",
       "      <td>264.0</td>\n",
       "      <td>1502.0</td>\n",
       "      <td>325.0</td>\n",
       "      <td>934.0</td>\n",
       "    </tr>\n",
       "    <tr>\n",
       "      <th>1</th>\n",
       "      <td>493449532</td>\n",
       "      <td>1-11</td>\n",
       "      <td>639.0</td>\n",
       "      <td>8139.0</td>\n",
       "      <td>6930.0</td>\n",
       "      <td>4911.0</td>\n",
       "      <td>-62.0</td>\n",
       "      <td>-70.0</td>\n",
       "      <td>-59.0</td>\n",
       "      <td>-59.0</td>\n",
       "      <td>418.0</td>\n",
       "      <td>1466.0</td>\n",
       "      <td>799.0</td>\n",
       "      <td>485.0</td>\n",
       "    </tr>\n",
       "    <tr>\n",
       "      <th>2</th>\n",
       "      <td>493453815</td>\n",
       "      <td>1-11</td>\n",
       "      <td>678.0</td>\n",
       "      <td>8139.0</td>\n",
       "      <td>7471.0</td>\n",
       "      <td>4647.0</td>\n",
       "      <td>-61.0</td>\n",
       "      <td>-69.0</td>\n",
       "      <td>-62.0</td>\n",
       "      <td>-55.0</td>\n",
       "      <td>311.0</td>\n",
       "      <td>91.0</td>\n",
       "      <td>385.0</td>\n",
       "      <td>600.0</td>\n",
       "    </tr>\n",
       "    <tr>\n",
       "      <th>3</th>\n",
       "      <td>493452063</td>\n",
       "      <td>1-11</td>\n",
       "      <td>718.0</td>\n",
       "      <td>8022.0</td>\n",
       "      <td>7627.0</td>\n",
       "      <td>6219.0</td>\n",
       "      <td>-62.0</td>\n",
       "      <td>-69.0</td>\n",
       "      <td>-63.0</td>\n",
       "      <td>-55.0</td>\n",
       "      <td>324.0</td>\n",
       "      <td>1523.0</td>\n",
       "      <td>268.0</td>\n",
       "      <td>2649.0</td>\n",
       "    </tr>\n",
       "    <tr>\n",
       "      <th>4</th>\n",
       "      <td>493451194</td>\n",
       "      <td>1-11</td>\n",
       "      <td>561.0</td>\n",
       "      <td>8335.0</td>\n",
       "      <td>7471.0</td>\n",
       "      <td>4471.0</td>\n",
       "      <td>-61.0</td>\n",
       "      <td>-70.0</td>\n",
       "      <td>-62.0</td>\n",
       "      <td>-55.0</td>\n",
       "      <td>343.0</td>\n",
       "      <td>1195.0</td>\n",
       "      <td>312.0</td>\n",
       "      <td>1079.0</td>\n",
       "    </tr>\n",
       "    <tr>\n",
       "      <th>...</th>\n",
       "      <td>...</td>\n",
       "      <td>...</td>\n",
       "      <td>...</td>\n",
       "      <td>...</td>\n",
       "      <td>...</td>\n",
       "      <td>...</td>\n",
       "      <td>...</td>\n",
       "      <td>...</td>\n",
       "      <td>...</td>\n",
       "      <td>...</td>\n",
       "      <td>...</td>\n",
       "      <td>...</td>\n",
       "      <td>...</td>\n",
       "      <td>...</td>\n",
       "    </tr>\n",
       "    <tr>\n",
       "      <th>19644</th>\n",
       "      <td>493967396</td>\n",
       "      <td>7-1</td>\n",
       "      <td>7280.0</td>\n",
       "      <td>4643.0</td>\n",
       "      <td>9678.0</td>\n",
       "      <td>1307.0</td>\n",
       "      <td>-64.0</td>\n",
       "      <td>-66.0</td>\n",
       "      <td>-61.0</td>\n",
       "      <td>-58.0</td>\n",
       "      <td>196.0</td>\n",
       "      <td>273.0</td>\n",
       "      <td>1174.0</td>\n",
       "      <td>230.0</td>\n",
       "    </tr>\n",
       "    <tr>\n",
       "      <th>19645</th>\n",
       "      <td>493961752</td>\n",
       "      <td>7-1</td>\n",
       "      <td>6309.0</td>\n",
       "      <td>2270.0</td>\n",
       "      <td>8503.0</td>\n",
       "      <td>844.0</td>\n",
       "      <td>-67.0</td>\n",
       "      <td>-75.0</td>\n",
       "      <td>-62.0</td>\n",
       "      <td>-59.0</td>\n",
       "      <td>125.0</td>\n",
       "      <td>174.0</td>\n",
       "      <td>1670.0</td>\n",
       "      <td>88.0</td>\n",
       "    </tr>\n",
       "    <tr>\n",
       "      <th>19646</th>\n",
       "      <td>493967789</td>\n",
       "      <td>7-1</td>\n",
       "      <td>6811.0</td>\n",
       "      <td>2475.0</td>\n",
       "      <td>9883.0</td>\n",
       "      <td>1375.0</td>\n",
       "      <td>-64.0</td>\n",
       "      <td>-66.0</td>\n",
       "      <td>-61.0</td>\n",
       "      <td>-57.0</td>\n",
       "      <td>377.0</td>\n",
       "      <td>918.0</td>\n",
       "      <td>822.0</td>\n",
       "      <td>188.0</td>\n",
       "    </tr>\n",
       "    <tr>\n",
       "      <th>19647</th>\n",
       "      <td>493968275</td>\n",
       "      <td>7-1</td>\n",
       "      <td>7837.0</td>\n",
       "      <td>2671.0</td>\n",
       "      <td>9511.0</td>\n",
       "      <td>897.0</td>\n",
       "      <td>-66.0</td>\n",
       "      <td>-65.0</td>\n",
       "      <td>-59.0</td>\n",
       "      <td>-58.0</td>\n",
       "      <td>594.0</td>\n",
       "      <td>1081.0</td>\n",
       "      <td>849.0</td>\n",
       "      <td>438.0</td>\n",
       "    </tr>\n",
       "    <tr>\n",
       "      <th>19648</th>\n",
       "      <td>493962466</td>\n",
       "      <td>7-1</td>\n",
       "      <td>7202.0</td>\n",
       "      <td>2319.0</td>\n",
       "      <td>8486.0</td>\n",
       "      <td>438.0</td>\n",
       "      <td>-68.0</td>\n",
       "      <td>-64.0</td>\n",
       "      <td>-61.0</td>\n",
       "      <td>-59.0</td>\n",
       "      <td>331.0</td>\n",
       "      <td>1236.0</td>\n",
       "      <td>615.0</td>\n",
       "      <td>609.0</td>\n",
       "    </tr>\n",
       "  </tbody>\n",
       "</table>\n",
       "<p>19649 rows × 14 columns</p>\n",
       "</div>"
      ],
      "text/plain": [
       "       timeStemp Label  AP1_Distance (mm)  AP2_Distance (mm)  \\\n",
       "0      493453295  1-11              718.0             8178.0   \n",
       "1      493449532  1-11              639.0             8139.0   \n",
       "2      493453815  1-11              678.0             8139.0   \n",
       "3      493452063  1-11              718.0             8022.0   \n",
       "4      493451194  1-11              561.0             8335.0   \n",
       "...          ...   ...                ...                ...   \n",
       "19644  493967396   7-1             7280.0             4643.0   \n",
       "19645  493961752   7-1             6309.0             2270.0   \n",
       "19646  493967789   7-1             6811.0             2475.0   \n",
       "19647  493968275   7-1             7837.0             2671.0   \n",
       "19648  493962466   7-1             7202.0             2319.0   \n",
       "\n",
       "       AP3_Distance (mm)  AP4_Distance (mm)  AP1_Rssi  AP2_Rssi  AP3_Rssi  \\\n",
       "0                 7432.0             4852.0     -60.0     -68.0     -61.0   \n",
       "1                 6930.0             4911.0     -62.0     -70.0     -59.0   \n",
       "2                 7471.0             4647.0     -61.0     -69.0     -62.0   \n",
       "3                 7627.0             6219.0     -62.0     -69.0     -63.0   \n",
       "4                 7471.0             4471.0     -61.0     -70.0     -62.0   \n",
       "...                  ...                ...       ...       ...       ...   \n",
       "19644             9678.0             1307.0     -64.0     -66.0     -61.0   \n",
       "19645             8503.0              844.0     -67.0     -75.0     -62.0   \n",
       "19646             9883.0             1375.0     -64.0     -66.0     -61.0   \n",
       "19647             9511.0              897.0     -66.0     -65.0     -59.0   \n",
       "19648             8486.0              438.0     -68.0     -64.0     -61.0   \n",
       "\n",
       "       AP4_Rssi  AP1_StdDev (mm)  AP2_StdDev (mm)  AP3_StdDev (mm)  \\\n",
       "0         -59.0            264.0           1502.0            325.0   \n",
       "1         -59.0            418.0           1466.0            799.0   \n",
       "2         -55.0            311.0             91.0            385.0   \n",
       "3         -55.0            324.0           1523.0            268.0   \n",
       "4         -55.0            343.0           1195.0            312.0   \n",
       "...         ...              ...              ...              ...   \n",
       "19644     -58.0            196.0            273.0           1174.0   \n",
       "19645     -59.0            125.0            174.0           1670.0   \n",
       "19646     -57.0            377.0            918.0            822.0   \n",
       "19647     -58.0            594.0           1081.0            849.0   \n",
       "19648     -59.0            331.0           1236.0            615.0   \n",
       "\n",
       "       AP4_StdDev (mm)  \n",
       "0                934.0  \n",
       "1                485.0  \n",
       "2                600.0  \n",
       "3               2649.0  \n",
       "4               1079.0  \n",
       "...                ...  \n",
       "19644            230.0  \n",
       "19645             88.0  \n",
       "19646            188.0  \n",
       "19647            438.0  \n",
       "19648            609.0  \n",
       "\n",
       "[19649 rows x 14 columns]"
      ]
     },
     "execution_count": 6,
     "metadata": {},
     "output_type": "execute_result"
    }
   ],
   "source": [
    "df = pd.read_csv(base_path)\n",
    "df "
   ]
  },
  {
   "cell_type": "code",
   "execution_count": 7,
   "metadata": {},
   "outputs": [],
   "source": [
    "# Load data RSSI\n",
    "\n",
    "label_to_coordinates_swapped = {\n",
    "    \"1-1\":  (0, 0),   \"1-2\":  (0, 0.6),   \"1-3\":  (0, 1.2),   \"1-4\":  (0, 1.8),\n",
    "    \"1-5\":  (0, 2.4), \"1-6\":  (0, 3.0),   \"1-7\":  (0, 3.6),   \"1-8\":  (0, 4.2),\n",
    "    \"1-9\":  (0, 4.8), \"1-10\": (0, 5.4),   \"1-11\": (0, 6.0),\n",
    "\n",
    "    \"2-1\":  (0.6, 0),  \"2-11\": (0.6, 6.0),\n",
    "\n",
    "    \"3-1\":  (1.2, 0),  \"3-11\": (1.2, 6.0),\n",
    "\n",
    "    \"4-1\":  (1.8, 0),  \"4-11\": (1.8, 6.0),\n",
    "\n",
    "    \"5-1\":  (2.4, 0),  \"5-11\": (2.4, 6.0),\n",
    "    \n",
    "\n",
    "    \"6-1\":  (3.0, 0),  \"6-2\":  (3.0, 0.6),  \"6-3\":  (3.0, 1.2),  \"6-4\":  (3.0, 1.8),\n",
    "    \"6-5\":  (3.0, 2.4), \"6-6\":  (3.0, 3.0),  \"6-7\":  (3.0, 3.6),  \"6-8\":  (3.0, 4.2),\n",
    "    \"6-9\":  (3.0, 4.8), \"6-10\": (3.0, 5.4),  \"6-11\": (3.0, 6.0),\n",
    "\n",
    "    \"7-1\":  (3.6, 0),  \"7-11\": (3.6, 6.0),\n",
    "\n",
    "    \"8-1\":  (4.2, 0),  \"8-11\": (4.2, 6.0),\n",
    "\n",
    "    \"9-1\":  (4.8, 0),  \"9-11\": (4.8, 6.0),\n",
    "\n",
    "    \"10-1\": (5.4, 0),  \"10-11\": (5.4, 6.0),\n",
    "\n",
    "    \"11-1\": (6.0, 0),  \"11-2\": (6.0, 0.6), \"11-3\": (6.0, 1.2), \"11-4\": (6.0, 1.8),\n",
    "    \"11-5\": (6.0, 2.4),\"11-6\": (6.0, 3.0), \"11-7\": (6.0, 3.6), \"11-8\": (6.0, 4.2),\n",
    "    \"11-9\": (6.0, 4.8),\"11-10\":(6.0, 5.4), \"11-11\":(6.0, 6.0)\n",
    "}\n",
    "\n",
    "\n",
    "coordinates = {\n",
    "        1: (0, 0), 40: (0.6, 0), 39: (1.2, 0), 38: (1.8, 0), 37: (2.4, 0),\n",
    "        36: (3.0, 0), 35: (3.6, 0), 34: (4.2, 0), 33: (4.8, 0), 32: (5.4, 0), 31: (6.0, 0),\n",
    "        2: (0, 0.6), 3: (0, 1.2), 4: (0, 1.8), 5: (0, 2.4),\n",
    "        6: (0, 3.0), 7: (0, 3.6), 8: (0, 4.2), 9: (0, 4.8), 10: (0, 5.4), 11: (0, 6.0),\n",
    "        12: (0.6, 6.0), 13: (1.2, 6.0), 14: (1.8, 6.0), 15: (2.4, 6.0),\n",
    "        16: (3.0, 6.0), 17: (3.6, 6.0), 18: (4.2, 6.0), 19: (4.8, 6.0),\n",
    "        20: (5.4, 6.0), 21: (6.0, 6.0),\n",
    "        22: (6.0, 5.4), 23: (6.0, 4.8), 24: (6.0, 4.2), 25: (6.0, 3.6),\n",
    "        26: (6.0, 3.0), 27: (6.0, 2.4), 28: (6.0, 1.8), 29: (6.0, 1.2), 30: (6.0, 0.6),\n",
    "        41: (3.0, 0.6), 42: (3.0, 1.2), 43: (3.0, 1.8),\n",
    "        44: (3.0, 2.4), 45: (3.0, 3.0), 46: (3.0, 3.6),\n",
    "        47: (3.0, 4.2), 48: (3.0, 4.8), 49: (3.0, 5.4)\n",
    "    }\n",
    "coordinate_to_label2 = {value: key for key, value in coordinates.items()}\n",
    "\n",
    "# label_to_coordinates:  \"1-1\" -> (0, 0)\n",
    "# coordinates:          1      -> (0, 0)\n",
    "\n",
    "# 1) 先建立一個「座標 -> 數字」的反轉字典\n",
    "coord_to_num = {value: key for key, value in coordinates.items()}\n",
    "# coord_to_num[(0,0)] = 1,  coord_to_num[(0.6,0)] = 40, ...\n",
    "\n",
    "# 2) 建立 \"1-1\" -> 整數標籤 的 map\n",
    "label_str_to_num = {}\n",
    "for str_label, coord in label_to_coordinates_swapped.items():\n",
    "    if coord in coord_to_num:  # 確保在座標字典中找得到\n",
    "        label_str_to_num[str_label] = coord_to_num[coord]"
   ]
  },
  {
   "cell_type": "code",
   "execution_count": 10,
   "metadata": {},
   "outputs": [
    {
     "data": {
      "text/plain": [
       "{(0, 0): 1,\n",
       " (0.6, 0): 40,\n",
       " (1.2, 0): 39,\n",
       " (1.8, 0): 38,\n",
       " (2.4, 0): 37,\n",
       " (3.0, 0): 36,\n",
       " (3.6, 0): 35,\n",
       " (4.2, 0): 34,\n",
       " (4.8, 0): 33,\n",
       " (5.4, 0): 32,\n",
       " (6.0, 0): 31,\n",
       " (0, 0.6): 2,\n",
       " (0, 1.2): 3,\n",
       " (0, 1.8): 4,\n",
       " (0, 2.4): 5,\n",
       " (0, 3.0): 6,\n",
       " (0, 3.6): 7,\n",
       " (0, 4.2): 8,\n",
       " (0, 4.8): 9,\n",
       " (0, 5.4): 10,\n",
       " (0, 6.0): 11,\n",
       " (0.6, 6.0): 12,\n",
       " (1.2, 6.0): 13,\n",
       " (1.8, 6.0): 14,\n",
       " (2.4, 6.0): 15,\n",
       " (3.0, 6.0): 16,\n",
       " (3.6, 6.0): 17,\n",
       " (4.2, 6.0): 18,\n",
       " (4.8, 6.0): 19,\n",
       " (5.4, 6.0): 20,\n",
       " (6.0, 6.0): 21,\n",
       " (6.0, 5.4): 22,\n",
       " (6.0, 4.8): 23,\n",
       " (6.0, 4.2): 24,\n",
       " (6.0, 3.6): 25,\n",
       " (6.0, 3.0): 26,\n",
       " (6.0, 2.4): 27,\n",
       " (6.0, 1.8): 28,\n",
       " (6.0, 1.2): 29,\n",
       " (6.0, 0.6): 30,\n",
       " (3.0, 0.6): 41,\n",
       " (3.0, 1.2): 42,\n",
       " (3.0, 1.8): 43,\n",
       " (3.0, 2.4): 44,\n",
       " (3.0, 3.0): 45,\n",
       " (3.0, 3.6): 46,\n",
       " (3.0, 4.2): 47,\n",
       " (3.0, 4.8): 48,\n",
       " (3.0, 5.4): 49}"
      ]
     },
     "execution_count": 10,
     "metadata": {},
     "output_type": "execute_result"
    }
   ],
   "source": [
    "coordinate_to_label2"
   ]
  },
  {
   "cell_type": "code",
   "execution_count": 11,
   "metadata": {},
   "outputs": [],
   "source": [
    "df[\"Label\"] = (\n",
    "    df[\"Label\"]\n",
    "    .map(label_to_coordinates_swapped)   # 由 \"1-1\" → (0,0)\n",
    "    .map(coordinate_to_label2)   # 由 (0,0) → 1 (或其他整數標籤)\n",
    ")\n"
   ]
  },
  {
   "cell_type": "code",
   "execution_count": 21,
   "metadata": {},
   "outputs": [],
   "source": [
    "data = df.drop(columns=['timeStemp', 'AP1_Distance (mm)', 'AP2_Distance (mm)', 'AP3_Distance (mm)', 'AP4_Distance (mm)', 'AP1_StdDev (mm)','AP2_StdDev (mm)', 'AP3_StdDev (mm)', 'AP4_StdDev (mm)'])"
   ]
  },
  {
   "cell_type": "code",
   "execution_count": 13,
   "metadata": {},
   "outputs": [
    {
     "name": "stdout",
     "output_type": "stream",
     "text": [
      "(24500, 5)\n",
      "Label\n",
      "11    500\n",
      "10    500\n",
      "9     500\n",
      "8     500\n",
      "7     500\n",
      "6     500\n",
      "5     500\n",
      "4     500\n",
      "3     500\n",
      "2     500\n",
      "1     500\n",
      "40    500\n",
      "39    500\n",
      "38    500\n",
      "37    500\n",
      "36    500\n",
      "41    500\n",
      "42    500\n",
      "43    500\n",
      "44    500\n",
      "45    500\n",
      "46    500\n",
      "47    500\n",
      "48    500\n",
      "49    500\n",
      "16    500\n",
      "15    500\n",
      "14    500\n",
      "13    500\n",
      "12    500\n",
      "17    500\n",
      "18    500\n",
      "19    500\n",
      "20    500\n",
      "21    500\n",
      "22    500\n",
      "23    500\n",
      "24    500\n",
      "25    500\n",
      "26    500\n",
      "27    500\n",
      "28    500\n",
      "29    500\n",
      "30    500\n",
      "31    500\n",
      "32    500\n",
      "33    500\n",
      "34    500\n",
      "35    500\n",
      "Name: count, dtype: int64\n"
     ]
    }
   ],
   "source": [
    "import pandas as pd\n",
    "\n",
    "# 假設你的 RSSI DataFrame 名叫 df_rssi\n",
    "# 它至少包含欄位 [\"Label\", \"AP1_Rssi\", \"AP2_Rssi\", ...] 等資訊\n",
    "\n",
    "target_total = 500  # 每個 Label 期望擁有的筆數\n",
    "need_extra = 99     # 需要再抽幾筆 (500 - 401 = 99)\n",
    "\n",
    "all_label_groups = []  # 用來存放每個 label 擴充後的 DataFrame\n",
    "\n",
    "unique_labels = data[\"Label\"].unique()\n",
    "\n",
    "for label_value in unique_labels:\n",
    "    sub_df = data[data[\"Label\"] == label_value].reset_index(drop=True)\n",
    "    \n",
    "    # 假設這裡已知 sub_df 長度就是 401；若有需要，你可加檢查:\n",
    "    # if len(sub_df) != 401:\n",
    "    #     print(f\"Label {label_value} 不等於 401 筆，目前有 {len(sub_df)} 筆。\")\n",
    "    #     # 或視需求做別的處理\n",
    "\n",
    "    # 從 sub_df 再抽樣 99 筆 (有放回 replace=True)\n",
    "    extra = sub_df.sample(n=need_extra, replace=True)\n",
    "    \n",
    "    # 與原 sub_df 合併\n",
    "    expanded_sub_df = pd.concat([sub_df, extra], ignore_index=True)\n",
    "    \n",
    "    # 此時 expanded_sub_df 就有 401 + 99 = 500 筆\n",
    "    all_label_groups.append(expanded_sub_df)\n",
    "\n",
    "# 最後將所有 label 擴充後的 DataFrame 合併\n",
    "df_final = pd.concat(all_label_groups, ignore_index=True)\n",
    "\n",
    "print(df_final.shape)  # 應該是 (500 * label_count, ...)\n",
    "print(df_final[\"Label\"].value_counts())  # 檢查每個 Label 筆數是否都 500\n"
   ]
  },
  {
   "cell_type": "code",
   "execution_count": 14,
   "metadata": {},
   "outputs": [
    {
     "data": {
      "text/html": [
       "<div>\n",
       "<style scoped>\n",
       "    .dataframe tbody tr th:only-of-type {\n",
       "        vertical-align: middle;\n",
       "    }\n",
       "\n",
       "    .dataframe tbody tr th {\n",
       "        vertical-align: top;\n",
       "    }\n",
       "\n",
       "    .dataframe thead th {\n",
       "        text-align: right;\n",
       "    }\n",
       "</style>\n",
       "<table border=\"1\" class=\"dataframe\">\n",
       "  <thead>\n",
       "    <tr style=\"text-align: right;\">\n",
       "      <th></th>\n",
       "      <th>Label</th>\n",
       "      <th>AP1_Rssi</th>\n",
       "      <th>AP2_Rssi</th>\n",
       "      <th>AP3_Rssi</th>\n",
       "      <th>AP4_Rssi</th>\n",
       "    </tr>\n",
       "  </thead>\n",
       "  <tbody>\n",
       "    <tr>\n",
       "      <th>0</th>\n",
       "      <td>11</td>\n",
       "      <td>-60.0</td>\n",
       "      <td>-68.0</td>\n",
       "      <td>-61.0</td>\n",
       "      <td>-59.0</td>\n",
       "    </tr>\n",
       "    <tr>\n",
       "      <th>1</th>\n",
       "      <td>11</td>\n",
       "      <td>-62.0</td>\n",
       "      <td>-70.0</td>\n",
       "      <td>-59.0</td>\n",
       "      <td>-59.0</td>\n",
       "    </tr>\n",
       "    <tr>\n",
       "      <th>2</th>\n",
       "      <td>11</td>\n",
       "      <td>-61.0</td>\n",
       "      <td>-69.0</td>\n",
       "      <td>-62.0</td>\n",
       "      <td>-55.0</td>\n",
       "    </tr>\n",
       "    <tr>\n",
       "      <th>3</th>\n",
       "      <td>11</td>\n",
       "      <td>-62.0</td>\n",
       "      <td>-69.0</td>\n",
       "      <td>-63.0</td>\n",
       "      <td>-55.0</td>\n",
       "    </tr>\n",
       "    <tr>\n",
       "      <th>4</th>\n",
       "      <td>11</td>\n",
       "      <td>-61.0</td>\n",
       "      <td>-70.0</td>\n",
       "      <td>-62.0</td>\n",
       "      <td>-55.0</td>\n",
       "    </tr>\n",
       "    <tr>\n",
       "      <th>...</th>\n",
       "      <td>...</td>\n",
       "      <td>...</td>\n",
       "      <td>...</td>\n",
       "      <td>...</td>\n",
       "      <td>...</td>\n",
       "    </tr>\n",
       "    <tr>\n",
       "      <th>24495</th>\n",
       "      <td>35</td>\n",
       "      <td>-66.0</td>\n",
       "      <td>-64.0</td>\n",
       "      <td>-61.0</td>\n",
       "      <td>-59.0</td>\n",
       "    </tr>\n",
       "    <tr>\n",
       "      <th>24496</th>\n",
       "      <td>35</td>\n",
       "      <td>-64.0</td>\n",
       "      <td>-66.0</td>\n",
       "      <td>-60.0</td>\n",
       "      <td>-57.0</td>\n",
       "    </tr>\n",
       "    <tr>\n",
       "      <th>24497</th>\n",
       "      <td>35</td>\n",
       "      <td>-68.0</td>\n",
       "      <td>-65.0</td>\n",
       "      <td>-58.0</td>\n",
       "      <td>-59.0</td>\n",
       "    </tr>\n",
       "    <tr>\n",
       "      <th>24498</th>\n",
       "      <td>35</td>\n",
       "      <td>-66.0</td>\n",
       "      <td>-64.0</td>\n",
       "      <td>-57.0</td>\n",
       "      <td>-59.0</td>\n",
       "    </tr>\n",
       "    <tr>\n",
       "      <th>24499</th>\n",
       "      <td>35</td>\n",
       "      <td>-63.0</td>\n",
       "      <td>-65.0</td>\n",
       "      <td>-61.0</td>\n",
       "      <td>-58.0</td>\n",
       "    </tr>\n",
       "  </tbody>\n",
       "</table>\n",
       "<p>24500 rows × 5 columns</p>\n",
       "</div>"
      ],
      "text/plain": [
       "       Label  AP1_Rssi  AP2_Rssi  AP3_Rssi  AP4_Rssi\n",
       "0         11     -60.0     -68.0     -61.0     -59.0\n",
       "1         11     -62.0     -70.0     -59.0     -59.0\n",
       "2         11     -61.0     -69.0     -62.0     -55.0\n",
       "3         11     -62.0     -69.0     -63.0     -55.0\n",
       "4         11     -61.0     -70.0     -62.0     -55.0\n",
       "...      ...       ...       ...       ...       ...\n",
       "24495     35     -66.0     -64.0     -61.0     -59.0\n",
       "24496     35     -64.0     -66.0     -60.0     -57.0\n",
       "24497     35     -68.0     -65.0     -58.0     -59.0\n",
       "24498     35     -66.0     -64.0     -57.0     -59.0\n",
       "24499     35     -63.0     -65.0     -61.0     -58.0\n",
       "\n",
       "[24500 rows x 5 columns]"
      ]
     },
     "execution_count": 14,
     "metadata": {},
     "output_type": "execute_result"
    }
   ],
   "source": [
    "df_final"
   ]
  },
  {
   "cell_type": "code",
   "execution_count": 15,
   "metadata": {},
   "outputs": [
    {
     "data": {
      "text/plain": [
       "24500"
      ]
     },
     "execution_count": 15,
     "metadata": {},
     "output_type": "execute_result"
    }
   ],
   "source": [
    "df_final.shape[0]"
   ]
  },
  {
   "cell_type": "code",
   "execution_count": 22,
   "metadata": {},
   "outputs": [],
   "source": [
    "label = data[\"Label\"]\n",
    "data = df_final.drop(columns=['Label'])"
   ]
  },
  {
   "cell_type": "code",
   "execution_count": 23,
   "metadata": {},
   "outputs": [],
   "source": [
    "label = df_final['Label']\n",
    "data = df_final.drop(columns=['Label'])"
   ]
  },
  {
   "cell_type": "code",
   "execution_count": 24,
   "metadata": {},
   "outputs": [],
   "source": [
    "coor = label.map(label_to_coordinates_swapped)"
   ]
  },
  {
   "cell_type": "code",
   "execution_count": 25,
   "metadata": {},
   "outputs": [],
   "source": [
    "rssi =data\n",
    "label = np.array(label).astype(int)"
   ]
  },
  {
   "cell_type": "code",
   "execution_count": 26,
   "metadata": {},
   "outputs": [
    {
     "data": {
      "text/plain": [
       "array([11, 11, 11, ..., 35, 35, 35])"
      ]
     },
     "execution_count": 26,
     "metadata": {},
     "output_type": "execute_result"
    }
   ],
   "source": [
    "label"
   ]
  },
  {
   "cell_type": "code",
   "execution_count": 27,
   "metadata": {},
   "outputs": [
    {
     "data": {
      "text/html": [
       "<div>\n",
       "<style scoped>\n",
       "    .dataframe tbody tr th:only-of-type {\n",
       "        vertical-align: middle;\n",
       "    }\n",
       "\n",
       "    .dataframe tbody tr th {\n",
       "        vertical-align: top;\n",
       "    }\n",
       "\n",
       "    .dataframe thead th {\n",
       "        text-align: right;\n",
       "    }\n",
       "</style>\n",
       "<table border=\"1\" class=\"dataframe\">\n",
       "  <thead>\n",
       "    <tr style=\"text-align: right;\">\n",
       "      <th></th>\n",
       "      <th>AP1_Rssi</th>\n",
       "      <th>AP2_Rssi</th>\n",
       "      <th>AP3_Rssi</th>\n",
       "      <th>AP4_Rssi</th>\n",
       "    </tr>\n",
       "  </thead>\n",
       "  <tbody>\n",
       "    <tr>\n",
       "      <th>0</th>\n",
       "      <td>-60.0</td>\n",
       "      <td>-68.0</td>\n",
       "      <td>-61.0</td>\n",
       "      <td>-59.0</td>\n",
       "    </tr>\n",
       "    <tr>\n",
       "      <th>1</th>\n",
       "      <td>-62.0</td>\n",
       "      <td>-70.0</td>\n",
       "      <td>-59.0</td>\n",
       "      <td>-59.0</td>\n",
       "    </tr>\n",
       "    <tr>\n",
       "      <th>2</th>\n",
       "      <td>-61.0</td>\n",
       "      <td>-69.0</td>\n",
       "      <td>-62.0</td>\n",
       "      <td>-55.0</td>\n",
       "    </tr>\n",
       "    <tr>\n",
       "      <th>3</th>\n",
       "      <td>-62.0</td>\n",
       "      <td>-69.0</td>\n",
       "      <td>-63.0</td>\n",
       "      <td>-55.0</td>\n",
       "    </tr>\n",
       "    <tr>\n",
       "      <th>4</th>\n",
       "      <td>-61.0</td>\n",
       "      <td>-70.0</td>\n",
       "      <td>-62.0</td>\n",
       "      <td>-55.0</td>\n",
       "    </tr>\n",
       "    <tr>\n",
       "      <th>...</th>\n",
       "      <td>...</td>\n",
       "      <td>...</td>\n",
       "      <td>...</td>\n",
       "      <td>...</td>\n",
       "    </tr>\n",
       "    <tr>\n",
       "      <th>24495</th>\n",
       "      <td>-66.0</td>\n",
       "      <td>-64.0</td>\n",
       "      <td>-61.0</td>\n",
       "      <td>-59.0</td>\n",
       "    </tr>\n",
       "    <tr>\n",
       "      <th>24496</th>\n",
       "      <td>-64.0</td>\n",
       "      <td>-66.0</td>\n",
       "      <td>-60.0</td>\n",
       "      <td>-57.0</td>\n",
       "    </tr>\n",
       "    <tr>\n",
       "      <th>24497</th>\n",
       "      <td>-68.0</td>\n",
       "      <td>-65.0</td>\n",
       "      <td>-58.0</td>\n",
       "      <td>-59.0</td>\n",
       "    </tr>\n",
       "    <tr>\n",
       "      <th>24498</th>\n",
       "      <td>-66.0</td>\n",
       "      <td>-64.0</td>\n",
       "      <td>-57.0</td>\n",
       "      <td>-59.0</td>\n",
       "    </tr>\n",
       "    <tr>\n",
       "      <th>24499</th>\n",
       "      <td>-63.0</td>\n",
       "      <td>-65.0</td>\n",
       "      <td>-61.0</td>\n",
       "      <td>-58.0</td>\n",
       "    </tr>\n",
       "  </tbody>\n",
       "</table>\n",
       "<p>24500 rows × 4 columns</p>\n",
       "</div>"
      ],
      "text/plain": [
       "       AP1_Rssi  AP2_Rssi  AP3_Rssi  AP4_Rssi\n",
       "0         -60.0     -68.0     -61.0     -59.0\n",
       "1         -62.0     -70.0     -59.0     -59.0\n",
       "2         -61.0     -69.0     -62.0     -55.0\n",
       "3         -62.0     -69.0     -63.0     -55.0\n",
       "4         -61.0     -70.0     -62.0     -55.0\n",
       "...         ...       ...       ...       ...\n",
       "24495     -66.0     -64.0     -61.0     -59.0\n",
       "24496     -64.0     -66.0     -60.0     -57.0\n",
       "24497     -68.0     -65.0     -58.0     -59.0\n",
       "24498     -66.0     -64.0     -57.0     -59.0\n",
       "24499     -63.0     -65.0     -61.0     -58.0\n",
       "\n",
       "[24500 rows x 4 columns]"
      ]
     },
     "execution_count": 27,
     "metadata": {},
     "output_type": "execute_result"
    }
   ],
   "source": [
    "rssi"
   ]
  },
  {
   "cell_type": "code",
   "execution_count": 28,
   "metadata": {},
   "outputs": [],
   "source": [
    "encoder = OneHotEncoder(sparse_output=False)\n",
    "one_hot_labels = encoder.fit_transform(np.array(label).reshape(-1, 1))"
   ]
  },
  {
   "cell_type": "code",
   "execution_count": 29,
   "metadata": {},
   "outputs": [],
   "source": [
    "rssi = rssi.fillna(0)\n",
    "\n",
    "rssi3ap = rssi.iloc[:, :3]\n",
    "rssi2ap = rssi.iloc[:, :2]\n",
    "rssi1ap = rssi.iloc[:, :1]"
   ]
  },
  {
   "cell_type": "code",
   "execution_count": 30,
   "metadata": {},
   "outputs": [
    {
     "data": {
      "text/html": [
       "<div>\n",
       "<style scoped>\n",
       "    .dataframe tbody tr th:only-of-type {\n",
       "        vertical-align: middle;\n",
       "    }\n",
       "\n",
       "    .dataframe tbody tr th {\n",
       "        vertical-align: top;\n",
       "    }\n",
       "\n",
       "    .dataframe thead th {\n",
       "        text-align: right;\n",
       "    }\n",
       "</style>\n",
       "<table border=\"1\" class=\"dataframe\">\n",
       "  <thead>\n",
       "    <tr style=\"text-align: right;\">\n",
       "      <th></th>\n",
       "      <th>AP1_Rssi</th>\n",
       "      <th>AP2_Rssi</th>\n",
       "      <th>AP3_Rssi</th>\n",
       "    </tr>\n",
       "  </thead>\n",
       "  <tbody>\n",
       "    <tr>\n",
       "      <th>0</th>\n",
       "      <td>-60.0</td>\n",
       "      <td>-68.0</td>\n",
       "      <td>-61.0</td>\n",
       "    </tr>\n",
       "    <tr>\n",
       "      <th>1</th>\n",
       "      <td>-62.0</td>\n",
       "      <td>-70.0</td>\n",
       "      <td>-59.0</td>\n",
       "    </tr>\n",
       "    <tr>\n",
       "      <th>2</th>\n",
       "      <td>-61.0</td>\n",
       "      <td>-69.0</td>\n",
       "      <td>-62.0</td>\n",
       "    </tr>\n",
       "    <tr>\n",
       "      <th>3</th>\n",
       "      <td>-62.0</td>\n",
       "      <td>-69.0</td>\n",
       "      <td>-63.0</td>\n",
       "    </tr>\n",
       "    <tr>\n",
       "      <th>4</th>\n",
       "      <td>-61.0</td>\n",
       "      <td>-70.0</td>\n",
       "      <td>-62.0</td>\n",
       "    </tr>\n",
       "    <tr>\n",
       "      <th>...</th>\n",
       "      <td>...</td>\n",
       "      <td>...</td>\n",
       "      <td>...</td>\n",
       "    </tr>\n",
       "    <tr>\n",
       "      <th>24495</th>\n",
       "      <td>-66.0</td>\n",
       "      <td>-64.0</td>\n",
       "      <td>-61.0</td>\n",
       "    </tr>\n",
       "    <tr>\n",
       "      <th>24496</th>\n",
       "      <td>-64.0</td>\n",
       "      <td>-66.0</td>\n",
       "      <td>-60.0</td>\n",
       "    </tr>\n",
       "    <tr>\n",
       "      <th>24497</th>\n",
       "      <td>-68.0</td>\n",
       "      <td>-65.0</td>\n",
       "      <td>-58.0</td>\n",
       "    </tr>\n",
       "    <tr>\n",
       "      <th>24498</th>\n",
       "      <td>-66.0</td>\n",
       "      <td>-64.0</td>\n",
       "      <td>-57.0</td>\n",
       "    </tr>\n",
       "    <tr>\n",
       "      <th>24499</th>\n",
       "      <td>-63.0</td>\n",
       "      <td>-65.0</td>\n",
       "      <td>-61.0</td>\n",
       "    </tr>\n",
       "  </tbody>\n",
       "</table>\n",
       "<p>24500 rows × 3 columns</p>\n",
       "</div>"
      ],
      "text/plain": [
       "       AP1_Rssi  AP2_Rssi  AP3_Rssi\n",
       "0         -60.0     -68.0     -61.0\n",
       "1         -62.0     -70.0     -59.0\n",
       "2         -61.0     -69.0     -62.0\n",
       "3         -62.0     -69.0     -63.0\n",
       "4         -61.0     -70.0     -62.0\n",
       "...         ...       ...       ...\n",
       "24495     -66.0     -64.0     -61.0\n",
       "24496     -64.0     -66.0     -60.0\n",
       "24497     -68.0     -65.0     -58.0\n",
       "24498     -66.0     -64.0     -57.0\n",
       "24499     -63.0     -65.0     -61.0\n",
       "\n",
       "[24500 rows x 3 columns]"
      ]
     },
     "execution_count": 30,
     "metadata": {},
     "output_type": "execute_result"
    }
   ],
   "source": [
    "rssi3ap"
   ]
  },
  {
   "cell_type": "code",
   "execution_count": 91,
   "metadata": {},
   "outputs": [
    {
     "data": {
      "text/plain": [
       "(24500, 49)"
      ]
     },
     "execution_count": 91,
     "metadata": {},
     "output_type": "execute_result"
    }
   ],
   "source": [
    "one_hot_labels.shape"
   ]
  },
  {
   "cell_type": "code",
   "execution_count": 92,
   "metadata": {},
   "outputs": [],
   "source": [
    "amp_train, amp_temp, y_train, y_temp = train_test_split(rssi, one_hot_labels, test_size=0.3, random_state=42)\n",
    "amp_val, amp_test, y_val, y_test = train_test_split(amp_temp, y_temp, test_size=1/3, random_state=42)"
   ]
  },
  {
   "cell_type": "code",
   "execution_count": null,
   "metadata": {},
   "outputs": [],
   "source": []
  },
  {
   "cell_type": "code",
   "execution_count": 93,
   "metadata": {},
   "outputs": [
    {
     "data": {
      "text/html": [
       "<div>\n",
       "<style scoped>\n",
       "    .dataframe tbody tr th:only-of-type {\n",
       "        vertical-align: middle;\n",
       "    }\n",
       "\n",
       "    .dataframe tbody tr th {\n",
       "        vertical-align: top;\n",
       "    }\n",
       "\n",
       "    .dataframe thead th {\n",
       "        text-align: right;\n",
       "    }\n",
       "</style>\n",
       "<table border=\"1\" class=\"dataframe\">\n",
       "  <thead>\n",
       "    <tr style=\"text-align: right;\">\n",
       "      <th></th>\n",
       "      <th>AP1_Rssi</th>\n",
       "      <th>AP2_Rssi</th>\n",
       "      <th>AP3_Rssi</th>\n",
       "      <th>AP4_Rssi</th>\n",
       "    </tr>\n",
       "  </thead>\n",
       "  <tbody>\n",
       "    <tr>\n",
       "      <th>7167</th>\n",
       "      <td>-61.0</td>\n",
       "      <td>-66.0</td>\n",
       "      <td>-56.0</td>\n",
       "      <td>-52.0</td>\n",
       "    </tr>\n",
       "    <tr>\n",
       "      <th>10469</th>\n",
       "      <td>-67.0</td>\n",
       "      <td>-70.0</td>\n",
       "      <td>-59.0</td>\n",
       "      <td>-56.0</td>\n",
       "    </tr>\n",
       "    <tr>\n",
       "      <th>1776</th>\n",
       "      <td>-54.0</td>\n",
       "      <td>-71.0</td>\n",
       "      <td>-62.0</td>\n",
       "      <td>-52.0</td>\n",
       "    </tr>\n",
       "    <tr>\n",
       "      <th>18940</th>\n",
       "      <td>-61.0</td>\n",
       "      <td>-66.0</td>\n",
       "      <td>-54.0</td>\n",
       "      <td>-60.0</td>\n",
       "    </tr>\n",
       "    <tr>\n",
       "      <th>11511</th>\n",
       "      <td>-59.0</td>\n",
       "      <td>-69.0</td>\n",
       "      <td>-57.0</td>\n",
       "      <td>-56.0</td>\n",
       "    </tr>\n",
       "    <tr>\n",
       "      <th>...</th>\n",
       "      <td>...</td>\n",
       "      <td>...</td>\n",
       "      <td>...</td>\n",
       "      <td>...</td>\n",
       "    </tr>\n",
       "    <tr>\n",
       "      <th>21575</th>\n",
       "      <td>-67.0</td>\n",
       "      <td>-57.0</td>\n",
       "      <td>-57.0</td>\n",
       "      <td>-62.0</td>\n",
       "    </tr>\n",
       "    <tr>\n",
       "      <th>5390</th>\n",
       "      <td>-61.0</td>\n",
       "      <td>-73.0</td>\n",
       "      <td>-64.0</td>\n",
       "      <td>-55.0</td>\n",
       "    </tr>\n",
       "    <tr>\n",
       "      <th>860</th>\n",
       "      <td>-64.0</td>\n",
       "      <td>-73.0</td>\n",
       "      <td>-56.0</td>\n",
       "      <td>-64.0</td>\n",
       "    </tr>\n",
       "    <tr>\n",
       "      <th>15795</th>\n",
       "      <td>-52.0</td>\n",
       "      <td>-63.0</td>\n",
       "      <td>-53.0</td>\n",
       "      <td>-64.0</td>\n",
       "    </tr>\n",
       "    <tr>\n",
       "      <th>23654</th>\n",
       "      <td>-66.0</td>\n",
       "      <td>-62.0</td>\n",
       "      <td>-61.0</td>\n",
       "      <td>-53.0</td>\n",
       "    </tr>\n",
       "  </tbody>\n",
       "</table>\n",
       "<p>17150 rows × 4 columns</p>\n",
       "</div>"
      ],
      "text/plain": [
       "       AP1_Rssi  AP2_Rssi  AP3_Rssi  AP4_Rssi\n",
       "7167      -61.0     -66.0     -56.0     -52.0\n",
       "10469     -67.0     -70.0     -59.0     -56.0\n",
       "1776      -54.0     -71.0     -62.0     -52.0\n",
       "18940     -61.0     -66.0     -54.0     -60.0\n",
       "11511     -59.0     -69.0     -57.0     -56.0\n",
       "...         ...       ...       ...       ...\n",
       "21575     -67.0     -57.0     -57.0     -62.0\n",
       "5390      -61.0     -73.0     -64.0     -55.0\n",
       "860       -64.0     -73.0     -56.0     -64.0\n",
       "15795     -52.0     -63.0     -53.0     -64.0\n",
       "23654     -66.0     -62.0     -61.0     -53.0\n",
       "\n",
       "[17150 rows x 4 columns]"
      ]
     },
     "execution_count": 93,
     "metadata": {},
     "output_type": "execute_result"
    }
   ],
   "source": [
    "amp_train"
   ]
  },
  {
   "cell_type": "markdown",
   "metadata": {},
   "source": [
    "## 4AP"
   ]
  },
  {
   "cell_type": "code",
   "execution_count": 94,
   "metadata": {},
   "outputs": [],
   "source": [
    "knn = KNeighborsClassifier(n_neighbors=3,metric='euclidean')\n"
   ]
  },
  {
   "cell_type": "code",
   "execution_count": 95,
   "metadata": {},
   "outputs": [],
   "source": [
    "knn.fit(amp_train, y_train)\n",
    "\n",
    "y_pred = knn.predict(amp_test)"
   ]
  },
  {
   "cell_type": "code",
   "execution_count": 96,
   "metadata": {},
   "outputs": [],
   "source": [
    "y_pred = np.argmax(y_pred, axis=1)"
   ]
  },
  {
   "cell_type": "code",
   "execution_count": 97,
   "metadata": {},
   "outputs": [
    {
     "data": {
      "text/plain": [
       "0.8889795918367347"
      ]
     },
     "execution_count": 97,
     "metadata": {},
     "output_type": "execute_result"
    }
   ],
   "source": [
    "accuracy_score(np.argmax(y_test, axis=1), y_pred)"
   ]
  },
  {
   "cell_type": "code",
   "execution_count": 101,
   "metadata": {},
   "outputs": [
    {
     "name": "stdout",
     "output_type": "stream",
     "text": [
      "Mean distance error: 0.3629228778215313\n"
     ]
    }
   ],
   "source": [
    "def compute_mean_distance_error(y_true, y_pred, coordinates):\n",
    "    \"\"\"\n",
    "    y_true, y_pred: 一維的 NumPy 陣列，分別存放真實和預測的 label（整數）\n",
    "    coordinates: dict, label -> (x, y)\n",
    "    \"\"\"\n",
    "    errors = []\n",
    "    for true_label, pred_label in zip(y_true, y_pred):\n",
    "        # 取出對應的座標\n",
    "        if true_label not in coordinates or pred_label not in coordinates:\n",
    "            # 若某個 label 不在座標字典內，就跳過（或視需求處理）\n",
    "            print(f\"Warning: Label {true_label} or {pred_label} not found in coordinates.\")\n",
    "            continue\n",
    "        true_coord = np.array(coordinates[true_label])\n",
    "        pred_coord = np.array(coordinates[pred_label])\n",
    "        # 計算歐氏距離\n",
    "        error = np.linalg.norm(pred_coord - true_coord)\n",
    "        errors.append(error)\n",
    "    return np.mean(errors) if errors else None\n",
    "\n",
    "COORDINATES = {\n",
    "    # 下邊界 (1-10 和 40-31)\n",
    "    1: (0, 0), 40: (0.6, 0), 39: (1.2, 0), 38: (1.8, 0), 37: (2.4, 0),\n",
    "    36: (3.0, 0), 35: (3.6, 0), 34: (4.2, 0), 33: (4.8, 0), 32: (5.4, 0), 31: (6.0, 0),\n",
    "\n",
    "    # 左邊界 (1-11)\n",
    "    2: (0, 0.6), 3: (0, 1.2), 4: (0, 1.8), 5: (0, 2.4),\n",
    "    6: (0, 3.0), 7: (0, 3.6), 8: (0, 4.2), 9: (0, 4.8), 10: (0, 5.4), 11: (0, 6.0),\n",
    "\n",
    "    # 上邊界 (11-21)\n",
    "    12: (0.6, 6.0), 13: (1.2, 6.0), 14: (1.8, 6.0), 15: (2.4, 6.0),\n",
    "    16: (3.0, 6.0), 17: (3.6, 6.0), 18: (4.2, 6.0), 19: (4.8, 6.0),\n",
    "    20: (5.4, 6.0), 21: (6.0, 6.0),\n",
    "\n",
    "    # 右邊界 (21-31)\n",
    "    22: (6.0, 5.4), 23: (6.0, 4.8), 24: (6.0, 4.2), 25: (6.0, 3.6),\n",
    "    26: (6.0, 3.0), 27: (6.0, 2.4), 28: (6.0, 1.8), 29: (6.0, 1.2), 30: (6.0, 0.6),\n",
    "\n",
    "    # 中間點 (41-49)\n",
    "    41: (3.0, 0.6), 42: (3.0, 1.2), 43: (3.0, 1.8),\n",
    "    44: (3.0, 2.4), 45: (3.0, 3.0), 46: (3.0, 3.6),\n",
    "    47: (3.0, 4.2), 48: (3.0, 4.8), 49: (3.0, 5.4)\n",
    "}\n",
    "\n",
    "mean_error = compute_mean_distance_error(np.argmax(y_test, axis=1)+1, y_pred+1, COORDINATES )\n",
    "print(\"Mean distance error:\", mean_error)"
   ]
  },
  {
   "cell_type": "code",
   "execution_count": null,
   "metadata": {},
   "outputs": [],
   "source": []
  },
  {
   "cell_type": "code",
   "execution_count": 64,
   "metadata": {},
   "outputs": [
    {
     "data": {
      "image/png": "[encoded data removed]",
      "text/plain": [
       "<Figure size 600x800 with 1 Axes>"
      ]
     },
     "metadata": {},
     "output_type": "display_data"
    }
   ],
   "source": [
    "import numpy as np\n",
    "import matplotlib.pyplot as plt\n",
    "\n",
    "# 計算每筆資料的距離誤差\n",
    "\n",
    "def compute_individual_errors_cls(y_true, y_pred, coordinates):\n",
    "    \"\"\"\n",
    "    y_true, y_pred: 一維的 NumPy 陣列，分別存放真實和預測的 label（整數）\n",
    "    coordinates: dict, label -> (x, y)\n",
    "    \"\"\"\n",
    "    errors = []\n",
    "    for true_label, pred_label in zip(y_true, y_pred):\n",
    "        # 若某個標籤不在字典中，就跳過\n",
    "        if true_label not in coordinates or pred_label not in coordinates:\n",
    "            continue\n",
    "        true_coord = np.array(coordinates[true_label])\n",
    "        pred_coord = np.array(coordinates[pred_label])\n",
    "        error = np.linalg.norm(pred_coord - true_coord)\n",
    "        errors.append(error)\n",
    "    return np.array(errors)\n",
    "errors = compute_individual_errors_cls(np.argmax(y_test, axis=1), y_pred, COORDINATES)\n",
    "\n",
    "# 繪製箱型圖\n",
    "plt.figure(figsize=(6, 8))\n",
    "plt.boxplot(errors, vert=True, patch_artist=True, boxprops=dict(facecolor=\"skyblue\"))\n",
    "plt.ylabel(\"Distance Error\")\n",
    "plt.title(\"Box Plot of Classification MDE\")\n",
    "plt.grid(True)\n",
    "\n",
    "plt.show()"
   ]
  },
  {
   "cell_type": "markdown",
   "metadata": {},
   "source": [
    "#3AP"
   ]
  },
  {
   "cell_type": "code",
   "execution_count": 102,
   "metadata": {},
   "outputs": [],
   "source": [
    "amp_train, amp_temp, y_train, y_temp = train_test_split(rssi3ap, one_hot_labels, test_size=0.3, random_state=42)\n",
    "amp_val, amp_test, y_val, y_test = train_test_split(amp_temp, y_temp, test_size=1/3, random_state=42)"
   ]
  },
  {
   "cell_type": "code",
   "execution_count": 103,
   "metadata": {},
   "outputs": [
    {
     "data": {
      "text/plain": [
       "0.8261224489795919"
      ]
     },
     "execution_count": 103,
     "metadata": {},
     "output_type": "execute_result"
    }
   ],
   "source": [
    "knn = KNeighborsClassifier(n_neighbors=3,metric='euclidean')\n",
    "knn.fit(amp_train, y_train)\n",
    "\n",
    "y_pred = knn.predict(amp_test)\n",
    "\n",
    "accuracy_score(np.argmax(y_test, axis=1), np.argmax(y_pred, axis=1))"
   ]
  },
  {
   "cell_type": "code",
   "execution_count": 106,
   "metadata": {},
   "outputs": [
    {
     "name": "stdout",
     "output_type": "stream",
     "text": [
      "Mean distance error: 0.6365998793980049\n"
     ]
    }
   ],
   "source": [
    "mean_error = compute_mean_distance_error(np.argmax(y_test, axis=1)+1, np.argmax(y_pred, axis=1)+1, COORDINATES)\n",
    "print(\"Mean distance error:\", mean_error)"
   ]
  },
  {
   "cell_type": "markdown",
   "metadata": {},
   "source": [
    "#2AP"
   ]
  },
  {
   "cell_type": "code",
   "execution_count": 107,
   "metadata": {},
   "outputs": [],
   "source": [
    "amp_train, amp_temp, y_train, y_temp = train_test_split(rssi2ap, one_hot_labels, test_size=0.3, random_state=42)\n",
    "amp_val, amp_test, y_val, y_test = train_test_split(amp_temp, y_temp, test_size=1/3, random_state=42)"
   ]
  },
  {
   "cell_type": "code",
   "execution_count": 108,
   "metadata": {},
   "outputs": [
    {
     "data": {
      "text/plain": [
       "0.5216326530612245"
      ]
     },
     "execution_count": 108,
     "metadata": {},
     "output_type": "execute_result"
    }
   ],
   "source": [
    "knn = KNeighborsClassifier(n_neighbors=3,metric='euclidean')\n",
    "knn.fit(amp_train, y_train)\n",
    "\n",
    "y_pred = knn.predict(amp_test)\n",
    "\n",
    "accuracy_score(np.argmax(y_test, axis=1), np.argmax(y_pred, axis=1))"
   ]
  },
  {
   "cell_type": "code",
   "execution_count": 110,
   "metadata": {},
   "outputs": [
    {
     "name": "stdout",
     "output_type": "stream",
     "text": [
      "Mean distance error: 1.912722366422191\n"
     ]
    }
   ],
   "source": [
    "mean_error = compute_mean_distance_error(np.argmax(y_test, axis=1)+1, np.argmax(y_pred, axis=1)+1, COORDINATES)\n",
    "print(\"Mean distance error:\", mean_error)"
   ]
  },
  {
   "cell_type": "markdown",
   "metadata": {},
   "source": [
    "#1AP"
   ]
  },
  {
   "cell_type": "code",
   "execution_count": 111,
   "metadata": {},
   "outputs": [],
   "source": [
    "amp_train, amp_temp, y_train, y_temp = train_test_split(rssi1ap, one_hot_labels, test_size=0.3, random_state=42)\n",
    "amp_val, amp_test, y_val, y_test = train_test_split(amp_temp, y_temp, test_size=1/3, random_state=42)"
   ]
  },
  {
   "cell_type": "code",
   "execution_count": 112,
   "metadata": {},
   "outputs": [
    {
     "data": {
      "text/plain": [
       "0.12612244897959185"
      ]
     },
     "execution_count": 112,
     "metadata": {},
     "output_type": "execute_result"
    }
   ],
   "source": [
    "knn = KNeighborsClassifier(n_neighbors=3,metric='euclidean')\n",
    "knn.fit(amp_train, y_train)\n",
    "\n",
    "y_pred = knn.predict(amp_test)\n",
    "\n",
    "accuracy_score(np.argmax(y_test, axis=1), np.argmax(y_pred, axis=1))"
   ]
  },
  {
   "cell_type": "code",
   "execution_count": 113,
   "metadata": {},
   "outputs": [
    {
     "name": "stdout",
     "output_type": "stream",
     "text": [
      "Mean distance error: 3.6022763174909644\n"
     ]
    }
   ],
   "source": [
    "mean_error = compute_mean_distance_error(np.argmax(y_test, axis=1)+1, np.argmax(y_pred, axis=1)+1, COORDINATES)\n",
    "print(\"Mean distance error:\", mean_error)"
   ]
  },
  {
   "cell_type": "code",
   "execution_count": null,
   "metadata": {},
   "outputs": [
    {
     "name": "stderr",
     "output_type": "stream",
     "text": [
      "/home/mcs/anaconda3/envs/kyle_ai/lib/python3.12/site-packages/sklearn/model_selection/_split.py:805: UserWarning: The least populated class in y has only 3 members, which is less than n_splits=5.\n",
      "  warnings.warn(\n"
     ]
    },
    {
     "name": "stdout",
     "output_type": "stream",
     "text": [
      "Fold 準確率: 0.9376\n",
      "Fold 準確率: 0.9306\n",
      "Fold 準確率: 0.9386\n",
      "Fold 準確率: 0.9363\n",
      "Fold 準確率: 0.9422\n",
      "\n",
      "📊 N-FOLD 交叉驗證結果\n",
      "⏱️ 平均準確率: 93.71%\n",
      "📉 準確率標準差: 0.38%\n"
     ]
    }
   ],
   "source": [
    "from sklearn.model_selection import StratifiedKFold\n",
    "from sklearn.metrics import accuracy_score\n",
    "import numpy as np\n",
    "\n",
    "# 設定 N-Fold 交叉驗證\n",
    "N_FOLD = 5  # 設定 N 為 10\n",
    "skf = StratifiedKFold(n_splits=N_FOLD, shuffle=True, random_state=1)\n",
    "\n",
    "accuracies = []  # 儲存每次 Fold 的準確率\n",
    " \n",
    "# 轉換 one-hot 標籤為標籤索引\n",
    "y_labels = np.argmax(one_hot_labels, axis=1)  # 轉換成 (N,)\n",
    "\n",
    "# 開始 N-Fold 交叉驗證\n",
    "for train_index, test_index in skf.split(rssi, y_labels):  # ✅ 使用標籤索引\n",
    "    X_train, X_test = rssi.iloc[train_index],rssi.iloc[test_index]\n",
    "    y_train, y_test = y_labels[train_index], y_labels[test_index]  # ✅ 確保 y_train, y_test 是 (N,)\n",
    "\n",
    "    # 訓練 KNN 模型\n",
    "    knn.fit(X_train, y_train)\n",
    "\n",
    "    # 進行預測\n",
    "    y_pred = knn.predict(X_test)\n",
    "\n",
    "    # 計算準確率\n",
    "    acc = accuracy_score(y_test, y_pred)\n",
    "    accuracies.append(acc)\n",
    "\n",
    "    print(f\"Fold 準確率: {acc:.4f}\")\n",
    "\n",
    "# 計算 N-Fold 平均準確率與標準差\n",
    "mean_acc = np.mean(accuracies)\n",
    "std_acc = np.std(accuracies)\n",
    "\n",
    "print(\"\\n📊 N-FOLD 交叉驗證結果\")\n",
    "print(f\"⏱️ 平均準確率: {mean_acc * 100:.2f}%\")\n",
    "print(f\"📉 準確率標準差: {std_acc * 100:.2f}%\")\n"
   ]
  },
  {
   "cell_type": "code",
   "execution_count": null,
   "metadata": {},
   "outputs": [],
   "source": []
  },
  {
   "cell_type": "code",
   "execution_count": 36,
   "metadata": {},
   "outputs": [],
   "source": [
    "knn = KNeighborsClassifier(n_neighbors=3, weights='distance', metric='manhattan')"
   ]
  },
  {
   "cell_type": "code",
   "execution_count": 37,
   "metadata": {},
   "outputs": [
    {
     "name": "stderr",
     "output_type": "stream",
     "text": [
      "\n",
      "KeyboardInterrupt\n",
      "\n"
     ]
    }
   ],
   "source": [
    "import time\n",
    "import numpy as np\n",
    "\n",
    "\n",
    "total_times = []  # 儲存 N 次的總推論時間\n",
    "sample_times = []  # 儲存 N 次的單筆推論時間\n",
    "knn.fit(amp_train, y_train)\n",
    "start_time = time.perf_counter()\n",
    "y_pred = knn.predict(amp_test)  # 進行 KNN 預測\n",
    "end_time = time.perf_counter()\n",
    "\n",
    "total_time = end_time - start_time  # 計算 KNN 預測總時間\n",
    "print(f\"總推論時間: {total_time:.6f} 秒\")\n",
    "total_times.append(total_time)\n",
    "\n",
    "avg_time_per_sample = total_time / len(amp_test)  # 計算每筆資料的平均推論時間\n",
    "sample_times.append(avg_time_per_sample)\n",
    "\n",
    "# 計算統計數據\n",
    "mean_total_time = np.mean(total_times)\n",
    "mean_sample_time = np.mean(sample_times)\n",
    "std_sample_time = np.std(sample_times)\n",
    "\n",
    "# 顯示結果\n",
    "print(f\"📊 N-FOLD 測試結果（共 {N_FOLD} 次）\")\n",
    "print(f\"⏳ 平均每次總推論時間: {mean_total_time:.6f} 秒\")\n",
    "print(f\"⏱️ 平均每筆資料推論時間: {mean_sample_time * 1000:.6f} 毫秒\")\n",
    "print(f\"📉 單筆推論時間標準差: {std_sample_time * 1000:.6f} 毫秒\")\n",
    "\n",
    "\n",
    "\n"
   ]
  },
  {
   "cell_type": "code",
   "execution_count": 117,
   "metadata": {},
   "outputs": [
    {
     "name": "stdout",
     "output_type": "stream",
     "text": [
      "[19  0 26 ...  0 14 14]\n"
     ]
    }
   ],
   "source": [
    "y_pred = np.argmax(y_pred, axis=1)\n",
    "\n",
    "print(y_pred)"
   ]
  },
  {
   "cell_type": "code",
   "execution_count": 118,
   "metadata": {},
   "outputs": [
    {
     "name": "stdout",
     "output_type": "stream",
     "text": [
      "Mean distance error: 0.01992725233184797\n"
     ]
    }
   ],
   "source": [
    "\n"
   ]
  },
  {
   "cell_type": "markdown",
   "metadata": {},
   "source": [
    "## 3AP"
   ]
  },
  {
   "cell_type": "code",
   "execution_count": 122,
   "metadata": {},
   "outputs": [
    {
     "name": "stdout",
     "output_type": "stream",
     "text": [
      "Fold 準確率: 0.4518\n",
      "Fold 準確率: 0.4490\n",
      "Fold 準確率: 0.4431\n",
      "Fold 準確率: 0.4445\n",
      "Fold 準確率: 0.4537\n",
      "\n",
      "📊 N-FOLD 交叉驗證結果\n",
      "⏱️ 平均準確率: 44.84%\n",
      "📉 準確率標準差: 0.41%\n"
     ]
    }
   ],
   "source": [
    "skf = StratifiedKFold(n_splits=N_FOLD, shuffle=True, random_state=42)\n",
    "\n",
    "accuracies = []  # 儲存每次 Fold 的準確率\n",
    "\n",
    "# 轉換 one-hot 標籤為標籤索引\n",
    "y_labels = np.argmax(one_hot_labels, axis=1)  # 轉換成 (N,)\n",
    "\n",
    "# 開始 N-Fold 交叉驗證\n",
    "for train_index, test_index in skf.split(rssi3ap, y_labels):  # ✅ 使用標籤索引\n",
    "    X_train, X_test = rssi3ap.iloc[train_index],rssi3ap.iloc[test_index]\n",
    "    y_train, y_test = y_labels[train_index], y_labels[test_index]  # ✅ 確保 y_train, y_test 是 (N,)\n",
    "\n",
    "    # 訓練 KNN 模型\n",
    "    knn.fit(X_train, y_train)\n",
    "\n",
    "    # 進行預測\n",
    "    y_pred = knn.predict(X_test)\n",
    "\n",
    "    # 計算準確率\n",
    "    acc = accuracy_score(y_test, y_pred)\n",
    "    accuracies.append(acc)\n",
    "\n",
    "    print(f\"Fold 準確率: {acc:.4f}\")\n",
    "\n",
    "# 計算 N-Fold 平均準確率與標準差\n",
    "mean_acc = np.mean(accuracies)\n",
    "std_acc = np.std(accuracies)\n",
    "\n",
    "print(\"\\n📊 N-FOLD 交叉驗證結果\")\n",
    "print(f\"⏱️ 平均準確率: {mean_acc * 100:.2f}%\")\n",
    "print(f\"📉 準確率標準差: {std_acc * 100:.2f}%\")"
   ]
  },
  {
   "cell_type": "code",
   "execution_count": 32,
   "metadata": {},
   "outputs": [
    {
     "name": "stdout",
     "output_type": "stream",
     "text": [
      "Fold 準確率: 0.1972\n",
      "Fold 準確率: 0.2064\n",
      "Fold 準確率: 0.2061\n",
      "Fold 準確率: 0.2198\n",
      "Fold 準確率: 0.1995\n",
      "\n",
      "📊 N-FOLD 交叉驗證結果\n",
      "⏱️ 平均準確率: 20.58%\n",
      "📉 準確率標準差: 0.79%\n"
     ]
    },
    {
     "name": "stderr",
     "output_type": "stream",
     "text": [
      "/home/mcs/anaconda3/envs/kyle_ai/lib/python3.12/site-packages/sklearn/model_selection/_split.py:805: UserWarning: The least populated class in y has only 2 members, which is less than n_splits=5.\n",
      "  warnings.warn(\n"
     ]
    }
   ],
   "source": [
    "skf = StratifiedKFold(n_splits=N_FOLD, shuffle=True, random_state=42)\n",
    "\n",
    "accuracies = []  # 儲存每次 Fold 的準確率\n",
    "\n",
    "# 轉換 one-hot 標籤為標籤索引\n",
    "y_labels = np.argmax(one_hot_labels, axis=1)  # 轉換成 (N,)\n",
    "\n",
    "# 開始 N-Fold 交叉驗證\n",
    "for train_index, test_index in skf.split(rssi2ap, y_labels):  # ✅ 使用標籤索引\n",
    "    X_train, X_test = rssi2ap.iloc[train_index],rssi2ap.iloc[test_index]\n",
    "    y_train, y_test = y_labels[train_index], y_labels[test_index]  # ✅ 確保 y_train, y_test 是 (N,)\n",
    "\n",
    "    # 訓練 KNN 模型\n",
    "    knn.fit(X_train, y_train)\n",
    "\n",
    "    # 進行預測\n",
    "    y_pred = knn.predict(X_test)\n",
    "\n",
    "    # 計算準確率\n",
    "    acc = accuracy_score(y_test, y_pred)\n",
    "    accuracies.append(acc)\n",
    "\n",
    "    print(f\"Fold 準確率: {acc:.4f}\")\n",
    "\n",
    "# 計算 N-Fold 平均準確率與標準差\n",
    "mean_acc = np.mean(accuracies)\n",
    "std_acc = np.std(accuracies)\n",
    "\n",
    "print(\"\\n📊 N-FOLD 交叉驗證結果\")\n",
    "print(f\"⏱️ 平均準確率: {mean_acc * 100:.2f}%\")\n",
    "print(f\"📉 準確率標準差: {std_acc * 100:.2f}%\")"
   ]
  },
  {
   "cell_type": "code",
   "execution_count": 33,
   "metadata": {},
   "outputs": [
    {
     "name": "stdout",
     "output_type": "stream",
     "text": [
      "Fold 準確率: 0.0746\n",
      "Fold 準確率: 0.0845\n",
      "Fold 準確率: 0.0659\n",
      "Fold 準確率: 0.0710\n",
      "Fold 準確率: 0.0939\n",
      "\n",
      "📊 N-FOLD 交叉驗證結果\n",
      "⏱️ 平均準確率: 7.80%\n",
      "📉 準確率標準差: 1.00%\n"
     ]
    },
    {
     "name": "stderr",
     "output_type": "stream",
     "text": [
      "/home/mcs/anaconda3/envs/kyle_ai/lib/python3.12/site-packages/sklearn/model_selection/_split.py:805: UserWarning: The least populated class in y has only 2 members, which is less than n_splits=5.\n",
      "  warnings.warn(\n"
     ]
    }
   ],
   "source": [
    "skf = StratifiedKFold(n_splits=N_FOLD, shuffle=True, random_state=42)\n",
    "\n",
    "accuracies = []  # 儲存每次 Fold 的準確率\n",
    "\n",
    "# 轉換 one-hot 標籤為標籤索引\n",
    "y_labels = np.argmax(one_hot_labels, axis=1)  # 轉換成 (N,)\n",
    "\n",
    "# 開始 N-Fold 交叉驗證\n",
    "for train_index, test_index in skf.split(rssi1ap, y_labels):  # ✅ 使用標籤索引\n",
    "    X_train, X_test = rssi1ap.iloc[train_index],rssi1ap.iloc[test_index]\n",
    "    y_train, y_test = y_labels[train_index], y_labels[test_index]  # ✅ 確保 y_train, y_test 是 (N,)\n",
    "\n",
    "    # 訓練 KNN 模型\n",
    "    knn.fit(X_train, y_train)\n",
    "\n",
    "    # 進行預測\n",
    "    y_pred = knn.predict(X_test)\n",
    "\n",
    "    # 計算準確率\n",
    "    acc = accuracy_score(y_test, y_pred)\n",
    "    accuracies.append(acc)\n",
    "\n",
    "    print(f\"Fold 準確率: {acc:.4f}\")\n",
    "\n",
    "# 計算 N-Fold 平均準確率與標準差\n",
    "mean_acc = np.mean(accuracies)\n",
    "std_acc = np.std(accuracies)\n",
    "\n",
    "print(\"\\n📊 N-FOLD 交叉驗證結果\")\n",
    "print(f\"⏱️ 平均準確率: {mean_acc * 100:.2f}%\")\n",
    "print(f\"📉 準確率標準差: {std_acc * 100:.2f}%\")"
   ]
  },
  {
   "cell_type": "markdown",
   "metadata": {},
   "source": [
    "# Regression"
   ]
  },
  {
   "cell_type": "code",
   "execution_count": 53,
   "metadata": {},
   "outputs": [],
   "source": [
    "coor_array = np.array(coor)\n",
    "coor_list =[]\n",
    "for i in range(coor_array.shape[0]):\n",
    "    coor_list.append([coor_array[i][0], coor_array[i][1]]) \n",
    "    \n"
   ]
  },
  {
   "cell_type": "code",
   "execution_count": 62,
   "metadata": {},
   "outputs": [
    {
     "name": "stdout",
     "output_type": "stream",
     "text": [
      "(19649, 2)\n",
      "Fold 1 mean distance: 0.3845\n",
      "Fold 2 mean distance: 0.3746\n",
      "Fold 3 mean distance: 0.3913\n",
      "Fold 4 mean distance: 0.3903\n",
      "Fold 5 mean distance: 0.3650\n",
      "\n",
      "📊 5-Fold結果\n",
      "Average distance across folds: 0.3811\n",
      "Std of distance across folds:   0.0100\n"
     ]
    },
    {
     "data": {
      "image/png": "[encoded data removed]",
      "text/plain": [
       "<Figure size 600x400 with 1 Axes>"
      ]
     },
     "metadata": {},
     "output_type": "display_data"
    }
   ],
   "source": [
    "import numpy as np\n",
    "from sklearn.model_selection import KFold\n",
    "from sklearn.neighbors import KNeighborsRegressor\n",
    "import matplotlib.pyplot as plt\n",
    "\n",
    "kf = KFold(n_splits=5, shuffle=True, random_state=1)\n",
    "model = KNeighborsRegressor(n_neighbors=5)\n",
    "\n",
    "distances_per_fold = []\n",
    "all_distances = []  # <-- 儲存所有測試樣本的誤差\n",
    "\n",
    "coor_array = np.array(coor_list)  # (N, 2)\n",
    "print(coor_array.shape)  # 應該是 (N, 2)\n",
    "\n",
    "for fold_id, (train_idx, test_idx) in enumerate(kf.split(rssi, coor_array), start=1):\n",
    "    X_train, X_test = rssi.iloc[train_idx], rssi.iloc[test_idx]\n",
    "    Y_train, Y_test = coor_array[train_idx], coor_array[test_idx]\n",
    "\n",
    "    # 訓練\n",
    "    model.fit(X_train, Y_train)\n",
    "\n",
    "    # 預測\n",
    "    Y_pred = model.predict(X_test)  # shape (M, 2)\n",
    "\n",
    "    # 計算每筆樣本歐幾里得距離\n",
    "    distances = np.linalg.norm(Y_test - Y_pred, axis=1)  # shape (M,)\n",
    "    all_distances.extend(distances)  # 把本 fold 的所有距離加入總列表\n",
    "\n",
    "    # 取平均並存到 distances_per_fold\n",
    "    mean_dist = np.mean(distances)\n",
    "    distances_per_fold.append(mean_dist)\n",
    "\n",
    "    print(f\"Fold {fold_id} mean distance: {mean_dist:.4f}\")\n",
    "\n",
    "# 統計 5-Fold 的平均與標準差\n",
    "fold_mean = np.mean(distances_per_fold)\n",
    "fold_std  = np.std(distances_per_fold)\n",
    "\n",
    "print(\"\\n📊 5-Fold結果\")\n",
    "print(f\"Average distance across folds: {fold_mean:.4f}\")\n",
    "print(f\"Std of distance across folds:   {fold_std:.4f}\")\n",
    "\n",
    "# --------------------------------------------------------------------\n",
    "# 2. 繪製所有測試樣本的誤差 CDF\n",
    "# --------------------------------------------------------------------\n",
    "all_distances = np.array(all_distances)  # 轉成 NumPy array\n",
    "# 依照數值由小到大排序\n",
    "sorted_distances = np.sort(all_distances)\n",
    "N = len(sorted_distances)\n",
    "\n",
    "# CDF：第 i 個樣本 (排序後) 對應的累積機率 i / N\n",
    "cdf_values = np.arange(1, N + 1) / N\n",
    "\n",
    "plt.figure(figsize=(6, 4))\n",
    "plt.plot(sorted_distances, cdf_values, marker='.', linestyle='none')\n",
    "plt.xlabel('Distance Error')\n",
    "plt.ylabel('CDF')\n",
    "plt.title('CDF of Distance Errors (All Folds)')\n",
    "plt.show()\n"
   ]
  },
  {
   "cell_type": "code",
   "execution_count": null,
   "metadata": {},
   "outputs": [],
   "source": []
  },
  {
   "cell_type": "code",
   "execution_count": 64,
   "metadata": {},
   "outputs": [
    {
     "name": "stdout",
     "output_type": "stream",
     "text": [
      "(19649, 2)\n",
      "Fold 1 mean distance: 0.7966\n",
      "Fold 2 mean distance: 0.7937\n",
      "Fold 3 mean distance: 0.7653\n",
      "Fold 4 mean distance: 0.8260\n",
      "Fold 5 mean distance: 0.8109\n",
      "\n",
      "📊 5-Fold結果\n",
      "Average distance across folds: 0.7985\n",
      "Std of distance across folds:   0.0202\n"
     ]
    },
    {
     "data": {
      "image/png": "[encoded data removed]",
      "text/plain": [
       "<Figure size 600x400 with 1 Axes>"
      ]
     },
     "metadata": {},
     "output_type": "display_data"
    }
   ],
   "source": [
    "import numpy as np\n",
    "from sklearn.model_selection import KFold\n",
    "from sklearn.neighbors import KNeighborsRegressor\n",
    "import matplotlib.pyplot as plt\n",
    "\n",
    "kf = KFold(n_splits=5, shuffle=True, random_state=1)\n",
    "model = KNeighborsRegressor(n_neighbors=5)\n",
    "\n",
    "distances_per_fold = []\n",
    "all_distances = []  # <-- 儲存所有測試樣本的誤差\n",
    "\n",
    "coor_array = np.array(coor_list)  # (N, 2)\n",
    "print(coor_array.shape)  # 應該是 (N, 2)\n",
    "\n",
    "for fold_id, (train_idx, test_idx) in enumerate(kf.split(rssi3ap, coor_array), start=1):\n",
    "    X_train, X_test = rssi3ap.iloc[train_idx], rssi3ap.iloc[test_idx]\n",
    "    Y_train, Y_test = coor_array[train_idx], coor_array[test_idx]\n",
    "\n",
    "    # 訓練\n",
    "    model.fit(X_train, Y_train)\n",
    "\n",
    "    # 預測\n",
    "    Y_pred = model.predict(X_test)  # shape (M, 2)\n",
    "\n",
    "    # 計算每筆樣本歐幾里得距離\n",
    "    distances = np.linalg.norm(Y_test - Y_pred, axis=1)  # shape (M,)\n",
    "    all_distances.extend(distances)  # 把本 fold 的所有距離加入總列表\n",
    "\n",
    "    # 取平均並存到 distances_per_fold\n",
    "    mean_dist = np.mean(distances)\n",
    "    distances_per_fold.append(mean_dist)\n",
    "\n",
    "    print(f\"Fold {fold_id} mean distance: {mean_dist:.4f}\")\n",
    "\n",
    "# 統計 5-Fold 的平均與標準差\n",
    "fold_mean = np.mean(distances_per_fold)\n",
    "fold_std  = np.std(distances_per_fold)\n",
    "\n",
    "print(\"\\n📊 5-Fold結果\")\n",
    "print(f\"Average distance across folds: {fold_mean:.4f}\")\n",
    "print(f\"Std of distance across folds:   {fold_std:.4f}\")\n",
    "\n",
    "# --------------------------------------------------------------------\n",
    "# 2. 繪製所有測試樣本的誤差 CDF\n",
    "# --------------------------------------------------------------------\n",
    "all_distances = np.array(all_distances)  # 轉成 NumPy array\n",
    "# 依照數值由小到大排序\n",
    "sorted_distances = np.sort(all_distances)\n",
    "N = len(sorted_distances)\n",
    "\n",
    "# CDF：第 i 個樣本 (排序後) 對應的累積機率 i / N\n",
    "cdf_values = np.arange(1, N + 1) / N\n",
    "\n",
    "plt.figure(figsize=(6, 4))\n",
    "plt.plot(sorted_distances, cdf_values, marker='.', linestyle='none')\n",
    "plt.xlabel('Distance Error')\n",
    "plt.ylabel('CDF')\n",
    "plt.title('CDF of Distance Errors (All Folds)')\n",
    "plt.show()"
   ]
  },
  {
   "cell_type": "code",
   "execution_count": 65,
   "metadata": {},
   "outputs": [
    {
     "name": "stdout",
     "output_type": "stream",
     "text": [
      "(19649, 2)\n",
      "Fold mean distance: 2.0881\n",
      "Fold mean distance: 2.1564\n",
      "Fold mean distance: 2.1476\n",
      "Fold mean distance: 2.1479\n",
      "Fold mean distance: 2.1099\n",
      "\n",
      "📊 5-Fold結果\n",
      "Average distance across folds: 2.1300\n",
      "Std of distance across folds:   0.0264\n"
     ]
    }
   ],
   "source": [
    "import numpy as np\n",
    "from sklearn.model_selection import KFold\n",
    "from sklearn.neighbors import KNeighborsRegressor\n",
    "from sklearn.metrics import mean_squared_error\n",
    "\n",
    "# (1) 建立資料: X.shape = (N, d)，Y.shape = (N, 2)\n",
    "#     例如 Y 就是 (x, y) 的真實位置。\n",
    "# (2) 建立 K-Fold\n",
    "kf = KFold(n_splits=5, shuffle=True, random_state=1)\n",
    "\n",
    "model = KNeighborsRegressor(n_neighbors=5)  # KNN 迴歸為例\n",
    "\n",
    "distances_per_fold = []  # 這裡存「平均歐幾里得距離」結果\n",
    "\n",
    "coor_array = np.array(coor_list)  # 轉成 ndarray\n",
    "# 檢查 shape\n",
    "print(coor_array.shape)  # 應該要 (N, 2)\n",
    "\n",
    "for train_idx, test_idx in kf.split(rssi2ap,coor_array):\n",
    "    X_train, X_test = rssi2ap.iloc[train_idx], rssi2ap.iloc[test_idx]\n",
    "    Y_train, Y_test = coor_array[train_idx],coor_array[test_idx]  # Y 是 (N, 2)\n",
    "\n",
    "    # (3) 訓練模型\n",
    "    model.fit(X_train, Y_train)\n",
    "\n",
    "    # (4) 預測\n",
    "    Y_pred = model.predict(X_test)  # shape (M, 2)\n",
    "\n",
    "    # (5) 計算「每筆樣本」的歐幾里得距離 => 取平均\n",
    "    distances = np.linalg.norm(Y_test - Y_pred, axis=1)\n",
    "    mean_dist = np.mean(distances)\n",
    "    distances_per_fold.append(mean_dist)\n",
    "\n",
    "    print(f\"Fold mean distance: {mean_dist:.4f}\")\n",
    "\n",
    "# 計算5折平均\n",
    "fold_mean = np.mean(distances_per_fold)\n",
    "fold_std  = np.std(distances_per_fold)\n",
    "print(\"\\n📊 5-Fold結果\")\n",
    "print(f\"Average distance across folds: {fold_mean:.4f}\")\n",
    "print(f\"Std of distance across folds:   {fold_std:.4f}\")"
   ]
  }
 ],
 "metadata": {
  "kernelspec": {
   "display_name": "kyle_ai",
   "language": "python",
   "name": "python3"
  },
  "language_info": {
   "codemirror_mode": {
    "name": "ipython",
    "version": 3
   },
   "file_extension": ".py",
   "mimetype": "text/x-python",
   "name": "python",
   "nbconvert_exporter": "python",
   "pygments_lexer": "ipython3",
   "version": "3.12.0"
  }
 },
 "nbformat": 4,
 "nbformat_minor": 2
}
