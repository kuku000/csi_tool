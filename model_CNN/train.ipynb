{
 "cells": [
  {
   "cell_type": "markdown",
   "metadata": {},
   "source": [
    "# CNN 模型預測"
   ]
  },
  {
   "cell_type": "code",
   "execution_count": 1,
   "metadata": {},
   "outputs": [],
   "source": [
    "import torch\n",
    "from torch.utils.data import Dataset, DataLoader\n",
    "import numpy as np\n",
    "from sklearn.model_selection import train_test_split\n",
    "from sklearn.preprocessing import OneHotEncoder\n",
    "import sys, os\n",
    "import pandas as pd\n",
    "import matplotlib.pyplot as plt\n",
    "\n",
    "from csidataset import *\n",
    "import data_loader\n",
    "from data_loader import *\n",
    "sys.path.append(\"/media/mcs/1441ae67-d7cd-43e6-b028-169f78661a2f/kyle/csi_tool\")\n",
    "import denoise\n",
    "from model import *"
   ]
  },
  {
   "cell_type": "code",
   "execution_count": 3,
   "metadata": {},
   "outputs": [],
   "source": [
    "base_path = \"/media/mcs/1441ae67-d7cd-43e6-b028-169f78661a2f/kyle/csi_tool/csi_dataset/localization_phone/1221_phone/5G/20Mhz/csv/all\"\n",
    "base_path2 = \"/media/mcs/1441ae67-d7cd-43e6-b028-169f78661a2f/kyle/csi_tool/csi_dataset/localization_phone/1222_phone/5G/20MHz/csv/all\"\n",
    "base_path3 = \"/media/mcs/1441ae67-d7cd-43e6-b028-169f78661a2f/kyle/csi_tool/csi_dataset/localization_phone/1223_phone/5G/20MHz/csv/all\""
   ]
  },
  {
   "cell_type": "code",
   "execution_count": 4,
   "metadata": {},
   "outputs": [],
   "source": [
    "reference_points = {}\n",
    "reference_points2 = {}\n",
    "reference_points3 = {}\n",
    "spacing = 0.6  # 每隔 0.6m\n",
    "\n",
    "for ref_id, coord in data_loader.COORDINATES.items():\n",
    "    folder_path = os.path.join(base_path, f\"reference_point_{ref_id}.xlsx\")\n",
    "    reference_points[folder_path] = (ref_id, coord)\n",
    "\n",
    "for ref_id, coord in data_loader.COORDINATES.items():\n",
    "    folder_path = os.path.join(base_path2, f\"reference_point_{ref_id}.xlsx\")\n",
    "    reference_points2[folder_path] = (ref_id, coord)\n",
    "\n",
    "\n",
    "for ref_id, coord in data_loader.COORDINATES.items():\n",
    "    folder_path = os.path.join(base_path3, f\"reference_point_{ref_id}.xlsx\")\n",
    "    reference_points3[folder_path] = (ref_id, coord)"
   ]
  },
  {
   "cell_type": "code",
   "execution_count": 5,
   "metadata": {},
   "outputs": [],
   "source": [
    "data, rp_labels, coord_labels = load_data(reference_points)\n",
    "data2, rp_labels2, coord_labels2 = load_data(reference_points2)\n",
    "data3, rp_labels3, coord_labels3 = load_data(reference_points3)"
   ]
  },
  {
   "cell_type": "code",
   "execution_count": 6,
   "metadata": {},
   "outputs": [],
   "source": [
    "amp_data = np.array(data.iloc[:, :48])  # 前 48 列是CFR\n",
    "phase_data = np.array(data.iloc[:, 48:-2])  # 後 48 列是CIR\n",
    "\n",
    "amp_data2 = np.array(data2.iloc[:, :48])  # 前 48 列是CFR\n",
    "phase_data2 = np.array(data2.iloc[:, 48:-2])  # 後 48 列是CIR\n",
    "\n",
    "amp_data3 = np.array(data3.iloc[:, :48])  # 前 48 列是CFR\n",
    "phase_data3 = np.array(data3.iloc[:, 48:-2])  # 後 48 列是CIR"
   ]
  },
  {
   "cell_type": "code",
   "execution_count": 7,
   "metadata": {},
   "outputs": [],
   "source": [
    "amp_data1_2 = np.concatenate((amp_data, amp_data2), axis=0)\n",
    "phase_data1_2 = np.concatenate((phase_data, phase_data2), axis=0)\n",
    "rp_labels1_2 = np.concatenate((rp_labels, rp_labels2), axis=0)\n",
    "coord_labels1_2 = np.concatenate((coord_labels, coord_labels2), axis=0)"
   ]
  },
  {
   "cell_type": "code",
   "execution_count": 8,
   "metadata": {},
   "outputs": [],
   "source": [
    "amp_d12 = denoise.preprocess_csi_for_fingerprint2(amp_data1_2)\n",
    "amp_d3 = denoise.preprocess_csi_for_fingerprint2(amp_data3)"
   ]
  },
  {
   "cell_type": "code",
   "execution_count": 10,
   "metadata": {},
   "outputs": [],
   "source": [
    "encoder = OneHotEncoder(sparse_output=False)\n",
    "one_hot_labels1_2 = encoder.fit_transform(np.array(rp_labels1_2).reshape(-1, 1))\n",
    "one_hot_labels3 = encoder.fit_transform(np.array(rp_labels3).reshape(-1, 1))"
   ]
  },
  {
   "cell_type": "code",
   "execution_count": 11,
   "metadata": {},
   "outputs": [],
   "source": [
    "amp_train, amp_temp, y_train, y_temp = train_test_split(amp_d12, one_hot_labels1_2, test_size=0.3, random_state=42)\n",
    "amp_val, amp_test, y_val, y_test = train_test_split(amp_temp, y_temp, test_size=1/3, random_state=42)"
   ]
  },
  {
   "cell_type": "code",
   "execution_count": 12,
   "metadata": {},
   "outputs": [],
   "source": [
    "# 創建 Dataset 和 DataLoader\n",
    "\n",
    "batch_size = 32\n",
    "\n",
    "train_dataset = CSIDataset(amp_train, y_train)\n",
    "val_dataset = CSIDataset(amp_val, y_val)\n",
    "test_dataset = CSIDataset(amp_test, y_test)\n",
    "\n",
    "train_loader = DataLoader(train_dataset, batch_size=batch_size, shuffle=True)\n",
    "val_loader = DataLoader(val_dataset, batch_size=batch_size, shuffle=False)\n",
    "test_loader = DataLoader(test_dataset, batch_size=batch_size, shuffle=False)\n",
    "\n",
    "data3_loader = DataLoader(CSIDataset(amp_d3, one_hot_labels3), batch_size=batch_size, shuffle=False)"
   ]
  },
  {
   "cell_type": "markdown",
   "metadata": {},
   "source": [
    "# 模型設定\n"
   ]
  },
  {
   "cell_type": "code",
   "execution_count": 20,
   "metadata": {},
   "outputs": [
    {
     "name": "stdout",
     "output_type": "stream",
     "text": [
      "Using device: cuda\n",
      "----------------------------------------------------------------\n",
      "        Layer (type)               Output Shape         Param #\n",
      "================================================================\n",
      "            Conv1d-1               [-1, 64, 48]             256\n",
      "       BatchNorm1d-2               [-1, 64, 48]             128\n",
      "         MaxPool1d-3               [-1, 64, 24]               0\n",
      "            Conv1d-4              [-1, 128, 24]          24,704\n",
      "       BatchNorm1d-5              [-1, 128, 24]             256\n",
      "         MaxPool1d-6              [-1, 128, 12]               0\n",
      "            Linear-7                  [-1, 128]         196,736\n",
      "           Dropout-8                  [-1, 128]               0\n",
      "            Linear-9                   [-1, 64]           8,256\n",
      "          Dropout-10                   [-1, 64]               0\n",
      "           Linear-11                   [-1, 49]           3,185\n",
      "================================================================\n",
      "Total params: 233,521\n",
      "Trainable params: 233,521\n",
      "Non-trainable params: 0\n",
      "----------------------------------------------------------------\n",
      "Input size (MB): 0.00\n",
      "Forward/backward pass size (MB): 0.12\n",
      "Params size (MB): 0.89\n",
      "Estimated Total Size (MB): 1.01\n",
      "----------------------------------------------------------------\n"
     ]
    }
   ],
   "source": [
    "import torch\n",
    "import torch.nn as nn\n",
    "import torch.nn.functional as F\n",
    "from torchsummary import summary\n",
    "\n",
    "device = torch.device(\"cuda\" if torch.cuda.is_available() else \"cpu\")\n",
    "print(f\"Using device: {device}\")\n",
    "\n",
    "class CNNClassifier(nn.Module):\n",
    "    def __init__(self, num_classes=49):\n",
    "        super(CNNClassifier, self).__init__()\n",
    "        self.conv1 = nn.Conv1d(in_channels=1, out_channels=64, kernel_size=3, padding=1)\n",
    "        self.bn1 = nn.BatchNorm1d(64)\n",
    "        self.pool1 = nn.MaxPool1d(kernel_size=2)\n",
    "\n",
    "        self.conv2 = nn.Conv1d(in_channels=64, out_channels=128, kernel_size=3, padding=1)\n",
    "        self.bn2 = nn.BatchNorm1d(128)\n",
    "        self.pool2 = nn.MaxPool1d(kernel_size=2)\n",
    "\n",
    "        self.flatten_dim = 128 * 12  # 48 -> 24 -> 12 after pooling\n",
    "\n",
    "        self.fc1 = nn.Linear(self.flatten_dim, 128)\n",
    "        self.dropout1 = nn.Dropout(0.5)\n",
    "        self.fc2 = nn.Linear(128, 64)\n",
    "        self.dropout2 = nn.Dropout(0.5)\n",
    "        self.fc3 = nn.Linear(64, num_classes)\n",
    "\n",
    "    def forward(self, x):\n",
    "        # Ensure input is in the shape (batch_size, channels, length)\n",
    "        if x.dim() == 2:\n",
    "            x = x.unsqueeze(1)\n",
    "\n",
    "        if x.shape[1] != 1:\n",
    "            x = x.permute(0, 2, 1)  # (batch_size, 1, 48)\n",
    "\n",
    "        x = F.relu(self.bn1(self.conv1(x)))\n",
    "        x = self.pool1(x)\n",
    "\n",
    "        x = F.relu(self.bn2(self.conv2(x)))\n",
    "        x = self.pool2(x)\n",
    "\n",
    "        x = x.view(x.size(0), -1)  # Flatten\n",
    "\n",
    "        x = F.relu(self.fc1(x))\n",
    "        x = self.dropout1(x)\n",
    "\n",
    "        x = F.relu(self.fc2(x))\n",
    "        x = self.dropout2(x)\n",
    "\n",
    "        x = self.fc3(x)\n",
    "        return x\n",
    "\n",
    "# Initialize the model\n",
    "model = CNNClassifier(num_classes=49).to(device)\n",
    "\n",
    "# Print model summary\n",
    "summary(model, input_size=(1, 48))  # Input shape: (channels, length)"
   ]
  },
  {
   "cell_type": "markdown",
   "metadata": {},
   "source": [
    "# 模型訓練"
   ]
  },
  {
   "cell_type": "code",
   "execution_count": 21,
   "metadata": {},
   "outputs": [
    {
     "name": "stderr",
     "output_type": "stream",
     "text": [
      "/home/mcs/anaconda3/envs/kyle_ai/lib/python3.12/site-packages/torch/optim/lr_scheduler.py:62: UserWarning: The verbose parameter is deprecated. Please use get_last_lr() to access the learning rate.\n",
      "  warnings.warn(\n"
     ]
    }
   ],
   "source": [
    "import torch.nn as nn\n",
    "import torch.optim as optim\n",
    "\n",
    "# 損失函數\n",
    "criterion = nn.CrossEntropyLoss()\n",
    "\n",
    "# 優化器\n",
    "optimizer = optim.Adam(model.parameters(), lr=1e-3)\n",
    "\n",
    "# 學習率調整器\n",
    "scheduler = optim.lr_scheduler.ReduceLROnPlateau(optimizer, mode='min', factor=0.5, patience=15, verbose=True)\n"
   ]
  },
  {
   "cell_type": "code",
   "execution_count": 22,
   "metadata": {},
   "outputs": [
    {
     "name": "stdout",
     "output_type": "stream",
     "text": [
      "Epoch [1/200] | Train Loss: 2.4234 | Train Acc: 26.46% | Val Loss: 1.1007 | Val Acc: 69.63%\n",
      "✅ 儲存最佳模型 (Val Loss: 1.1007) 至 ./model_save/best_model(2-layers).pth\n",
      "Epoch [2/200] | Train Loss: 1.5702 | Train Acc: 46.56% | Val Loss: 0.6880 | Val Acc: 79.73%\n",
      "✅ 儲存最佳模型 (Val Loss: 0.6880) 至 ./model_save/best_model(2-layers).pth\n",
      "Epoch [3/200] | Train Loss: 1.3148 | Train Acc: 54.78% | Val Loss: 0.5028 | Val Acc: 88.75%\n",
      "✅ 儲存最佳模型 (Val Loss: 0.5028) 至 ./model_save/best_model(2-layers).pth\n",
      "Epoch [4/200] | Train Loss: 1.1785 | Train Acc: 59.63% | Val Loss: 0.4117 | Val Acc: 90.74%\n",
      "✅ 儲存最佳模型 (Val Loss: 0.4117) 至 ./model_save/best_model(2-layers).pth\n",
      "Epoch [5/200] | Train Loss: 1.0866 | Train Acc: 62.38% | Val Loss: 0.3542 | Val Acc: 91.29%\n",
      "✅ 儲存最佳模型 (Val Loss: 0.3542) 至 ./model_save/best_model(2-layers).pth\n",
      "Epoch [6/200] | Train Loss: 1.0053 | Train Acc: 65.50% | Val Loss: 0.2714 | Val Acc: 95.27%\n",
      "✅ 儲存最佳模型 (Val Loss: 0.2714) 至 ./model_save/best_model(2-layers).pth\n",
      "Epoch [7/200] | Train Loss: 0.9583 | Train Acc: 67.24% | Val Loss: 0.2385 | Val Acc: 96.03%\n",
      "✅ 儲存最佳模型 (Val Loss: 0.2385) 至 ./model_save/best_model(2-layers).pth\n",
      "Epoch [8/200] | Train Loss: 0.9102 | Train Acc: 69.29% | Val Loss: 0.2119 | Val Acc: 96.06%\n",
      "✅ 儲存最佳模型 (Val Loss: 0.2119) 至 ./model_save/best_model(2-layers).pth\n",
      "Epoch [9/200] | Train Loss: 0.8800 | Train Acc: 70.13% | Val Loss: 0.1938 | Val Acc: 96.58%\n",
      "✅ 儲存最佳模型 (Val Loss: 0.1938) 至 ./model_save/best_model(2-layers).pth\n",
      "Epoch [10/200] | Train Loss: 0.8348 | Train Acc: 71.76% | Val Loss: 0.1844 | Val Acc: 96.52%\n",
      "✅ 儲存最佳模型 (Val Loss: 0.1844) 至 ./model_save/best_model(2-layers).pth\n",
      "Epoch [11/200] | Train Loss: 0.8087 | Train Acc: 72.24% | Val Loss: 0.1989 | Val Acc: 96.22%\n",
      "Epoch [12/200] | Train Loss: 0.7820 | Train Acc: 73.37% | Val Loss: 0.1556 | Val Acc: 97.45%\n",
      "✅ 儲存最佳模型 (Val Loss: 0.1556) 至 ./model_save/best_model(2-layers).pth\n",
      "Epoch [13/200] | Train Loss: 0.7494 | Train Acc: 74.34% | Val Loss: 0.1466 | Val Acc: 97.67%\n",
      "✅ 儲存最佳模型 (Val Loss: 0.1466) 至 ./model_save/best_model(2-layers).pth\n",
      "Epoch [14/200] | Train Loss: 0.7324 | Train Acc: 75.45% | Val Loss: 0.1482 | Val Acc: 97.84%\n",
      "Epoch [15/200] | Train Loss: 0.7141 | Train Acc: 75.86% | Val Loss: 0.1512 | Val Acc: 97.21%\n",
      "Epoch [16/200] | Train Loss: 0.7088 | Train Acc: 76.42% | Val Loss: 0.1403 | Val Acc: 97.73%\n",
      "✅ 儲存最佳模型 (Val Loss: 0.1403) 至 ./model_save/best_model(2-layers).pth\n",
      "Epoch [17/200] | Train Loss: 0.6862 | Train Acc: 76.69% | Val Loss: 0.1277 | Val Acc: 97.37%\n",
      "✅ 儲存最佳模型 (Val Loss: 0.1277) 至 ./model_save/best_model(2-layers).pth\n",
      "Epoch [18/200] | Train Loss: 0.6734 | Train Acc: 77.33% | Val Loss: 0.1348 | Val Acc: 97.92%\n",
      "Epoch [19/200] | Train Loss: 0.6478 | Train Acc: 77.62% | Val Loss: 0.1258 | Val Acc: 98.17%\n",
      "✅ 儲存最佳模型 (Val Loss: 0.1258) 至 ./model_save/best_model(2-layers).pth\n",
      "Epoch [20/200] | Train Loss: 0.6454 | Train Acc: 78.11% | Val Loss: 0.1256 | Val Acc: 97.90%\n",
      "✅ 儲存最佳模型 (Val Loss: 0.1256) 至 ./model_save/best_model(2-layers).pth\n",
      "Epoch [21/200] | Train Loss: 0.6363 | Train Acc: 78.77% | Val Loss: 0.1131 | Val Acc: 98.40%\n",
      "✅ 儲存最佳模型 (Val Loss: 0.1131) 至 ./model_save/best_model(2-layers).pth\n",
      "Epoch [22/200] | Train Loss: 0.6236 | Train Acc: 79.21% | Val Loss: 0.1031 | Val Acc: 98.54%\n",
      "✅ 儲存最佳模型 (Val Loss: 0.1031) 至 ./model_save/best_model(2-layers).pth\n",
      "Epoch [23/200] | Train Loss: 0.6101 | Train Acc: 79.36% | Val Loss: 0.1167 | Val Acc: 98.34%\n",
      "Epoch [24/200] | Train Loss: 0.6065 | Train Acc: 79.75% | Val Loss: 0.1187 | Val Acc: 98.46%\n",
      "Epoch [25/200] | Train Loss: 0.5915 | Train Acc: 80.17% | Val Loss: 0.1062 | Val Acc: 98.61%\n",
      "Epoch [26/200] | Train Loss: 0.5760 | Train Acc: 80.78% | Val Loss: 0.1123 | Val Acc: 98.60%\n",
      "Epoch [27/200] | Train Loss: 0.5832 | Train Acc: 80.77% | Val Loss: 0.1066 | Val Acc: 98.63%\n",
      "Epoch [28/200] | Train Loss: 0.5658 | Train Acc: 81.07% | Val Loss: 0.1092 | Val Acc: 98.67%\n",
      "Epoch [29/200] | Train Loss: 0.5518 | Train Acc: 81.62% | Val Loss: 0.1067 | Val Acc: 98.39%\n",
      "Epoch [30/200] | Train Loss: 0.5457 | Train Acc: 81.81% | Val Loss: 0.1038 | Val Acc: 98.56%\n",
      "Epoch [31/200] | Train Loss: 0.5297 | Train Acc: 82.34% | Val Loss: 0.1041 | Val Acc: 98.54%\n",
      "Epoch [32/200] | Train Loss: 0.5337 | Train Acc: 82.24% | Val Loss: 0.1080 | Val Acc: 98.82%\n",
      "Epoch [33/200] | Train Loss: 0.5223 | Train Acc: 82.56% | Val Loss: 0.1018 | Val Acc: 98.67%\n",
      "✅ 儲存最佳模型 (Val Loss: 0.1018) 至 ./model_save/best_model(2-layers).pth\n",
      "Epoch [34/200] | Train Loss: 0.5225 | Train Acc: 82.78% | Val Loss: 0.0986 | Val Acc: 98.97%\n",
      "✅ 儲存最佳模型 (Val Loss: 0.0986) 至 ./model_save/best_model(2-layers).pth\n",
      "Epoch [35/200] | Train Loss: 0.5126 | Train Acc: 82.80% | Val Loss: 0.1085 | Val Acc: 98.77%\n",
      "Epoch [36/200] | Train Loss: 0.5175 | Train Acc: 83.06% | Val Loss: 0.1101 | Val Acc: 98.73%\n",
      "Epoch [37/200] | Train Loss: 0.4995 | Train Acc: 83.30% | Val Loss: 0.0976 | Val Acc: 98.79%\n",
      "✅ 儲存最佳模型 (Val Loss: 0.0976) 至 ./model_save/best_model(2-layers).pth\n",
      "Epoch [38/200] | Train Loss: 0.4939 | Train Acc: 83.41% | Val Loss: 0.1018 | Val Acc: 98.74%\n",
      "Epoch [39/200] | Train Loss: 0.4856 | Train Acc: 83.90% | Val Loss: 0.1146 | Val Acc: 98.51%\n",
      "Epoch [40/200] | Train Loss: 0.4873 | Train Acc: 83.89% | Val Loss: 0.1113 | Val Acc: 98.88%\n",
      "Epoch [41/200] | Train Loss: 0.4788 | Train Acc: 84.26% | Val Loss: 0.1116 | Val Acc: 98.80%\n",
      "Epoch [42/200] | Train Loss: 0.4726 | Train Acc: 84.58% | Val Loss: 0.1160 | Val Acc: 98.72%\n",
      "Epoch [43/200] | Train Loss: 0.4781 | Train Acc: 84.36% | Val Loss: 0.1144 | Val Acc: 98.66%\n",
      "Epoch [44/200] | Train Loss: 0.4682 | Train Acc: 84.55% | Val Loss: 0.1157 | Val Acc: 98.81%\n",
      "Epoch [45/200] | Train Loss: 0.4651 | Train Acc: 84.72% | Val Loss: 0.1046 | Val Acc: 99.05%\n",
      "Epoch [46/200] | Train Loss: 0.4466 | Train Acc: 85.29% | Val Loss: 0.1116 | Val Acc: 98.95%\n",
      "Epoch [47/200] | Train Loss: 0.4494 | Train Acc: 85.02% | Val Loss: 0.1178 | Val Acc: 98.84%\n",
      "Epoch [48/200] | Train Loss: 0.4584 | Train Acc: 85.12% | Val Loss: 0.1119 | Val Acc: 98.84%\n",
      "Epoch [49/200] | Train Loss: 0.4452 | Train Acc: 85.53% | Val Loss: 0.1235 | Val Acc: 98.72%\n",
      "Epoch [50/200] | Train Loss: 0.4359 | Train Acc: 85.65% | Val Loss: 0.1141 | Val Acc: 98.81%\n",
      "Epoch [51/200] | Train Loss: 0.4399 | Train Acc: 85.76% | Val Loss: 0.1051 | Val Acc: 98.95%\n",
      "Epoch [52/200] | Train Loss: 0.4281 | Train Acc: 86.09% | Val Loss: 0.1194 | Val Acc: 98.59%\n",
      "Epoch [53/200] | Train Loss: 0.4345 | Train Acc: 85.83% | Val Loss: 0.1262 | Val Acc: 98.80%\n",
      "Epoch [54/200] | Train Loss: 0.4232 | Train Acc: 86.21% | Val Loss: 0.1147 | Val Acc: 98.93%\n",
      "Epoch [55/200] | Train Loss: 0.4278 | Train Acc: 85.93% | Val Loss: 0.1108 | Val Acc: 99.07%\n",
      "Epoch [56/200] | Train Loss: 0.4121 | Train Acc: 86.56% | Val Loss: 0.1098 | Val Acc: 99.09%\n",
      "Epoch [57/200] | Train Loss: 0.4101 | Train Acc: 86.49% | Val Loss: 0.1146 | Val Acc: 99.04%\n",
      "Early stop at epoch 57\n",
      "訓練完成！\n"
     ]
    }
   ],
   "source": [
    "import torch\n",
    "import matplotlib.pyplot as plt\n",
    "\n",
    "# 儲存最佳模型\n",
    "best_val_loss = float('inf')\n",
    "best_model_path = \"./model_save/best_model(2-layers).pth\"\n",
    "\n",
    "# 訓練參數\n",
    "epochs = 200\n",
    "\n",
    "# early stop\n",
    "patience = 20\n",
    "counter = 0  \n",
    "\n",
    "# 訓練過程中的 loss 和 accuracy\n",
    "train_losses = []\n",
    "val_losses = []\n",
    "train_accuracies = []\n",
    "val_accuracies = []\n",
    "\n",
    "for epoch in range(epochs):\n",
    "    # ---- 訓練階段 ----\n",
    "    model.train()\n",
    "    train_loss = 0.0\n",
    "    train_correct = 0\n",
    "    total_train = 0\n",
    "\n",
    "    for inputs, labels in train_loader:\n",
    "        inputs, labels = inputs.to(device), labels.to(device)\n",
    "\n",
    "        optimizer.zero_grad()\n",
    "        outputs = model(inputs)\n",
    "\n",
    "        # CrossEntropyLoss 需要 class index\n",
    "        loss = criterion(outputs, torch.argmax(labels, dim=1))\n",
    "        loss.backward()\n",
    "        optimizer.step()\n",
    "\n",
    "        train_loss += loss.item() * inputs.size(0)\n",
    "        _, predicted = torch.max(outputs, 1)\n",
    "        total_train += labels.size(0)\n",
    "        train_correct += (predicted == torch.argmax(labels, dim=1)).sum().item()\n",
    "\n",
    "    avg_train_loss = train_loss / len(train_loader.dataset)\n",
    "    train_acc = 100 * train_correct / total_train\n",
    "\n",
    "    # ----驗證階段----\n",
    "    model.eval()\n",
    "    val_loss = 0.0\n",
    "    val_correct = 0\n",
    "    total_val = 0\n",
    "\n",
    "    with torch.no_grad():\n",
    "        for inputs, labels in val_loader:\n",
    "            inputs, labels = inputs.to(device), labels.to(device)\n",
    "            outputs = model(inputs)\n",
    "            loss = criterion(outputs, torch.argmax(labels, dim=1))\n",
    "\n",
    "            val_loss += loss.item() * inputs.size(0)\n",
    "            _, predicted = torch.max(outputs, 1)\n",
    "            total_val += labels.size(0)\n",
    "            val_correct += (predicted == torch.argmax(labels, dim=1)).sum().item()\n",
    "\n",
    "    avg_val_loss = val_loss / len(val_loader.dataset)\n",
    "    val_acc = 100 * val_correct / total_val\n",
    "\n",
    "    # 紀錄每個 epoch 的 loss 和 accuracy\n",
    "    train_losses.append(avg_train_loss)\n",
    "    val_losses.append(avg_val_loss)\n",
    "    train_accuracies.append(train_acc)\n",
    "    val_accuracies.append(val_acc)\n",
    "\n",
    "\n",
    "    # 輸出當前 epoch 的結果\n",
    "    print(f\"Epoch [{epoch+1}/{epochs}] | \"\n",
    "          f\"Train Loss: {avg_train_loss:.4f} | Train Acc: {train_acc:.2f}% | \"\n",
    "          f\"Val Loss: {avg_val_loss:.4f} | Val Acc: {val_acc:.2f}%\")\n",
    "\n",
    "    # ---- 儲存最佳模型 ----\n",
    "    if avg_val_loss < best_val_loss:\n",
    "        best_val_loss = avg_val_loss\n",
    "        torch.save(model.state_dict(), best_model_path)\n",
    "        print(f\"✅ 儲存最佳模型 (Val Loss: {best_val_loss:.4f}) 至 {best_model_path}\")\n",
    "        counter = 0\n",
    "    else:\n",
    "        counter += 1\n",
    "\n",
    "    if counter >= patience:\n",
    "        print(f\"Early stop at epoch {epoch+1}\")\n",
    "        break\n",
    "\n",
    "print(\"訓練完成！\")\n"
   ]
  },
  {
   "cell_type": "code",
   "execution_count": 23,
   "metadata": {},
   "outputs": [
    {
     "data": {
      "image/png": "[encoded data removed]",
      "text/plain": [
       "<Figure size 1200x500 with 2 Axes>"
      ]
     },
     "metadata": {},
     "output_type": "display_data"
    }
   ],
   "source": [
    "plt.figure(figsize=(12, 5))\n",
    "\n",
    "# ---- loss ----\n",
    "plt.subplot(1, 2, 1)\n",
    "plt.plot(train_losses, label='Train Loss')\n",
    "plt.plot(val_losses, label='Validation Loss')\n",
    "plt.xlabel('Epoch')\n",
    "plt.ylabel('Loss')\n",
    "plt.title('Training and Validation Loss')\n",
    "plt.legend()\n",
    "\n",
    "# ---- accuracy ----\n",
    "plt.subplot(1, 2, 2)\n",
    "plt.plot(train_accuracies, label='Train Accuracy')\n",
    "plt.plot(val_accuracies, label='Validation Accuracy')\n",
    "plt.xlabel('Epoch')\n",
    "plt.ylabel('Accuracy (%)')\n",
    "plt.title('Training and Validation Accuracy')\n",
    "plt.legend()\n",
    "\n",
    "plt.tight_layout()\n",
    "plt.show()"
   ]
  },
  {
   "cell_type": "code",
   "execution_count": 25,
   "metadata": {},
   "outputs": [
    {
     "name": "stdout",
     "output_type": "stream",
     "text": [
      "📊 測試損失: 0.0963, 測試準確率: 98.63%\n"
     ]
    }
   ],
   "source": [
    "# 載入最佳模型\n",
    "model.load_state_dict(torch.load(\"/media/mcs/1441ae67-d7cd-43e6-b028-169f78661a2f/kyle/csi_tool/model_CNN/model_save/best_model(2-layers).pth\"))\n",
    "model.eval()\n",
    "\n",
    "# 測試模型\n",
    "test_loss = 0.0\n",
    "correct = 0\n",
    "total = 0\n",
    "\n",
    "with torch.no_grad():\n",
    "    for inputs, labels in test_loader:\n",
    "        inputs, labels = inputs.to(device), labels.to(device)\n",
    "        outputs = model(inputs)\n",
    "        loss = criterion(outputs, torch.argmax(labels, dim=1))\n",
    "        test_loss += loss.item() * inputs.size(0)\n",
    "\n",
    "        _, predicted = torch.max(outputs, 1)\n",
    "        total += labels.size(0)\n",
    "        correct += (predicted == torch.argmax(labels, dim=1)).sum().item()\n",
    "\n",
    "test_loss /= len(test_loader.dataset)\n",
    "accuracy = 100 * correct / total\n",
    "\n",
    "print(f\"📊 測試損失: {test_loss:.4f}, 測試準確率: {accuracy:.2f}%\")"
   ]
  }
 ],
 "metadata": {
  "kernelspec": {
   "display_name": "kyle_ai",
   "language": "python",
   "name": "python3"
  },
  "language_info": {
   "codemirror_mode": {
    "name": "ipython",
    "version": 3
   },
   "file_extension": ".py",
   "mimetype": "text/x-python",
   "name": "python",
   "nbconvert_exporter": "python",
   "pygments_lexer": "ipython3",
   "version": "3.12.0"
  }
 },
 "nbformat": 4,
 "nbformat_minor": 2
}
