{
 "cells": [
  {
   "cell_type": "markdown",
   "id": "7cd22238",
   "metadata": {},
   "source": [
    "# FIFS"
   ]
  },
  {
   "cell_type": "code",
   "execution_count": 1,
   "id": "532781d4",
   "metadata": {},
   "outputs": [],
   "source": [
    "import torch\n",
    "from torch.utils.data import Dataset, DataLoader\n",
    "import numpy as np\n",
    "from sklearn.model_selection import train_test_split\n",
    "from sklearn.preprocessing import OneHotEncoder\n",
    "import sys, os\n",
    "import pandas as pd\n",
    "import matplotlib.pyplot as plt\n",
    "\n",
    "from csidataset import *\n",
    "import data_loader\n",
    "from data_loader import *\n",
    "sys.path.append(\"/media/mcs/1441ae67-d7cd-43e6-b028-169f78661a2f/kyle/csi_tool\")\n",
    "import denoise"
   ]
  },
  {
   "cell_type": "code",
   "execution_count": 2,
   "id": "ae4d225a",
   "metadata": {},
   "outputs": [],
   "source": [
    "base_path = \"/media/mcs/1441ae67-d7cd-43e6-b028-169f78661a2f/kyle/csi_tool/csi_dataset/localization_phone/1223_phone/5G/20MHz/csv/all\""
   ]
  },
  {
   "cell_type": "code",
   "execution_count": 14,
   "id": "10f4d7c3",
   "metadata": {},
   "outputs": [],
   "source": [
    "reference_points = {}\n",
    "\n",
    "spacing = 0.6  # 每隔 0.6m\n",
    "\n",
    "for ref_id, coord in data_loader.COORDINATES.items():\n",
    "    folder_path = os.path.join(base_path, f\"reference_point_{ref_id}.xlsx\")\n",
    "    reference_points[folder_path] = (ref_id, coord)"
   ]
  },
  {
   "cell_type": "code",
   "execution_count": 15,
   "id": "eb22c6b0",
   "metadata": {},
   "outputs": [],
   "source": [
    "data, rp_labels, coord_labels = load_data(reference_points)\n",
    "amp_data = np.array(data.iloc[:, :48])  \n",
    "phase_data = np.array(data.iloc[:, 48:-2]) "
   ]
  },
  {
   "cell_type": "code",
   "execution_count": 16,
   "id": "bdcca404",
   "metadata": {},
   "outputs": [],
   "source": [
    "encoder = OneHotEncoder(sparse_output=False)\n",
    "one_hot_labels = encoder.fit_transform(np.array(rp_labels).reshape(-1, 1))"
   ]
  },
  {
   "cell_type": "code",
   "execution_count": 17,
   "id": "0fa0c2a5",
   "metadata": {},
   "outputs": [],
   "source": [
    "amp_train, amp_temp, y_train, y_temp = train_test_split(amp_data, one_hot_labels, test_size=0.3, random_state=42)\n",
    "amp_val, amp_test, y_val, y_test = train_test_split(amp_temp, y_temp, test_size=1/3, random_state=42)"
   ]
  },
  {
   "cell_type": "code",
   "execution_count": 18,
   "id": "6dd08b0c",
   "metadata": {},
   "outputs": [],
   "source": [
    "import numpy as np\n",
    "\n",
    "def group_average(amp, num_groups=4):\n",
    "    # amp: (N_samples, N_subcarriers)\n",
    "    n, d = amp.shape\n",
    "    group_size = d // num_groups\n",
    "    features = []\n",
    "    for i in range(num_groups):\n",
    "        s = i * group_size\n",
    "        e = (i+1) * group_size if i < num_groups-1 else d\n",
    "        features.append(amp[:, s:e].mean(axis=1, keepdims=True))\n",
    "    return np.concatenate(features, axis=1)  # shape: (N, num_groups)\n"
   ]
  },
  {
   "cell_type": "code",
   "execution_count": 19,
   "id": "f983dd94",
   "metadata": {},
   "outputs": [],
   "source": [
    "def build_radio_map(amp_train, y_train, num_groups=4):\n",
    "    rp_train = np.argmax(y_train, axis=1)  # (N_train,)\n",
    "    num_rp = y_train.shape[1]\n",
    "    amp_feat = group_average(amp_train, num_groups=num_groups)  # (N_train, num_groups)\n",
    "    radio_map = np.zeros((num_rp, amp_feat.shape[1]))\n",
    "    for i in range(num_rp):\n",
    "        idx = (rp_train == i)\n",
    "        radio_map[i] = amp_feat[idx].mean(axis=0)\n",
    "    return radio_map\n"
   ]
  },
  {
   "cell_type": "code",
   "execution_count": 20,
   "id": "0b9e58a0",
   "metadata": {},
   "outputs": [],
   "source": [
    "def pearson_corr(x, y):\n",
    "    vx = x - np.mean(x)\n",
    "    vy = y - np.mean(y)\n",
    "    denom = np.sqrt(np.sum(vx**2)) * np.sqrt(np.sum(vy**2))\n",
    "    if denom == 0:\n",
    "        return 0\n",
    "    return np.sum(vx * vy) / denom\n",
    "\n",
    "def fifs_predict(amp_eval, radio_map, num_groups=4):\n",
    "    amp_feat = group_average(amp_eval, num_groups=num_groups)  # (N_eval, num_groups)\n",
    "    N = amp_feat.shape[0]\n",
    "    num_rp = radio_map.shape[0]\n",
    "    preds = np.zeros(N, dtype=int)\n",
    "    for i in range(N):\n",
    "        scores = np.array([pearson_corr(amp_feat[i], radio_map[j]) for j in range(num_rp)])\n",
    "        preds[i] = np.argmax(scores)\n",
    "    return preds\n"
   ]
  },
  {
   "cell_type": "code",
   "execution_count": 21,
   "id": "62b24b32",
   "metadata": {},
   "outputs": [],
   "source": [
    "def mean_distance_error(preds, labels, rp_coords):\n",
    "    coords_pred = np.array([rp_coords[i] for i in preds])\n",
    "    coords_true = np.array([rp_coords[i] for i in labels])\n",
    "    dist = np.linalg.norm(coords_pred - coords_true, axis=1)\n",
    "    return np.mean(dist)\n"
   ]
  },
  {
   "cell_type": "code",
   "execution_count": null,
   "id": "f9fd8ecb",
   "metadata": {},
   "outputs": [],
   "source": [
    "COORDINATES = {\n",
    "    # 下邊界 (1-10 和 40-31)\n",
    "    1: (0, 0), 40: (0.6, 0), 39: (1.2, 0), 38: (1.8, 0), 37: (2.4, 0),\n",
    "    36: (3.0, 0), 35: (3.6, 0), 34: (4.2, 0), 33: (4.8, 0), 32: (5.4, 0), 31: (6.0, 0),\n",
    "\n",
    "    # 左邊界 (1-11)\n",
    "    2: (0, 0.6), 3: (0, 1.2), 4: (0, 1.8), 5: (0, 2.4),\n",
    "    6: (0, 3.0), 7: (0, 3.6), 8: (0, 4.2), 9: (0, 4.8), 10: (0, 5.4), 11: (0, 6.0),\n",
    "\n",
    "    # 上邊界 (11-21)\n",
    "    12: (0.6, 6.0), 13: (1.2, 6.0), 14: (1.8, 6.0), 15: (2.4, 6.0),\n",
    "    16: (3.0, 6.0), 17: (3.6, 6.0), 18: (4.2, 6.0), 19: (4.8, 6.0),\n",
    "    20: (5.4, 6.0), 21: (6.0, 6.0),\n",
    "\n",
    "    # 右邊界 (21-31)\n",
    "    22: (6.0, 5.4), 23: (6.0, 4.8), 24: (6.0, 4.2), 25: (6.0, 3.6),\n",
    "    26: (6.0, 3.0), 27: (6.0, 2.4), 28: (6.0, 1.8), 29: (6.0, 1.2), 30: (6.0, 0.6),\n",
    "\n",
    "    # 中間點 (41-49)\n",
    "    41: (3.0, 0.6), 42: (3.0, 1.2), 43: (3.0, 1.8),\n",
    "    44: (3.0, 2.4), 45: (3.0, 3.0), 46: (3.0, 3.6),\n",
    "    47: (3.0, 4.2), 48: (3.0, 4.8), 49: (3.0, 5.4)\n",
    "}"
   ]
  },
  {
   "cell_type": "code",
   "execution_count": 29,
   "id": "b886060f",
   "metadata": {},
   "outputs": [
    {
     "name": "stdout",
     "output_type": "stream",
     "text": [
      "Val ACC: 51.20%\n",
      "Test ACC: 52.04%\n",
      "Val MDE: 2.035 m\n",
      "Test MDE: 1.911 m\n"
     ]
    }
   ],
   "source": [
    "rp_coords = [COORDINATES[i+1] for i in range(49)]\n",
    "\n",
    "\n",
    "# ==== 前處理分組數 ====\n",
    "num_groups = 8  # 按FIFS原論文，4~8組常見，可調整\n",
    "\n",
    "# ==== Radio Map 建立 ====\n",
    "radio_map = build_radio_map(amp_train, y_train, num_groups=num_groups)\n",
    "\n",
    "# ==== 預測 ====\n",
    "gt_val = np.argmax(y_val, axis=1)\n",
    "gt_test = np.argmax(y_test, axis=1)\n",
    "\n",
    "preds_val = fifs_predict(amp_val, radio_map, num_groups=num_groups)\n",
    "preds_test = fifs_predict(amp_test, radio_map, num_groups=num_groups)\n",
    "\n",
    "# ==== 評估 ====\n",
    "acc_val = np.mean(preds_val == gt_val)\n",
    "acc_test = np.mean(preds_test == gt_test)\n",
    "print(f'Val ACC: {acc_val*100:.2f}%')\n",
    "print(f'Test ACC: {acc_test*100:.2f}%')\n",
    "\n",
    "# 如果你有rp_coords（如: [(0,0),(0,0.6)...]）\n",
    "mde_val = mean_distance_error(preds_val, gt_val, rp_coords)\n",
    "mde_test = mean_distance_error(preds_test, gt_test, rp_coords)\n",
    "print(f'Val MDE: {mde_val:.3f} m')\n",
    "print(f'Test MDE: {mde_test:.3f} m')\n"
   ]
  },
  {
   "cell_type": "code",
   "execution_count": null,
   "id": "e9119633",
   "metadata": {},
   "outputs": [],
   "source": []
  }
 ],
 "metadata": {
  "kernelspec": {
   "display_name": "kyle_ai",
   "language": "python",
   "name": "python3"
  },
  "language_info": {
   "codemirror_mode": {
    "name": "ipython",
    "version": 3
   },
   "file_extension": ".py",
   "mimetype": "text/x-python",
   "name": "python",
   "nbconvert_exporter": "python",
   "pygments_lexer": "ipython3",
   "version": "3.12.0"
  }
 },
 "nbformat": 4,
 "nbformat_minor": 5
}
