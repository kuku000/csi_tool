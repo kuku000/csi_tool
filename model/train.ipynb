{
 "cells": [
  {
   "cell_type": "markdown",
   "metadata": {},
   "source": [
    "# 模型訓練模式"
   ]
  },
  {
   "cell_type": "code",
   "execution_count": 1,
   "metadata": {},
   "outputs": [],
   "source": [
    "import torch\n",
    "from torch.utils.data import Dataset, DataLoader\n",
    "import numpy as np\n",
    "from sklearn.model_selection import train_test_split\n",
    "from sklearn.preprocessing import OneHotEncoder\n",
    "import sys, os\n",
    "import pandas as pd\n",
    "import matplotlib.pyplot as plt\n",
    "\n",
    "from csidataset import *\n",
    "import data_loader\n",
    "from data_loader import *\n",
    "sys.path.append(\"/media/mcs/1441ae67-d7cd-43e6-b028-169f78661a2f/kyle/csi_tool\")\n",
    "import denoise\n",
    "from model import *"
   ]
  },
  {
   "cell_type": "code",
   "execution_count": 2,
   "metadata": {},
   "outputs": [
    {
     "name": "stdout",
     "output_type": "stream",
     "text": [
      "True\n"
     ]
    }
   ],
   "source": [
    "print(torch.cuda.is_available())"
   ]
  },
  {
   "cell_type": "markdown",
   "metadata": {},
   "source": [
    "## 資料載入"
   ]
  },
  {
   "cell_type": "code",
   "execution_count": 3,
   "metadata": {},
   "outputs": [],
   "source": [
    "base_path = \"/media/mcs/1441ae67-d7cd-43e6-b028-169f78661a2f/kyle/csi_tool/csi_dataset/localization_phone/1221_phone/5G/20Mhz/csv/all\"\n",
    "base_path2 = \"/media/mcs/1441ae67-d7cd-43e6-b028-169f78661a2f/kyle/csi_tool/csi_dataset/localization_phone/1222_phone/5G/20MHz/csv/all\"\n",
    "base_path3 = \"/media/mcs/1441ae67-d7cd-43e6-b028-169f78661a2f/kyle/csi_tool/csi_dataset/localization_phone/1223_phone/5G/20MHz/csv/all\""
   ]
  },
  {
   "cell_type": "code",
   "execution_count": 4,
   "metadata": {},
   "outputs": [],
   "source": [
    "reference_points = {}\n",
    "reference_points2 = {}\n",
    "reference_points3 = {}\n",
    "spacing = 0.6  # 每隔 0.6m\n",
    "\n",
    "for ref_id, coord in data_loader.COORDINATES.items():\n",
    "    folder_path = os.path.join(base_path, f\"reference_point_{ref_id}.xlsx\")\n",
    "    reference_points[folder_path] = (ref_id, coord)\n",
    "\n",
    "for ref_id, coord in data_loader.COORDINATES.items():\n",
    "    folder_path = os.path.join(base_path2, f\"reference_point_{ref_id}.xlsx\")\n",
    "    reference_points2[folder_path] = (ref_id, coord)\n",
    "\n",
    "\n",
    "for ref_id, coord in data_loader.COORDINATES.items():\n",
    "    folder_path = os.path.join(base_path3, f\"reference_point_{ref_id}.xlsx\")\n",
    "    reference_points3[folder_path] = (ref_id, coord)"
   ]
  },
  {
   "cell_type": "code",
   "execution_count": 5,
   "metadata": {},
   "outputs": [],
   "source": [
    "data, rp_labels, coord_labels = load_data(reference_points)\n",
    "data2, rp_labels2, coord_labels2 = load_data(reference_points2)\n",
    "data3, rp_labels3, coord_labels3 = load_data(reference_points3)"
   ]
  },
  {
   "cell_type": "markdown",
   "metadata": {},
   "source": [
    "## 資料前處理"
   ]
  },
  {
   "cell_type": "code",
   "execution_count": 6,
   "metadata": {},
   "outputs": [],
   "source": [
    "amp_data = np.array(data.iloc[:, :48])  # 前 48 列是CFR\n",
    "phase_data = np.array(data.iloc[:, 48:-2])  # 後 48 列是CIR\n",
    "\n",
    "amp_data2 = np.array(data2.iloc[:, :48])  # 前 48 列是CFR\n",
    "phase_data2 = np.array(data2.iloc[:, 48:-2])  # 後 48 列是CIR\n",
    "\n",
    "amp_data3 = np.array(data3.iloc[:, :48])  # 前 48 列是CFR\n",
    "phase_data3 = np.array(data3.iloc[:, 48:-2])  # 後 48 列是CIR"
   ]
  },
  {
   "cell_type": "code",
   "execution_count": 7,
   "metadata": {},
   "outputs": [],
   "source": [
    "amp_data1_2 = np.concatenate((amp_data, amp_data2), axis=0)\n",
    "phase_data1_2 = np.concatenate((phase_data, phase_data2), axis=0)\n",
    "rp_labels1_2 = np.concatenate((rp_labels, rp_labels2), axis=0)\n",
    "coord_labels1_2 = np.concatenate((coord_labels, coord_labels2), axis=0)"
   ]
  },
  {
   "cell_type": "code",
   "execution_count": 8,
   "metadata": {},
   "outputs": [],
   "source": [
    "amp_d12 = denoise.preprocess_csi_for_fingerprint2(amp_data1_2)\n",
    "amp_d3 = denoise.preprocess_csi_for_fingerprint2(amp_data3)"
   ]
  },
  {
   "cell_type": "code",
   "execution_count": 9,
   "metadata": {},
   "outputs": [],
   "source": [
    "encoder = OneHotEncoder(sparse_output=False)\n",
    "one_hot_labels1_2 = encoder.fit_transform(np.array(rp_labels1_2).reshape(-1, 1))"
   ]
  },
  {
   "cell_type": "code",
   "execution_count": 10,
   "metadata": {},
   "outputs": [],
   "source": [
    "one_hot_labels3 = encoder.fit_transform(np.array(rp_labels3).reshape(-1, 1))"
   ]
  },
  {
   "cell_type": "code",
   "execution_count": 11,
   "metadata": {},
   "outputs": [],
   "source": [
    "amp_train, amp_temp, y_train, y_temp = train_test_split(amp_d12, one_hot_labels1_2, test_size=0.3, random_state=42)\n",
    "amp_val, amp_test, y_val, y_test = train_test_split(amp_temp, y_temp, test_size=1/3, random_state=42)"
   ]
  },
  {
   "cell_type": "code",
   "execution_count": 12,
   "metadata": {},
   "outputs": [],
   "source": [
    "# 創建 Dataset 和 DataLoader\n",
    "\n",
    "batch_size = 32\n",
    "\n",
    "train_dataset = CSIDataset(amp_train, y_train)\n",
    "val_dataset = CSIDataset(amp_val, y_val)\n",
    "test_dataset = CSIDataset(amp_test, y_test)\n",
    "\n",
    "train_loader = DataLoader(train_dataset, batch_size=batch_size, shuffle=True)\n",
    "val_loader = DataLoader(val_dataset, batch_size=batch_size, shuffle=False)\n",
    "test_loader = DataLoader(test_dataset, batch_size=batch_size, shuffle=False)\n",
    "\n",
    "data3_loader = DataLoader(CSIDataset(amp_d3, one_hot_labels3), batch_size=batch_size, shuffle=False)"
   ]
  },
  {
   "cell_type": "markdown",
   "metadata": {},
   "source": [
    "## 模型訓練"
   ]
  },
  {
   "cell_type": "code",
   "execution_count": 13,
   "metadata": {},
   "outputs": [
    {
     "name": "stdout",
     "output_type": "stream",
     "text": [
      "49\n",
      "Using Conv1d as token embedding.\n"
     ]
    },
    {
     "name": "stderr",
     "output_type": "stream",
     "text": [
      "/home/mcs/anaconda3/envs/kyle_ai/lib/python3.12/site-packages/torch/optim/lr_scheduler.py:62: UserWarning: The verbose parameter is deprecated. Please use get_last_lr() to access the learning rate.\n",
      "  warnings.warn(\n"
     ]
    }
   ],
   "source": [
    "import torch.nn as nn\n",
    "import torch.optim as optim\n",
    "print(one_hot_labels1_2.shape[1])\n",
    "# 初始化模型\n",
    "maxlen = amp_data.shape[1]  # 序列長度\n",
    "embed_dim = 128\n",
    "num_heads = 4\n",
    "ff_dim = 128\n",
    "num_classes = one_hot_labels1_2.shape[1]\n",
    "num_layers = 1\n",
    "dropout_rate = 0.1\n",
    "token_embedding = \"cnn\"\n",
    "\n",
    "device = torch.device(\"cuda\" if torch.cuda.is_available() else \"cpu\")\n",
    "model = TransformerClassifier(maxlen, embed_dim, num_heads, ff_dim, num_classes, num_layers, dropout_rate, token_embedding = token_embedding).to(device)\n",
    "\n",
    "# 損失函數\n",
    "criterion = nn.CrossEntropyLoss()\n",
    "\n",
    "# 優化器\n",
    "optimizer = optim.Adam(model.parameters(), lr=1e-3)\n",
    "\n",
    "# 學習率調整器\n",
    "scheduler = optim.lr_scheduler.ReduceLROnPlateau(optimizer, mode='min', factor=0.5, patience=15, verbose=True)\n"
   ]
  },
  {
   "cell_type": "code",
   "execution_count": 14,
   "metadata": {},
   "outputs": [
    {
     "name": "stdout",
     "output_type": "stream",
     "text": [
      "(34231, 48)\n",
      "(9780, 48)\n",
      "(4891, 48)\n",
      "(34231, 49)\n",
      "(9780, 49)\n",
      "(4891, 49)\n"
     ]
    }
   ],
   "source": [
    "print(amp_train.shape)\n",
    "print(amp_val.shape)\n",
    "print(amp_test.shape)\n",
    "\n",
    "print(y_train.shape)\n",
    "print(y_val.shape)\n",
    "print(y_test.shape)"
   ]
  },
  {
   "cell_type": "code",
   "execution_count": 15,
   "metadata": {},
   "outputs": [
    {
     "ename": "UnboundLocalError",
     "evalue": "cannot access local variable 'token_embeddings' where it is not associated with a value",
     "output_type": "error",
     "traceback": [
      "\u001b[0;31m---------------------------------------------------------------------------\u001b[0m",
      "\u001b[0;31mUnboundLocalError\u001b[0m                         Traceback (most recent call last)",
      "Cell \u001b[0;32mIn[15], line 3\u001b[0m\n\u001b[1;32m      1\u001b[0m \u001b[38;5;28;01mfrom\u001b[39;00m\u001b[38;5;250m \u001b[39m\u001b[38;5;21;01mtorchsummary\u001b[39;00m\u001b[38;5;250m \u001b[39m\u001b[38;5;28;01mimport\u001b[39;00m summary\n\u001b[0;32m----> 3\u001b[0m \u001b[43msummary\u001b[49m\u001b[43m(\u001b[49m\u001b[43mmodel\u001b[49m\u001b[43m,\u001b[49m\u001b[43m \u001b[49m\u001b[43minput_size\u001b[49m\u001b[38;5;241;43m=\u001b[39;49m\u001b[43m(\u001b[49m\u001b[38;5;241;43m48\u001b[39;49m\u001b[43m,\u001b[49m\u001b[43m \u001b[49m\u001b[38;5;241;43m1\u001b[39;49m\u001b[43m)\u001b[49m\u001b[43m)\u001b[49m\n",
      "File \u001b[0;32m~/anaconda3/envs/kyle_ai/lib/python3.12/site-packages/torchsummary/torchsummary.py:72\u001b[0m, in \u001b[0;36msummary\u001b[0;34m(model, input_size, batch_size, device)\u001b[0m\n\u001b[1;32m     68\u001b[0m model\u001b[38;5;241m.\u001b[39mapply(register_hook)\n\u001b[1;32m     70\u001b[0m \u001b[38;5;66;03m# make a forward pass\u001b[39;00m\n\u001b[1;32m     71\u001b[0m \u001b[38;5;66;03m# print(x.shape)\u001b[39;00m\n\u001b[0;32m---> 72\u001b[0m \u001b[43mmodel\u001b[49m\u001b[43m(\u001b[49m\u001b[38;5;241;43m*\u001b[39;49m\u001b[43mx\u001b[49m\u001b[43m)\u001b[49m\n\u001b[1;32m     74\u001b[0m \u001b[38;5;66;03m# remove these hooks\u001b[39;00m\n\u001b[1;32m     75\u001b[0m \u001b[38;5;28;01mfor\u001b[39;00m h \u001b[38;5;129;01min\u001b[39;00m hooks:\n",
      "File \u001b[0;32m~/anaconda3/envs/kyle_ai/lib/python3.12/site-packages/torch/nn/modules/module.py:1739\u001b[0m, in \u001b[0;36mModule._wrapped_call_impl\u001b[0;34m(self, *args, **kwargs)\u001b[0m\n\u001b[1;32m   1737\u001b[0m     \u001b[38;5;28;01mreturn\u001b[39;00m \u001b[38;5;28mself\u001b[39m\u001b[38;5;241m.\u001b[39m_compiled_call_impl(\u001b[38;5;241m*\u001b[39margs, \u001b[38;5;241m*\u001b[39m\u001b[38;5;241m*\u001b[39mkwargs)  \u001b[38;5;66;03m# type: ignore[misc]\u001b[39;00m\n\u001b[1;32m   1738\u001b[0m \u001b[38;5;28;01melse\u001b[39;00m:\n\u001b[0;32m-> 1739\u001b[0m     \u001b[38;5;28;01mreturn\u001b[39;00m \u001b[38;5;28;43mself\u001b[39;49m\u001b[38;5;241;43m.\u001b[39;49m\u001b[43m_call_impl\u001b[49m\u001b[43m(\u001b[49m\u001b[38;5;241;43m*\u001b[39;49m\u001b[43margs\u001b[49m\u001b[43m,\u001b[49m\u001b[43m \u001b[49m\u001b[38;5;241;43m*\u001b[39;49m\u001b[38;5;241;43m*\u001b[39;49m\u001b[43mkwargs\u001b[49m\u001b[43m)\u001b[49m\n",
      "File \u001b[0;32m~/anaconda3/envs/kyle_ai/lib/python3.12/site-packages/torch/nn/modules/module.py:1750\u001b[0m, in \u001b[0;36mModule._call_impl\u001b[0;34m(self, *args, **kwargs)\u001b[0m\n\u001b[1;32m   1745\u001b[0m \u001b[38;5;66;03m# If we don't have any hooks, we want to skip the rest of the logic in\u001b[39;00m\n\u001b[1;32m   1746\u001b[0m \u001b[38;5;66;03m# this function, and just call forward.\u001b[39;00m\n\u001b[1;32m   1747\u001b[0m \u001b[38;5;28;01mif\u001b[39;00m \u001b[38;5;129;01mnot\u001b[39;00m (\u001b[38;5;28mself\u001b[39m\u001b[38;5;241m.\u001b[39m_backward_hooks \u001b[38;5;129;01mor\u001b[39;00m \u001b[38;5;28mself\u001b[39m\u001b[38;5;241m.\u001b[39m_backward_pre_hooks \u001b[38;5;129;01mor\u001b[39;00m \u001b[38;5;28mself\u001b[39m\u001b[38;5;241m.\u001b[39m_forward_hooks \u001b[38;5;129;01mor\u001b[39;00m \u001b[38;5;28mself\u001b[39m\u001b[38;5;241m.\u001b[39m_forward_pre_hooks\n\u001b[1;32m   1748\u001b[0m         \u001b[38;5;129;01mor\u001b[39;00m _global_backward_pre_hooks \u001b[38;5;129;01mor\u001b[39;00m _global_backward_hooks\n\u001b[1;32m   1749\u001b[0m         \u001b[38;5;129;01mor\u001b[39;00m _global_forward_hooks \u001b[38;5;129;01mor\u001b[39;00m _global_forward_pre_hooks):\n\u001b[0;32m-> 1750\u001b[0m     \u001b[38;5;28;01mreturn\u001b[39;00m \u001b[43mforward_call\u001b[49m\u001b[43m(\u001b[49m\u001b[38;5;241;43m*\u001b[39;49m\u001b[43margs\u001b[49m\u001b[43m,\u001b[49m\u001b[43m \u001b[49m\u001b[38;5;241;43m*\u001b[39;49m\u001b[38;5;241;43m*\u001b[39;49m\u001b[43mkwargs\u001b[49m\u001b[43m)\u001b[49m\n\u001b[1;32m   1752\u001b[0m result \u001b[38;5;241m=\u001b[39m \u001b[38;5;28;01mNone\u001b[39;00m\n\u001b[1;32m   1753\u001b[0m called_always_called_hooks \u001b[38;5;241m=\u001b[39m \u001b[38;5;28mset\u001b[39m()\n",
      "File \u001b[0;32m/media/mcs/1441ae67-d7cd-43e6-b028-169f78661a2f/kyle/csi_tool/model/model.py:103\u001b[0m, in \u001b[0;36mTransformerClassifier.forward\u001b[0;34m(self, x)\u001b[0m\n\u001b[1;32m     99\u001b[0m \u001b[38;5;250m\u001b[39m\u001b[38;5;124;03m\"\"\"\u001b[39;00m\n\u001b[1;32m    100\u001b[0m \u001b[38;5;124;03mx: [batch_size, seq_len, 1]\u001b[39;00m\n\u001b[1;32m    101\u001b[0m \u001b[38;5;124;03m\"\"\"\u001b[39;00m\n\u001b[1;32m    102\u001b[0m \u001b[38;5;66;03m# 嵌入與位置編碼\u001b[39;00m\n\u001b[0;32m--> 103\u001b[0m x \u001b[38;5;241m=\u001b[39m \u001b[38;5;28;43mself\u001b[39;49m\u001b[38;5;241;43m.\u001b[39;49m\u001b[43membedding\u001b[49m\u001b[43m(\u001b[49m\u001b[43mx\u001b[49m\u001b[43m)\u001b[49m  \u001b[38;5;66;03m# [batch_size, seq_len, embed_dim]\u001b[39;00m\n\u001b[1;32m    105\u001b[0m \u001b[38;5;66;03m# 多層 Transformer Block\u001b[39;00m\n\u001b[1;32m    106\u001b[0m \u001b[38;5;28;01mfor\u001b[39;00m transformer_block \u001b[38;5;129;01min\u001b[39;00m \u001b[38;5;28mself\u001b[39m\u001b[38;5;241m.\u001b[39mtransformer_blocks:\n",
      "File \u001b[0;32m~/anaconda3/envs/kyle_ai/lib/python3.12/site-packages/torch/nn/modules/module.py:1739\u001b[0m, in \u001b[0;36mModule._wrapped_call_impl\u001b[0;34m(self, *args, **kwargs)\u001b[0m\n\u001b[1;32m   1737\u001b[0m     \u001b[38;5;28;01mreturn\u001b[39;00m \u001b[38;5;28mself\u001b[39m\u001b[38;5;241m.\u001b[39m_compiled_call_impl(\u001b[38;5;241m*\u001b[39margs, \u001b[38;5;241m*\u001b[39m\u001b[38;5;241m*\u001b[39mkwargs)  \u001b[38;5;66;03m# type: ignore[misc]\u001b[39;00m\n\u001b[1;32m   1738\u001b[0m \u001b[38;5;28;01melse\u001b[39;00m:\n\u001b[0;32m-> 1739\u001b[0m     \u001b[38;5;28;01mreturn\u001b[39;00m \u001b[38;5;28;43mself\u001b[39;49m\u001b[38;5;241;43m.\u001b[39;49m\u001b[43m_call_impl\u001b[49m\u001b[43m(\u001b[49m\u001b[38;5;241;43m*\u001b[39;49m\u001b[43margs\u001b[49m\u001b[43m,\u001b[49m\u001b[43m \u001b[49m\u001b[38;5;241;43m*\u001b[39;49m\u001b[38;5;241;43m*\u001b[39;49m\u001b[43mkwargs\u001b[49m\u001b[43m)\u001b[49m\n",
      "File \u001b[0;32m~/anaconda3/envs/kyle_ai/lib/python3.12/site-packages/torch/nn/modules/module.py:1845\u001b[0m, in \u001b[0;36mModule._call_impl\u001b[0;34m(self, *args, **kwargs)\u001b[0m\n\u001b[1;32m   1842\u001b[0m     \u001b[38;5;28;01mreturn\u001b[39;00m inner()\n\u001b[1;32m   1844\u001b[0m \u001b[38;5;28;01mtry\u001b[39;00m:\n\u001b[0;32m-> 1845\u001b[0m     \u001b[38;5;28;01mreturn\u001b[39;00m \u001b[43minner\u001b[49m\u001b[43m(\u001b[49m\u001b[43m)\u001b[49m\n\u001b[1;32m   1846\u001b[0m \u001b[38;5;28;01mexcept\u001b[39;00m \u001b[38;5;167;01mException\u001b[39;00m:\n\u001b[1;32m   1847\u001b[0m     \u001b[38;5;66;03m# run always called hooks if they have not already been run\u001b[39;00m\n\u001b[1;32m   1848\u001b[0m     \u001b[38;5;66;03m# For now only forward hooks have the always_call option but perhaps\u001b[39;00m\n\u001b[1;32m   1849\u001b[0m     \u001b[38;5;66;03m# this functionality should be added to full backward hooks as well.\u001b[39;00m\n\u001b[1;32m   1850\u001b[0m     \u001b[38;5;28;01mfor\u001b[39;00m hook_id, hook \u001b[38;5;129;01min\u001b[39;00m _global_forward_hooks\u001b[38;5;241m.\u001b[39mitems():\n",
      "File \u001b[0;32m~/anaconda3/envs/kyle_ai/lib/python3.12/site-packages/torch/nn/modules/module.py:1793\u001b[0m, in \u001b[0;36mModule._call_impl.<locals>.inner\u001b[0;34m()\u001b[0m\n\u001b[1;32m   1790\u001b[0m     bw_hook \u001b[38;5;241m=\u001b[39m BackwardHook(\u001b[38;5;28mself\u001b[39m, full_backward_hooks, backward_pre_hooks)\n\u001b[1;32m   1791\u001b[0m     args \u001b[38;5;241m=\u001b[39m bw_hook\u001b[38;5;241m.\u001b[39msetup_input_hook(args)\n\u001b[0;32m-> 1793\u001b[0m result \u001b[38;5;241m=\u001b[39m \u001b[43mforward_call\u001b[49m\u001b[43m(\u001b[49m\u001b[38;5;241;43m*\u001b[39;49m\u001b[43margs\u001b[49m\u001b[43m,\u001b[49m\u001b[43m \u001b[49m\u001b[38;5;241;43m*\u001b[39;49m\u001b[38;5;241;43m*\u001b[39;49m\u001b[43mkwargs\u001b[49m\u001b[43m)\u001b[49m\n\u001b[1;32m   1794\u001b[0m \u001b[38;5;28;01mif\u001b[39;00m _global_forward_hooks \u001b[38;5;129;01mor\u001b[39;00m \u001b[38;5;28mself\u001b[39m\u001b[38;5;241m.\u001b[39m_forward_hooks:\n\u001b[1;32m   1795\u001b[0m     \u001b[38;5;28;01mfor\u001b[39;00m hook_id, hook \u001b[38;5;129;01min\u001b[39;00m (\n\u001b[1;32m   1796\u001b[0m         \u001b[38;5;241m*\u001b[39m_global_forward_hooks\u001b[38;5;241m.\u001b[39mitems(),\n\u001b[1;32m   1797\u001b[0m         \u001b[38;5;241m*\u001b[39m\u001b[38;5;28mself\u001b[39m\u001b[38;5;241m.\u001b[39m_forward_hooks\u001b[38;5;241m.\u001b[39mitems(),\n\u001b[1;32m   1798\u001b[0m     ):\n\u001b[1;32m   1799\u001b[0m         \u001b[38;5;66;03m# mark that always called hook is run\u001b[39;00m\n",
      "File \u001b[0;32m/media/mcs/1441ae67-d7cd-43e6-b028-169f78661a2f/kyle/csi_tool/model/model.py:26\u001b[0m, in \u001b[0;36mTokenAndPositionEmbedding.forward\u001b[0;34m(self, x)\u001b[0m\n\u001b[1;32m     24\u001b[0m     x \u001b[38;5;241m=\u001b[39m x\u001b[38;5;241m.\u001b[39munsqueeze(\u001b[38;5;241m-\u001b[39m\u001b[38;5;241m1\u001b[39m)\n\u001b[1;32m     25\u001b[0m positions \u001b[38;5;241m=\u001b[39m torch\u001b[38;5;241m.\u001b[39marange(\u001b[38;5;241m0\u001b[39m, x\u001b[38;5;241m.\u001b[39msize(\u001b[38;5;241m1\u001b[39m), device\u001b[38;5;241m=\u001b[39mx\u001b[38;5;241m.\u001b[39mdevice)\u001b[38;5;241m.\u001b[39munsqueeze(\u001b[38;5;241m0\u001b[39m)  \u001b[38;5;66;03m# [1, seq_len]\u001b[39;00m\n\u001b[0;32m---> 26\u001b[0m \u001b[38;5;28;01mif\u001b[39;00m \u001b[43mtoken_embeddings\u001b[49m \u001b[38;5;241m==\u001b[39m \u001b[38;5;124m\"\u001b[39m\u001b[38;5;124mlinear\u001b[39m\u001b[38;5;124m\"\u001b[39m:\n\u001b[1;32m     27\u001b[0m     pos_embeddings \u001b[38;5;241m=\u001b[39m \u001b[38;5;28mself\u001b[39m\u001b[38;5;241m.\u001b[39mposition_embedding(positions)  \u001b[38;5;66;03m# [1, seq_len, embed_dim]\u001b[39;00m\n\u001b[1;32m     28\u001b[0m \u001b[38;5;28;01melse\u001b[39;00m:\n",
      "\u001b[0;31mUnboundLocalError\u001b[0m: cannot access local variable 'token_embeddings' where it is not associated with a value"
     ]
    }
   ],
   "source": [
    "from torchsummary import summary\n",
    "\n",
    "summary(model, input_size=(48, 1))"
   ]
  },
  {
   "cell_type": "code",
   "execution_count": 16,
   "metadata": {},
   "outputs": [
    {
     "name": "stdout",
     "output_type": "stream",
     "text": [
      "Epoch [1/200] | Train Loss: 1.9082 | Train Acc: 40.13% | Val Loss: 0.7975 | Val Acc: 74.18%\n",
      "✅ 儲存最佳模型 (Val Loss: 0.7975) 至 best_model.pth\n",
      "Epoch [2/200] | Train Loss: 0.7453 | Train Acc: 74.62% | Val Loss: 0.4770 | Val Acc: 84.38%\n",
      "✅ 儲存最佳模型 (Val Loss: 0.4770) 至 best_model.pth\n",
      "Epoch [3/200] | Train Loss: 0.5063 | Train Acc: 83.21% | Val Loss: 0.3271 | Val Acc: 89.58%\n",
      "✅ 儲存最佳模型 (Val Loss: 0.3271) 至 best_model.pth\n",
      "Epoch [4/200] | Train Loss: 0.4149 | Train Acc: 86.46% | Val Loss: 0.2826 | Val Acc: 91.79%\n",
      "✅ 儲存最佳模型 (Val Loss: 0.2826) 至 best_model.pth\n",
      "Epoch [5/200] | Train Loss: 0.3428 | Train Acc: 88.60% | Val Loss: 0.2609 | Val Acc: 92.29%\n",
      "✅ 儲存最佳模型 (Val Loss: 0.2609) 至 best_model.pth\n",
      "Epoch [6/200] | Train Loss: 0.3022 | Train Acc: 89.98% | Val Loss: 0.1950 | Val Acc: 94.79%\n",
      "✅ 儲存最佳模型 (Val Loss: 0.1950) 至 best_model.pth\n",
      "Epoch [7/200] | Train Loss: 0.2767 | Train Acc: 91.18% | Val Loss: 0.1910 | Val Acc: 94.72%\n",
      "✅ 儲存最佳模型 (Val Loss: 0.1910) 至 best_model.pth\n",
      "Epoch [8/200] | Train Loss: 0.2696 | Train Acc: 91.07% | Val Loss: 0.1678 | Val Acc: 95.51%\n",
      "✅ 儲存最佳模型 (Val Loss: 0.1678) 至 best_model.pth\n",
      "Epoch [9/200] | Train Loss: 0.2469 | Train Acc: 92.17% | Val Loss: 0.2239 | Val Acc: 93.58%\n",
      "Epoch [10/200] | Train Loss: 0.2337 | Train Acc: 92.48% | Val Loss: 0.2042 | Val Acc: 94.52%\n",
      "Epoch [11/200] | Train Loss: 0.2294 | Train Acc: 92.60% | Val Loss: 0.2334 | Val Acc: 93.11%\n",
      "Epoch [12/200] | Train Loss: 0.2253 | Train Acc: 92.62% | Val Loss: 0.2201 | Val Acc: 93.92%\n",
      "Epoch [13/200] | Train Loss: 0.2208 | Train Acc: 92.81% | Val Loss: 0.1632 | Val Acc: 96.27%\n",
      "✅ 儲存最佳模型 (Val Loss: 0.1632) 至 best_model.pth\n",
      "Epoch [14/200] | Train Loss: 0.1984 | Train Acc: 93.57% | Val Loss: 0.1977 | Val Acc: 94.74%\n",
      "Epoch [15/200] | Train Loss: 0.2079 | Train Acc: 93.30% | Val Loss: 0.1611 | Val Acc: 95.77%\n",
      "✅ 儲存最佳模型 (Val Loss: 0.1611) 至 best_model.pth\n",
      "Epoch [16/200] | Train Loss: 0.1933 | Train Acc: 93.69% | Val Loss: 0.1414 | Val Acc: 96.87%\n",
      "✅ 儲存最佳模型 (Val Loss: 0.1414) 至 best_model.pth\n",
      "Epoch [17/200] | Train Loss: 0.1909 | Train Acc: 93.77% | Val Loss: 0.1489 | Val Acc: 96.40%\n",
      "Epoch [18/200] | Train Loss: 0.1841 | Train Acc: 94.01% | Val Loss: 0.1588 | Val Acc: 96.15%\n",
      "Epoch [19/200] | Train Loss: 0.1904 | Train Acc: 93.65% | Val Loss: 0.1654 | Val Acc: 96.11%\n",
      "Epoch [20/200] | Train Loss: 0.1786 | Train Acc: 94.08% | Val Loss: 0.1551 | Val Acc: 96.45%\n",
      "Epoch [21/200] | Train Loss: 0.1778 | Train Acc: 94.03% | Val Loss: 0.1486 | Val Acc: 96.55%\n",
      "Epoch [22/200] | Train Loss: 0.1674 | Train Acc: 94.50% | Val Loss: 0.1382 | Val Acc: 96.82%\n",
      "✅ 儲存最佳模型 (Val Loss: 0.1382) 至 best_model.pth\n",
      "Epoch [23/200] | Train Loss: 0.1683 | Train Acc: 94.51% | Val Loss: 0.1381 | Val Acc: 96.92%\n",
      "✅ 儲存最佳模型 (Val Loss: 0.1381) 至 best_model.pth\n",
      "Epoch [24/200] | Train Loss: 0.1758 | Train Acc: 94.27% | Val Loss: 0.1300 | Val Acc: 97.35%\n",
      "✅ 儲存最佳模型 (Val Loss: 0.1300) 至 best_model.pth\n",
      "Epoch [25/200] | Train Loss: 0.1712 | Train Acc: 94.29% | Val Loss: 0.1500 | Val Acc: 96.56%\n",
      "Epoch [26/200] | Train Loss: 0.1773 | Train Acc: 94.14% | Val Loss: 0.1331 | Val Acc: 97.12%\n",
      "Epoch [27/200] | Train Loss: 0.1632 | Train Acc: 94.59% | Val Loss: 0.1294 | Val Acc: 97.45%\n",
      "✅ 儲存最佳模型 (Val Loss: 0.1294) 至 best_model.pth\n",
      "Epoch [28/200] | Train Loss: 0.1740 | Train Acc: 94.38% | Val Loss: 0.1326 | Val Acc: 97.08%\n",
      "Epoch [29/200] | Train Loss: 0.1599 | Train Acc: 94.76% | Val Loss: 0.1346 | Val Acc: 96.74%\n",
      "Epoch [30/200] | Train Loss: 0.1576 | Train Acc: 94.98% | Val Loss: 0.1515 | Val Acc: 96.62%\n",
      "Epoch [31/200] | Train Loss: 0.1646 | Train Acc: 94.66% | Val Loss: 0.1400 | Val Acc: 96.86%\n",
      "Epoch [32/200] | Train Loss: 0.1600 | Train Acc: 94.81% | Val Loss: 0.1333 | Val Acc: 97.13%\n",
      "Epoch [33/200] | Train Loss: 0.1519 | Train Acc: 94.95% | Val Loss: 0.1461 | Val Acc: 97.04%\n",
      "Epoch [34/200] | Train Loss: 0.1515 | Train Acc: 95.15% | Val Loss: 0.1378 | Val Acc: 97.13%\n",
      "Epoch [35/200] | Train Loss: 0.1618 | Train Acc: 94.60% | Val Loss: 0.1225 | Val Acc: 97.61%\n",
      "✅ 儲存最佳模型 (Val Loss: 0.1225) 至 best_model.pth\n",
      "Epoch [36/200] | Train Loss: 0.1462 | Train Acc: 95.14% | Val Loss: 0.1367 | Val Acc: 97.47%\n",
      "Epoch [37/200] | Train Loss: 0.1477 | Train Acc: 95.11% | Val Loss: 0.1579 | Val Acc: 96.70%\n",
      "Epoch [38/200] | Train Loss: 0.1417 | Train Acc: 95.33% | Val Loss: 0.1354 | Val Acc: 97.06%\n",
      "Epoch [39/200] | Train Loss: 0.1519 | Train Acc: 95.13% | Val Loss: 0.1243 | Val Acc: 97.60%\n",
      "Epoch [40/200] | Train Loss: 0.1542 | Train Acc: 94.94% | Val Loss: 0.1714 | Val Acc: 95.92%\n",
      "Epoch [41/200] | Train Loss: 0.1461 | Train Acc: 95.20% | Val Loss: 0.1185 | Val Acc: 97.87%\n",
      "✅ 儲存最佳模型 (Val Loss: 0.1185) 至 best_model.pth\n",
      "Epoch [42/200] | Train Loss: 0.1375 | Train Acc: 95.39% | Val Loss: 0.1535 | Val Acc: 96.75%\n",
      "Epoch [43/200] | Train Loss: 0.1407 | Train Acc: 95.35% | Val Loss: 0.1333 | Val Acc: 97.37%\n",
      "Epoch [44/200] | Train Loss: 0.1417 | Train Acc: 95.38% | Val Loss: 0.1676 | Val Acc: 96.11%\n",
      "Epoch [45/200] | Train Loss: 0.1462 | Train Acc: 95.14% | Val Loss: 0.1328 | Val Acc: 97.24%\n",
      "Epoch [46/200] | Train Loss: 0.1433 | Train Acc: 95.21% | Val Loss: 0.1475 | Val Acc: 97.38%\n",
      "Epoch [47/200] | Train Loss: 0.1323 | Train Acc: 95.68% | Val Loss: 0.1448 | Val Acc: 97.00%\n",
      "Epoch [48/200] | Train Loss: 0.1423 | Train Acc: 95.22% | Val Loss: 0.1640 | Val Acc: 96.62%\n",
      "Epoch [49/200] | Train Loss: 0.1400 | Train Acc: 95.40% | Val Loss: 0.1289 | Val Acc: 97.59%\n",
      "Epoch [50/200] | Train Loss: 0.1337 | Train Acc: 95.64% | Val Loss: 0.1369 | Val Acc: 97.33%\n",
      "Epoch [51/200] | Train Loss: 0.1312 | Train Acc: 95.73% | Val Loss: 0.1303 | Val Acc: 97.72%\n",
      "Epoch [52/200] | Train Loss: 0.1292 | Train Acc: 95.73% | Val Loss: 0.1234 | Val Acc: 97.72%\n",
      "Epoch [53/200] | Train Loss: 0.1412 | Train Acc: 95.31% | Val Loss: 0.1522 | Val Acc: 96.88%\n",
      "Epoch [54/200] | Train Loss: 0.1408 | Train Acc: 95.35% | Val Loss: 0.1460 | Val Acc: 97.17%\n",
      "Epoch [55/200] | Train Loss: 0.1256 | Train Acc: 95.89% | Val Loss: 0.1383 | Val Acc: 97.43%\n",
      "Epoch [56/200] | Train Loss: 0.1373 | Train Acc: 95.41% | Val Loss: 0.1313 | Val Acc: 97.80%\n",
      "Epoch [57/200] | Train Loss: 0.1313 | Train Acc: 95.82% | Val Loss: 0.1445 | Val Acc: 97.72%\n",
      "Epoch [58/200] | Train Loss: 0.1370 | Train Acc: 95.54% | Val Loss: 0.1576 | Val Acc: 96.94%\n",
      "Epoch [59/200] | Train Loss: 0.1249 | Train Acc: 95.95% | Val Loss: 0.1768 | Val Acc: 96.42%\n",
      "Epoch [60/200] | Train Loss: 0.1248 | Train Acc: 95.92% | Val Loss: 0.1339 | Val Acc: 97.80%\n",
      "Epoch [61/200] | Train Loss: 0.1324 | Train Acc: 95.71% | Val Loss: 0.1385 | Val Acc: 97.11%\n",
      "Early stop at epoch 61\n",
      "訓練完成！\n"
     ]
    }
   ],
   "source": [
    "import torch\n",
    "import matplotlib.pyplot as plt\n",
    "\n",
    "# 儲存最佳模型\n",
    "best_val_loss = float('inf')\n",
    "best_model_path = \"best_model.pth\"\n",
    "\n",
    "# 訓練參數\n",
    "epochs = 200\n",
    "\n",
    "# early stop\n",
    "patience = 20\n",
    "counter = 0  \n",
    "\n",
    "# 訓練過程中的 loss 和 accuracy\n",
    "train_losses = []\n",
    "val_losses = []\n",
    "train_accuracies = []\n",
    "val_accuracies = []\n",
    "\n",
    "for epoch in range(epochs):\n",
    "    # ---- 訓練階段 ----\n",
    "    model.train()\n",
    "    train_loss = 0.0\n",
    "    train_correct = 0\n",
    "    total_train = 0\n",
    "\n",
    "    for inputs, labels in train_loader:\n",
    "        inputs, labels = inputs.to(device), labels.to(device)\n",
    "\n",
    "        optimizer.zero_grad()\n",
    "        outputs = model(inputs)\n",
    "\n",
    "        # CrossEntropyLoss 需要 class index\n",
    "        loss = criterion(outputs, torch.argmax(labels, dim=1))\n",
    "        loss.backward()\n",
    "        optimizer.step()\n",
    "\n",
    "        train_loss += loss.item() * inputs.size(0)\n",
    "        _, predicted = torch.max(outputs, 1)\n",
    "        total_train += labels.size(0)\n",
    "        train_correct += (predicted == torch.argmax(labels, dim=1)).sum().item()\n",
    "\n",
    "    avg_train_loss = train_loss / len(train_loader.dataset)\n",
    "    train_acc = 100 * train_correct / total_train\n",
    "\n",
    "    # ----驗證階段----\n",
    "    model.eval()\n",
    "    val_loss = 0.0\n",
    "    val_correct = 0\n",
    "    total_val = 0\n",
    "\n",
    "    with torch.no_grad():\n",
    "        for inputs, labels in val_loader:\n",
    "            inputs, labels = inputs.to(device), labels.to(device)\n",
    "            outputs = model(inputs)\n",
    "            loss = criterion(outputs, torch.argmax(labels, dim=1))\n",
    "\n",
    "            val_loss += loss.item() * inputs.size(0)\n",
    "            _, predicted = torch.max(outputs, 1)\n",
    "            total_val += labels.size(0)\n",
    "            val_correct += (predicted == torch.argmax(labels, dim=1)).sum().item()\n",
    "\n",
    "    avg_val_loss = val_loss / len(val_loader.dataset)\n",
    "    val_acc = 100 * val_correct / total_val\n",
    "\n",
    "    # 紀錄每個 epoch 的 loss 和 accuracy\n",
    "    train_losses.append(avg_train_loss)\n",
    "    val_losses.append(avg_val_loss)\n",
    "    train_accuracies.append(train_acc)\n",
    "    val_accuracies.append(val_acc)\n",
    "\n",
    "\n",
    "    # 輸出當前 epoch 的結果\n",
    "    print(f\"Epoch [{epoch+1}/{epochs}] | \"\n",
    "          f\"Train Loss: {avg_train_loss:.4f} | Train Acc: {train_acc:.2f}% | \"\n",
    "          f\"Val Loss: {avg_val_loss:.4f} | Val Acc: {val_acc:.2f}%\")\n",
    "\n",
    "    # ---- 儲存最佳模型 ----\n",
    "    if avg_val_loss < best_val_loss:\n",
    "        best_val_loss = avg_val_loss\n",
    "        torch.save(model.state_dict(), best_model_path)\n",
    "        print(f\"✅ 儲存最佳模型 (Val Loss: {best_val_loss:.4f}) 至 {best_model_path}\")\n",
    "        counter = 0\n",
    "    else:\n",
    "        counter += 1\n",
    "\n",
    "    if counter >= patience:\n",
    "        print(f\"Early stop at epoch {epoch+1}\")\n",
    "        break\n",
    "\n",
    "print(\"訓練完成！\")\n"
   ]
  },
  {
   "cell_type": "code",
   "execution_count": null,
   "metadata": {},
   "outputs": [
    {
     "data": {
      "image/png": "[encoded data removed]",
      "text/plain": [
       "<Figure size 1200x500 with 2 Axes>"
      ]
     },
     "metadata": {},
     "output_type": "display_data"
    }
   ],
   "source": [
    "plt.figure(figsize=(12, 5))\n",
    "\n",
    "# ---- loss ----\n",
    "plt.subplot(1, 2, 1)\n",
    "plt.plot(train_losses, label='Train Loss')\n",
    "plt.plot(val_losses, label='Validation Loss')\n",
    "plt.xlabel('Epoch')\n",
    "plt.ylabel('Loss')\n",
    "plt.title('Training and Validation Loss')\n",
    "plt.legend()\n",
    "\n",
    "# ---- accuracy ----\n",
    "plt.subplot(1, 2, 2)\n",
    "plt.plot(train_accuracies, label='Train Accuracy')\n",
    "plt.plot(val_accuracies, label='Validation Accuracy')\n",
    "plt.xlabel('Epoch')\n",
    "plt.ylabel('Accuracy (%)')\n",
    "plt.title('Training and Validation Accuracy')\n",
    "plt.legend()\n",
    "\n",
    "plt.tight_layout()\n",
    "plt.show()\n"
   ]
  },
  {
   "cell_type": "code",
   "execution_count": 18,
   "metadata": {},
   "outputs": [
    {
     "name": "stdout",
     "output_type": "stream",
     "text": [
      "📊 測試損失: 0.1463, 測試準確率: 97.32%\n"
     ]
    }
   ],
   "source": [
    "# 載入最佳模型\n",
    "model.load_state_dict(torch.load(\"/media/mcs/1441ae67-d7cd-43e6-b028-169f78661a2f/kyle/csi_tool/model/best_model.pth\"))\n",
    "model.eval()\n",
    "\n",
    "# 測試模型\n",
    "test_loss = 0.0\n",
    "correct = 0\n",
    "total = 0\n",
    "\n",
    "with torch.no_grad():\n",
    "    for inputs, labels in test_loader:\n",
    "        inputs, labels = inputs.to(device), labels.to(device)\n",
    "        outputs = model(inputs)\n",
    "        loss = criterion(outputs, torch.argmax(labels, dim=1))\n",
    "        test_loss += loss.item() * inputs.size(0)\n",
    "\n",
    "        _, predicted = torch.max(outputs, 1)\n",
    "        total += labels.size(0)\n",
    "        correct += (predicted == torch.argmax(labels, dim=1)).sum().item()\n",
    "\n",
    "test_loss /= len(test_loader.dataset)\n",
    "accuracy = 100 * correct / total\n",
    "\n",
    "print(f\"📊 測試損失: {test_loss:.4f}, 測試準確率: {accuracy:.2f}%\")\n"
   ]
  },
  {
   "cell_type": "code",
   "execution_count": 19,
   "metadata": {},
   "outputs": [
    {
     "name": "stdout",
     "output_type": "stream",
     "text": [
      "📊 測試損失: 137.8700, 測試準確率: 12.18%\n"
     ]
    }
   ],
   "source": [
    "# 測試模型\n",
    "test_loss = 0.0\n",
    "correct = 0\n",
    "total = 0\n",
    "\n",
    "with torch.no_grad():\n",
    "    for inputs, labels in data3_loader:\n",
    "        inputs, labels = inputs.to(device), labels.to(device)\n",
    "        outputs = model(inputs)\n",
    "        loss = criterion(outputs, torch.argmax(labels, dim=1))\n",
    "        test_loss += loss.item() * inputs.size(0)\n",
    "\n",
    "        _, predicted = torch.max(outputs, 1)\n",
    "        total += labels.size(0)\n",
    "        correct += (predicted == torch.argmax(labels, dim=1)).sum().item()\n",
    "\n",
    "test_loss /= len(test_loader.dataset)\n",
    "accuracy = 100 * correct / total\n",
    "\n",
    "print(f\"📊 測試損失: {test_loss:.4f}, 測試準確率: {accuracy:.2f}%\")"
   ]
  }
 ],
 "metadata": {
  "kernelspec": {
   "display_name": "kyle_ai",
   "language": "python",
   "name": "python3"
  },
  "language_info": {
   "codemirror_mode": {
    "name": "ipython",
    "version": 3
   },
   "file_extension": ".py",
   "mimetype": "text/x-python",
   "name": "python",
   "nbconvert_exporter": "python",
   "pygments_lexer": "ipython3",
   "version": "3.12.0"
  }
 },
 "nbformat": 4,
 "nbformat_minor": 2
}
