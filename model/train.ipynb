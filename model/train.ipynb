{
 "cells": [
  {
   "cell_type": "markdown",
   "metadata": {},
   "source": [
    "# 模型訓練模式"
   ]
  },
  {
   "cell_type": "code",
   "execution_count": 1,
   "metadata": {},
   "outputs": [],
   "source": [
    "import torch\n",
    "from torch.utils.data import Dataset, DataLoader\n",
    "import numpy as np\n",
    "from sklearn.model_selection import train_test_split\n",
    "from sklearn.preprocessing import OneHotEncoder\n",
    "import sys, os\n",
    "import pandas as pd\n",
    "import matplotlib.pyplot as plt\n",
    "\n",
    "from csidataset import *\n",
    "import data_loader\n",
    "from data_loader import *\n",
    "sys.path.append(\"/media/mcs/1441ae67-d7cd-43e6-b028-169f78661a2f/kyle/csi_tool\")\n",
    "import denoise\n",
    "from model import *"
   ]
  },
  {
   "cell_type": "code",
   "execution_count": 2,
   "metadata": {},
   "outputs": [
    {
     "name": "stdout",
     "output_type": "stream",
     "text": [
      "True\n"
     ]
    }
   ],
   "source": [
    "print(torch.cuda.is_available())"
   ]
  },
  {
   "cell_type": "markdown",
   "metadata": {},
   "source": [
    "## 資料載入"
   ]
  },
  {
   "cell_type": "code",
   "execution_count": 3,
   "metadata": {},
   "outputs": [],
   "source": [
    "base_path = \"/media/mcs/1441ae67-d7cd-43e6-b028-169f78661a2f/kyle/csi_tool/csi_dataset/localization_phone/1221_phone/5G/20Mhz/csv/all\"\n",
    "base_path2 = \"/media/mcs/1441ae67-d7cd-43e6-b028-169f78661a2f/kyle/csi_tool/csi_dataset/localization_phone/1222_phone/5G/20MHz/csv/all\"\n",
    "base_path3 = \"/media/mcs/1441ae67-d7cd-43e6-b028-169f78661a2f/kyle/csi_tool/csi_dataset/localization_phone/1223_phone/5G/20MHz/csv/all\""
   ]
  },
  {
   "cell_type": "code",
   "execution_count": 4,
   "metadata": {},
   "outputs": [],
   "source": [
    "reference_points = {}\n",
    "reference_points2 = {}\n",
    "reference_points3 = {}\n",
    "spacing = 0.6  # 每隔 0.6m\n",
    "\n",
    "for ref_id, coord in data_loader.COORDINATES.items():\n",
    "    folder_path = os.path.join(base_path, f\"reference_point_{ref_id}.xlsx\")\n",
    "    reference_points[folder_path] = (ref_id, coord)\n",
    "\n",
    "for ref_id, coord in data_loader.COORDINATES.items():\n",
    "    folder_path = os.path.join(base_path2, f\"reference_point_{ref_id}.xlsx\")\n",
    "    reference_points2[folder_path] = (ref_id, coord)\n",
    "\n",
    "\n",
    "for ref_id, coord in data_loader.COORDINATES.items():\n",
    "    folder_path = os.path.join(base_path3, f\"reference_point_{ref_id}.xlsx\")\n",
    "    reference_points3[folder_path] = (ref_id, coord)"
   ]
  },
  {
   "cell_type": "code",
   "execution_count": 5,
   "metadata": {},
   "outputs": [],
   "source": [
    "data, rp_labels, coord_labels = load_data(reference_points)\n",
    "data2, rp_labels2, coord_labels2 = load_data(reference_points2)\n",
    "data3, rp_labels3, coord_labels3 = load_data(reference_points3)"
   ]
  },
  {
   "cell_type": "markdown",
   "metadata": {},
   "source": [
    "## 資料前處理"
   ]
  },
  {
   "cell_type": "code",
   "execution_count": 6,
   "metadata": {},
   "outputs": [],
   "source": [
    "amp_data = np.array(data.iloc[:, :48])  # 前 48 列是CFR\n",
    "phase_data = np.array(data.iloc[:, 48:-2])  # 後 48 列是CIR\n",
    "\n",
    "amp_data2 = np.array(data2.iloc[:, :48])  # 前 48 列是CFR\n",
    "phase_data2 = np.array(data2.iloc[:, 48:-2])  # 後 48 列是CIR\n",
    "\n",
    "amp_data3 = np.array(data3.iloc[:, :48])  # 前 48 列是CFR\n",
    "phase_data3 = np.array(data3.iloc[:, 48:-2])  # 後 48 列是CIR"
   ]
  },
  {
   "cell_type": "code",
   "execution_count": 7,
   "metadata": {},
   "outputs": [],
   "source": [
    "amp_data1_2 = np.concatenate((amp_data, amp_data2), axis=0)\n",
    "phase_data1_2 = np.concatenate((phase_data, phase_data2), axis=0)\n",
    "rp_labels1_2 = np.concatenate((rp_labels, rp_labels2), axis=0)\n",
    "coord_labels1_2 = np.concatenate((coord_labels, coord_labels2), axis=0)"
   ]
  },
  {
   "cell_type": "code",
   "execution_count": 18,
   "metadata": {},
   "outputs": [],
   "source": [
    "amp_d12 = denoise.preprocess_csi_for_fingerprint2(amp_data1_2)\n",
    "amp_d3 = denoise.preprocess_csi_for_fingerprint2(amp_data3)"
   ]
  },
  {
   "cell_type": "code",
   "execution_count": 9,
   "metadata": {},
   "outputs": [],
   "source": [
    "encoder = OneHotEncoder(sparse_output=False)\n",
    "one_hot_labels1_2 = encoder.fit_transform(np.array(rp_labels1_2).reshape(-1, 1))"
   ]
  },
  {
   "cell_type": "code",
   "execution_count": 10,
   "metadata": {},
   "outputs": [],
   "source": [
    "one_hot_labels3 = encoder.fit_transform(np.array(rp_labels3).reshape(-1, 1))"
   ]
  },
  {
   "cell_type": "code",
   "execution_count": 11,
   "metadata": {},
   "outputs": [],
   "source": [
    "amp_train, amp_temp, y_train, y_temp = train_test_split(amp_d12, one_hot_labels1_2, test_size=0.3, random_state=42)\n",
    "amp_val, amp_test, y_val, y_test = train_test_split(amp_temp, y_temp, test_size=1/3, random_state=42)"
   ]
  },
  {
   "cell_type": "code",
   "execution_count": 19,
   "metadata": {},
   "outputs": [],
   "source": [
    "# 創建 Dataset 和 DataLoader\n",
    "\n",
    "batch_size = 32\n",
    "\n",
    "train_dataset = CSIDataset(amp_train, y_train)\n",
    "val_dataset = CSIDataset(amp_val, y_val)\n",
    "test_dataset = CSIDataset(amp_test, y_test)\n",
    "\n",
    "train_loader = DataLoader(train_dataset, batch_size=batch_size, shuffle=True)\n",
    "val_loader = DataLoader(val_dataset, batch_size=batch_size, shuffle=False)\n",
    "test_loader = DataLoader(test_dataset, batch_size=batch_size, shuffle=False)\n",
    "\n",
    "data3_loader = DataLoader(CSIDataset(amp_d3, one_hot_labels3), batch_size=batch_size, shuffle=False)"
   ]
  },
  {
   "cell_type": "markdown",
   "metadata": {},
   "source": [
    "## 模型訓練"
   ]
  },
  {
   "cell_type": "code",
   "execution_count": 39,
   "metadata": {},
   "outputs": [
    {
     "name": "stdout",
     "output_type": "stream",
     "text": [
      "49\n"
     ]
    }
   ],
   "source": [
    "import torch.nn as nn\n",
    "import torch.optim as optim\n",
    "print(one_hot_labels1_2.shape[1])\n",
    "# 初始化模型\n",
    "maxlen = amp_data.shape[1]  # 序列長度\n",
    "embed_dim = 128\n",
    "num_heads = 4\n",
    "ff_dim = 128\n",
    "num_classes = one_hot_labels1_2.shape[1]\n",
    "num_layers = 1\n",
    "dropout_rate = 0.5\n",
    "\n",
    "device = torch.device(\"cuda\" if torch.cuda.is_available() else \"cpu\")\n",
    "model = TransformerClassifier(maxlen, embed_dim, num_heads, ff_dim, num_classes, num_layers, dropout_rate).to(device)\n",
    "\n",
    "# 損失函數\n",
    "criterion = nn.CrossEntropyLoss()\n",
    "\n",
    "# 優化器\n",
    "optimizer = optim.Adam(model.parameters(), lr=1e-3)\n",
    "\n",
    "# 學習率調整器\n",
    "scheduler = optim.lr_scheduler.ReduceLROnPlateau(optimizer, mode='min', factor=0.5, patience=15, verbose=True)\n"
   ]
  },
  {
   "cell_type": "code",
   "execution_count": 30,
   "metadata": {},
   "outputs": [
    {
     "name": "stdout",
     "output_type": "stream",
     "text": [
      "(34231, 48)\n",
      "(9780, 48)\n",
      "(4891, 48)\n",
      "(34231, 49)\n",
      "(9780, 49)\n",
      "(4891, 49)\n"
     ]
    }
   ],
   "source": [
    "print(amp_train.shape)\n",
    "print(amp_val.shape)\n",
    "print(amp_test.shape)\n",
    "\n",
    "print(y_train.shape)\n",
    "print(y_val.shape)\n",
    "print(y_test.shape)"
   ]
  },
  {
   "cell_type": "code",
   "execution_count": 40,
   "metadata": {},
   "outputs": [
    {
     "name": "stdout",
     "output_type": "stream",
     "text": [
      "----------------------------------------------------------------\n",
      "        Layer (type)               Output Shape         Param #\n",
      "================================================================\n",
      "         Embedding-1              [-1, 48, 128]           6,144\n",
      "            Linear-2              [-1, 48, 128]             256\n",
      "TokenAndPositionEmbedding-3              [-1, 48, 128]               0\n",
      "MultiheadAttention-4  [[-1, 48, 128], [-1, 48, 48]]               0\n",
      "           Dropout-5              [-1, 48, 128]               0\n",
      "         LayerNorm-6              [-1, 48, 128]             256\n",
      "            Linear-7              [-1, 48, 128]          16,512\n",
      "              ReLU-8              [-1, 48, 128]               0\n",
      "            Linear-9              [-1, 48, 128]          16,512\n",
      "          Dropout-10              [-1, 48, 128]               0\n",
      "        LayerNorm-11              [-1, 48, 128]             256\n",
      " TransformerBlock-12              [-1, 48, 128]               0\n",
      "AdaptiveAvgPool1d-13               [-1, 128, 1]               0\n",
      "           Linear-14                   [-1, 64]           8,256\n",
      "          Dropout-15                   [-1, 64]               0\n",
      "           Linear-16                   [-1, 49]           3,185\n",
      "================================================================\n",
      "Total params: 51,377\n",
      "Trainable params: 51,377\n",
      "Non-trainable params: 0\n",
      "----------------------------------------------------------------\n",
      "Input size (MB): 0.00\n",
      "Forward/backward pass size (MB): 107.48\n",
      "Params size (MB): 0.20\n",
      "Estimated Total Size (MB): 107.68\n",
      "----------------------------------------------------------------\n"
     ]
    }
   ],
   "source": [
    "from torchsummary import summary\n",
    "\n",
    "summary(model, input_size=(48, 1))"
   ]
  },
  {
   "cell_type": "code",
   "execution_count": 46,
   "metadata": {},
   "outputs": [
    {
     "name": "stdout",
     "output_type": "stream",
     "text": [
      "Epoch [1/200] | Train Loss: 2.6444 | Train Acc: 26.43% | Val Loss: 0.7783 | Val Acc: 75.85%\n",
      "✅ 儲存最佳模型 (Val Loss: 0.7783) 至 best_model.pth\n",
      "Epoch [2/200] | Train Loss: 1.2611 | Train Acc: 58.67% | Val Loss: 0.5049 | Val Acc: 86.08%\n",
      "✅ 儲存最佳模型 (Val Loss: 0.5049) 至 best_model.pth\n",
      "Epoch [3/200] | Train Loss: 0.9200 | Train Acc: 69.33% | Val Loss: 0.4688 | Val Acc: 88.71%\n",
      "✅ 儲存最佳模型 (Val Loss: 0.4688) 至 best_model.pth\n",
      "Epoch [4/200] | Train Loss: 0.7815 | Train Acc: 74.26% | Val Loss: 0.3437 | Val Acc: 91.38%\n",
      "✅ 儲存最佳模型 (Val Loss: 0.3437) 至 best_model.pth\n",
      "Epoch [5/200] | Train Loss: 0.6812 | Train Acc: 76.98% | Val Loss: 0.4246 | Val Acc: 90.05%\n",
      "Epoch [6/200] | Train Loss: 0.6357 | Train Acc: 78.84% | Val Loss: 0.3530 | Val Acc: 91.85%\n",
      "Epoch [7/200] | Train Loss: 0.6111 | Train Acc: 79.78% | Val Loss: 0.3605 | Val Acc: 92.14%\n",
      "Epoch [8/200] | Train Loss: 0.5825 | Train Acc: 80.79% | Val Loss: 0.4317 | Val Acc: 90.64%\n",
      "Epoch [9/200] | Train Loss: 0.5611 | Train Acc: 81.60% | Val Loss: 0.4161 | Val Acc: 90.97%\n",
      "Epoch [10/200] | Train Loss: 0.5409 | Train Acc: 82.37% | Val Loss: 0.4661 | Val Acc: 90.59%\n",
      "Epoch [11/200] | Train Loss: 0.5320 | Train Acc: 82.70% | Val Loss: 0.4038 | Val Acc: 91.81%\n",
      "Epoch [12/200] | Train Loss: 0.5123 | Train Acc: 83.01% | Val Loss: 0.4283 | Val Acc: 91.41%\n",
      "Epoch [13/200] | Train Loss: 0.4969 | Train Acc: 83.83% | Val Loss: 0.3685 | Val Acc: 92.36%\n",
      "Epoch [14/200] | Train Loss: 0.4846 | Train Acc: 84.11% | Val Loss: 0.3518 | Val Acc: 93.01%\n",
      "Epoch [15/200] | Train Loss: 0.4917 | Train Acc: 83.70% | Val Loss: 0.4289 | Val Acc: 92.34%\n",
      "Epoch [16/200] | Train Loss: 0.4806 | Train Acc: 83.94% | Val Loss: 0.4026 | Val Acc: 92.43%\n",
      "Epoch [17/200] | Train Loss: 0.4588 | Train Acc: 84.91% | Val Loss: 0.3429 | Val Acc: 93.16%\n",
      "✅ 儲存最佳模型 (Val Loss: 0.3429) 至 best_model.pth\n",
      "Epoch [18/200] | Train Loss: 0.4542 | Train Acc: 85.12% | Val Loss: 0.4195 | Val Acc: 91.78%\n",
      "Epoch [19/200] | Train Loss: 0.4553 | Train Acc: 84.89% | Val Loss: 0.5369 | Val Acc: 90.12%\n",
      "Epoch [20/200] | Train Loss: 0.4694 | Train Acc: 84.49% | Val Loss: 0.3372 | Val Acc: 93.68%\n",
      "✅ 儲存最佳模型 (Val Loss: 0.3372) 至 best_model.pth\n",
      "Epoch [21/200] | Train Loss: 0.4522 | Train Acc: 84.92% | Val Loss: 0.4752 | Val Acc: 91.49%\n",
      "Epoch [22/200] | Train Loss: 0.4435 | Train Acc: 85.41% | Val Loss: 0.3160 | Val Acc: 94.12%\n",
      "✅ 儲存最佳模型 (Val Loss: 0.3160) 至 best_model.pth\n",
      "Epoch [23/200] | Train Loss: 0.4446 | Train Acc: 85.29% | Val Loss: 0.4664 | Val Acc: 91.54%\n",
      "Epoch [24/200] | Train Loss: 0.4170 | Train Acc: 86.32% | Val Loss: 0.3554 | Val Acc: 92.88%\n",
      "Epoch [25/200] | Train Loss: 0.4117 | Train Acc: 86.25% | Val Loss: 0.3467 | Val Acc: 94.09%\n",
      "Epoch [26/200] | Train Loss: 0.4188 | Train Acc: 86.17% | Val Loss: 0.3828 | Val Acc: 92.93%\n",
      "Epoch [27/200] | Train Loss: 0.4125 | Train Acc: 86.21% | Val Loss: 0.4007 | Val Acc: 92.87%\n",
      "Epoch [28/200] | Train Loss: 0.4167 | Train Acc: 86.39% | Val Loss: 0.4428 | Val Acc: 92.07%\n",
      "Epoch [29/200] | Train Loss: 0.4162 | Train Acc: 86.29% | Val Loss: 0.3570 | Val Acc: 93.42%\n",
      "Epoch [30/200] | Train Loss: 0.4144 | Train Acc: 86.39% | Val Loss: 0.3702 | Val Acc: 93.27%\n",
      "Epoch [31/200] | Train Loss: 0.4091 | Train Acc: 86.54% | Val Loss: 0.4465 | Val Acc: 92.70%\n",
      "Epoch [32/200] | Train Loss: 0.4027 | Train Acc: 86.82% | Val Loss: 0.3372 | Val Acc: 94.20%\n",
      "Epoch [33/200] | Train Loss: 0.4185 | Train Acc: 86.17% | Val Loss: 0.4293 | Val Acc: 92.20%\n",
      "Epoch [34/200] | Train Loss: 0.4127 | Train Acc: 86.25% | Val Loss: 0.3482 | Val Acc: 94.03%\n",
      "Epoch [35/200] | Train Loss: 0.4087 | Train Acc: 86.55% | Val Loss: 0.4729 | Val Acc: 91.70%\n",
      "Epoch [36/200] | Train Loss: 0.4061 | Train Acc: 86.71% | Val Loss: 0.4477 | Val Acc: 91.92%\n",
      "Epoch [37/200] | Train Loss: 0.3913 | Train Acc: 87.38% | Val Loss: 0.3827 | Val Acc: 93.62%\n",
      "Epoch [38/200] | Train Loss: 0.4133 | Train Acc: 86.52% | Val Loss: 0.4045 | Val Acc: 92.99%\n",
      "Epoch [39/200] | Train Loss: 0.4058 | Train Acc: 86.67% | Val Loss: 0.4475 | Val Acc: 91.92%\n",
      "Epoch [40/200] | Train Loss: 0.4032 | Train Acc: 86.74% | Val Loss: 0.5097 | Val Acc: 90.94%\n",
      "Epoch [41/200] | Train Loss: 0.3894 | Train Acc: 87.14% | Val Loss: 0.4815 | Val Acc: 92.16%\n",
      "Epoch [42/200] | Train Loss: 0.4030 | Train Acc: 86.69% | Val Loss: 0.3862 | Val Acc: 93.50%\n",
      "Early stop at epoch 42\n",
      "訓練完成！\n"
     ]
    }
   ],
   "source": [
    "import torch\n",
    "import matplotlib.pyplot as plt\n",
    "\n",
    "# 儲存最佳模型\n",
    "best_val_loss = float('inf')\n",
    "best_model_path = \"best_model.pth\"\n",
    "\n",
    "# 訓練參數\n",
    "epochs = 200\n",
    "\n",
    "# early stop\n",
    "patience = 20\n",
    "counter = 0  \n",
    "\n",
    "# 訓練過程中的 loss 和 accuracy\n",
    "train_losses = []\n",
    "val_losses = []\n",
    "train_accuracies = []\n",
    "val_accuracies = []\n",
    "\n",
    "for epoch in range(epochs):\n",
    "    # ---- 訓練階段 ----\n",
    "    model.train()\n",
    "    train_loss = 0.0\n",
    "    train_correct = 0\n",
    "    total_train = 0\n",
    "\n",
    "    for inputs, labels in train_loader:\n",
    "        inputs, labels = inputs.to(device), labels.to(device)\n",
    "\n",
    "        optimizer.zero_grad()\n",
    "        outputs = model(inputs)\n",
    "\n",
    "        # CrossEntropyLoss 需要 class index\n",
    "        loss = criterion(outputs, torch.argmax(labels, dim=1))\n",
    "        loss.backward()\n",
    "        optimizer.step()\n",
    "\n",
    "        train_loss += loss.item() * inputs.size(0)\n",
    "        _, predicted = torch.max(outputs, 1)\n",
    "        total_train += labels.size(0)\n",
    "        train_correct += (predicted == torch.argmax(labels, dim=1)).sum().item()\n",
    "\n",
    "    avg_train_loss = train_loss / len(train_loader.dataset)\n",
    "    train_acc = 100 * train_correct / total_train\n",
    "\n",
    "    # ----驗證階段----\n",
    "    model.eval()\n",
    "    val_loss = 0.0\n",
    "    val_correct = 0\n",
    "    total_val = 0\n",
    "\n",
    "    with torch.no_grad():\n",
    "        for inputs, labels in val_loader:\n",
    "            inputs, labels = inputs.to(device), labels.to(device)\n",
    "            outputs = model(inputs)\n",
    "            loss = criterion(outputs, torch.argmax(labels, dim=1))\n",
    "\n",
    "            val_loss += loss.item() * inputs.size(0)\n",
    "            _, predicted = torch.max(outputs, 1)\n",
    "            total_val += labels.size(0)\n",
    "            val_correct += (predicted == torch.argmax(labels, dim=1)).sum().item()\n",
    "\n",
    "    avg_val_loss = val_loss / len(val_loader.dataset)\n",
    "    val_acc = 100 * val_correct / total_val\n",
    "\n",
    "    # 紀錄每個 epoch 的 loss 和 accuracy\n",
    "    train_losses.append(avg_train_loss)\n",
    "    val_losses.append(avg_val_loss)\n",
    "    train_accuracies.append(train_acc)\n",
    "    val_accuracies.append(val_acc)\n",
    "\n",
    "\n",
    "    # 輸出當前 epoch 的結果\n",
    "    print(f\"Epoch [{epoch+1}/{epochs}] | \"\n",
    "          f\"Train Loss: {avg_train_loss:.4f} | Train Acc: {train_acc:.2f}% | \"\n",
    "          f\"Val Loss: {avg_val_loss:.4f} | Val Acc: {val_acc:.2f}%\")\n",
    "\n",
    "    # ---- 儲存最佳模型 ----\n",
    "    if avg_val_loss < best_val_loss:\n",
    "        best_val_loss = avg_val_loss\n",
    "        torch.save(model.state_dict(), best_model_path)\n",
    "        print(f\"✅ 儲存最佳模型 (Val Loss: {best_val_loss:.4f}) 至 {best_model_path}\")\n",
    "        counter = 0\n",
    "    else:\n",
    "        counter += 1\n",
    "\n",
    "    if counter >= patience:\n",
    "        print(f\"Early stop at epoch {epoch+1}\")\n",
    "        break\n",
    "\n",
    "print(\"訓練完成！\")\n"
   ]
  },
  {
   "cell_type": "code",
   "execution_count": 48,
   "metadata": {},
   "outputs": [
    {
     "data": {
      "image/png": "[encoded data removed]",
      "text/plain": [
       "<Figure size 1200x500 with 2 Axes>"
      ]
     },
     "metadata": {},
     "output_type": "display_data"
    }
   ],
   "source": [
    "plt.figure(figsize=(12, 5))\n",
    "\n",
    "# ---- loss ----\n",
    "plt.subplot(1, 2, 1)\n",
    "plt.plot(train_losses, label='Train Loss')\n",
    "plt.plot(val_losses, label='Validation Loss')\n",
    "plt.xlabel('Epoch')\n",
    "plt.ylabel('Loss')\n",
    "plt.title('Training and Validation Loss')\n",
    "plt.legend()\n",
    "\n",
    "# ---- accuracy ----\n",
    "plt.subplot(1, 2, 2)\n",
    "plt.plot(train_accuracies, label='Train Accuracy')\n",
    "plt.plot(val_accuracies, label='Validation Accuracy')\n",
    "plt.xlabel('Epoch')\n",
    "plt.ylabel('Accuracy (%)')\n",
    "plt.title('Training and Validation Accuracy')\n",
    "plt.legend()\n",
    "\n",
    "plt.tight_layout()\n",
    "plt.show()\n"
   ]
  },
  {
   "cell_type": "code",
   "execution_count": 51,
   "metadata": {},
   "outputs": [
    {
     "name": "stdout",
     "output_type": "stream",
     "text": [
      "📊 測試損失: 0.3592, 測試準確率: 93.60%\n"
     ]
    }
   ],
   "source": [
    "# 載入最佳模型\n",
    "model.load_state_dict(torch.load(\"/media/mcs/1441ae67-d7cd-43e6-b028-169f78661a2f/kyle/csi_tool/model/best_model.pth\"))\n",
    "model.eval()\n",
    "\n",
    "# 測試模型\n",
    "test_loss = 0.0\n",
    "correct = 0\n",
    "total = 0\n",
    "\n",
    "with torch.no_grad():\n",
    "    for inputs, labels in test_loader:\n",
    "        inputs, labels = inputs.to(device), labels.to(device)\n",
    "        outputs = model(inputs)\n",
    "        loss = criterion(outputs, torch.argmax(labels, dim=1))\n",
    "        test_loss += loss.item() * inputs.size(0)\n",
    "\n",
    "        _, predicted = torch.max(outputs, 1)\n",
    "        total += labels.size(0)\n",
    "        correct += (predicted == torch.argmax(labels, dim=1)).sum().item()\n",
    "\n",
    "test_loss /= len(test_loader.dataset)\n",
    "accuracy = 100 * correct / total\n",
    "\n",
    "print(f\"📊 測試損失: {test_loss:.4f}, 測試準確率: {accuracy:.2f}%\")\n"
   ]
  },
  {
   "cell_type": "code",
   "execution_count": 52,
   "metadata": {},
   "outputs": [
    {
     "name": "stdout",
     "output_type": "stream",
     "text": [
      "📊 測試損失: 211.3195, 測試準確率: 14.02%\n"
     ]
    }
   ],
   "source": [
    "# 測試模型\n",
    "test_loss = 0.0\n",
    "correct = 0\n",
    "total = 0\n",
    "\n",
    "with torch.no_grad():\n",
    "    for inputs, labels in data3_loader:\n",
    "        inputs, labels = inputs.to(device), labels.to(device)\n",
    "        outputs = model(inputs)\n",
    "        loss = criterion(outputs, torch.argmax(labels, dim=1))\n",
    "        test_loss += loss.item() * inputs.size(0)\n",
    "\n",
    "        _, predicted = torch.max(outputs, 1)\n",
    "        total += labels.size(0)\n",
    "        correct += (predicted == torch.argmax(labels, dim=1)).sum().item()\n",
    "\n",
    "test_loss /= len(test_loader.dataset)\n",
    "accuracy = 100 * correct / total\n",
    "\n",
    "print(f\"📊 測試損失: {test_loss:.4f}, 測試準確率: {accuracy:.2f}%\")"
   ]
  }
 ],
 "metadata": {
  "kernelspec": {
   "display_name": "kyle_ai",
   "language": "python",
   "name": "python3"
  },
  "language_info": {
   "codemirror_mode": {
    "name": "ipython",
    "version": 3
   },
   "file_extension": ".py",
   "mimetype": "text/x-python",
   "name": "python",
   "nbconvert_exporter": "python",
   "pygments_lexer": "ipython3",
   "version": "3.12.0"
  }
 },
 "nbformat": 4,
 "nbformat_minor": 2
}
