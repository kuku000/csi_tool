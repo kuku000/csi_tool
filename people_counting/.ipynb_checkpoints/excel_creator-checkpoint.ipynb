{
 "cells": [
  {
   "cell_type": "code",
   "execution_count": 11,
   "id": "031c4e22-d87f-4b25-ba46-37f2450821a3",
   "metadata": {},
   "outputs": [],
   "source": [
    "import os \n",
    "import sys\n",
    "sys.path.append(r\"c:\\Users\\keng-tse\\Desktop\\csi_tool\")\n",
    "import csi_tool\n",
    "import matplotlib.pyplot as plt\n",
    "from reader import Csi_Reader\n",
    "import numpy as np\n",
    "import pandas as pd\n",
    "from sklearn.preprocessing import StandardScaler, MinMaxScaler"
   ]
  },
  {
   "cell_type": "code",
   "execution_count": 27,
   "id": "5857dd57-cc23-417d-9df8-465feff4b772",
   "metadata": {},
   "outputs": [
    {
     "name": "stdout",
     "output_type": "stream",
     "text": [
      "expected_size = none\n",
      "Skipped frame with incorrect size.\n",
      "Skipped frame with incorrect size.\n",
      "Skipped frame with incorrect size.\n",
      "Skipped frame with incorrect size.\n",
      "Skipped frame with incorrect size.\n",
      "Skipped frame with incorrect size.\n",
      "Skipped frame with incorrect size.\n",
      "Skipped frame with incorrect size.\n",
      "Skipped frame with incorrect size.\n",
      "Skipped frame with incorrect size.\n",
      "Skipped frame with incorrect size.\n",
      "Skipped frame with incorrect size.\n",
      "Skipped frame with incorrect size.\n",
      "Skipped frame with incorrect size.\n",
      "Skipped frame with incorrect size.\n",
      "Skipped frame with incorrect size.\n",
      "Skipped frame with incorrect size.\n",
      "Skipped frame with incorrect size.\n",
      "Skipped frame with incorrect size.\n",
      "Skipped frame with incorrect size.\n",
      "Skipped frame with incorrect size.\n",
      "Skipped frame with incorrect size.\n",
      "Skipped frame with incorrect size.\n",
      "Skipped frame with incorrect size.\n",
      "Skipped frame with incorrect size.\n",
      "Skipped frame with incorrect size.\n",
      "Skipped frame with incorrect size.\n",
      "Skipped frame with incorrect size.\n",
      "Skipped frame with incorrect size.\n",
      "Skipped frame with incorrect size.\n",
      "Skipped frame with incorrect size.\n",
      "Skipped frame with incorrect size.\n",
      "Skipped frame with incorrect size.\n",
      "Skipped frame with incorrect size.\n",
      "Skipped frame with incorrect size.\n",
      "Skipped frame with incorrect size.\n",
      "Skipped frame with incorrect size.\n",
      "Skipped frame with incorrect size.\n",
      "Skipped frame with incorrect size.\n",
      "Skipped frame with incorrect size.\n",
      "Skipped frame with incorrect size.\n",
      "Skipped frame with incorrect size.\n",
      "Skipped frame with incorrect size.\n",
      "Skipped frame with incorrect size.\n",
      "Skipped frame with incorrect size.\n",
      "Skipped frame with incorrect size.\n",
      "Skipped frame with incorrect size.\n",
      "Skipped frame with incorrect size.\n",
      "Skipped frame with incorrect size.\n",
      "Skipped frame with incorrect size.\n",
      "buffer error\n",
      "only one tx and rx\n",
      "645\n",
      "(645, 48)\n",
      "[ -1.42035788  -1.79378283  -2.12798255  -2.44629258  -2.72314038\n",
      "  -3.23527733  -3.46194068  -3.68097588  -3.89270347  -4.10335697\n",
      "  -4.30812705  -4.48825561  -4.6812879   -4.86593276  -5.04749752\n",
      "  -5.23745657  -5.41277142  -5.58788523  -5.95005005  -6.15670553\n",
      "  -6.38269191  -6.62779206  -6.95974829  -7.4426279   -5.57667447\n",
      "  -6.03645149  -6.37044431  -6.63659948  -6.85888428  -7.07127888\n",
      "  -7.46752839  -7.66772363  -7.8661613   -8.07617721  -8.25447646\n",
      "  -8.45516739  -8.65447932  -8.86140444  -9.07205625  -9.27123418\n",
      "  -9.49391077  -9.72288427  -9.96049088 -10.44542865 -10.73119314\n",
      " -11.0498687  -11.40448212 -11.78607445]\n",
      "CSI data saved to C:\\Users\\keng-tse\\Desktop\\csi_tool\\csi_dataset\\peoplecounting\\1107_phase\\0p.xlsx\n"
     ]
    },
    {
     "data": {
      "text/plain": [
       "array([[ -1.42035788,  -1.79378283,  -2.12798255, ..., -11.0498687 ,\n",
       "        -11.40448212, -11.78607445],\n",
       "       [  2.64224593,   1.57079633,   1.11569552, ...,  -6.89930088,\n",
       "         -7.21685438,  -7.55743582],\n",
       "       [ -2.85261724,  -3.49458304,  -5.68313509, ..., -18.89300682,\n",
       "        -19.30191255, -19.71447181],\n",
       "       ...,\n",
       "       [ -0.64092379,  -1.0706605 ,  -1.5756389 , ..., -16.66549708,\n",
       "        -17.13790747, -17.63904247],\n",
       "       [ -1.99343023,  -2.38996543,  -2.77196527, ..., -12.94998901,\n",
       "        -13.33477695, -13.73953895],\n",
       "       [  1.25823388,   0.83707625,   0.45152031, ..., -10.31438905,\n",
       "        -10.70871947, -11.12550958]])"
      ]
     },
     "execution_count": 27,
     "metadata": {},
     "output_type": "execute_result"
    }
   ],
   "source": [
    "csi_matrix, no_frames, no_subcarriers = Csi_Reader().get_csi_matrix(r\"C:\\Users\\keng-tse\\Desktop\\csi_tool\\csi_dataset\\peoplecounting\\1107_under_all\\1107_0.pcap\", \"original\")\n",
    "csi_matrix = np.fft.fftshift(csi_matrix, axes=1)\n",
    "csi_tool.csi_preprocessor_phase(csi_matrix, no_frames, no_subcarriers, True, True, r\"C:\\Users\\keng-tse\\Desktop\\csi_tool\\csi_dataset\\peoplecounting\\1107_phase\\0p.xlsx\")"
   ]
  },
  {
   "cell_type": "code",
   "execution_count": null,
   "id": "8f8f3b48-5f4a-4260-8f16-ceb86a4c63bd",
   "metadata": {},
   "outputs": [],
   "source": []
  }
 ],
 "metadata": {
  "kernelspec": {
   "display_name": "Python 3 (ipykernel)",
   "language": "python",
   "name": "python3"
  },
  "language_info": {
   "codemirror_mode": {
    "name": "ipython",
    "version": 3
   },
   "file_extension": ".py",
   "mimetype": "text/x-python",
   "name": "python",
   "nbconvert_exporter": "python",
   "pygments_lexer": "ipython3",
   "version": "3.12.4"
  }
 },
 "nbformat": 4,
 "nbformat_minor": 5
}
