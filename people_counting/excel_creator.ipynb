{
 "cells": [
  {
   "cell_type": "code",
   "execution_count": 1,
   "id": "031c4e22-d87f-4b25-ba46-37f2450821a3",
   "metadata": {},
   "outputs": [],
   "source": [
    "import os \n",
    "import sys\n",
    "sys.path.append(r\"c:\\Users\\keng-tse\\Desktop\\csi_tool\")\n",
    "import csi_tool\n",
    "import matplotlib.pyplot as plt\n",
    "from reader import Csi_Reader\n",
    "import numpy as np\n",
    "import pandas as pd\n",
    "from sklearn.preprocessing import StandardScaler, MinMaxScaler"
   ]
  },
  {
   "cell_type": "code",
   "execution_count": 32,
   "id": "5857dd57-cc23-417d-9df8-465feff4b772",
   "metadata": {},
   "outputs": [
    {
     "name": "stdout",
     "output_type": "stream",
     "text": [
      "expected_size = none\n",
      "Skipped frame with incorrect size.\n",
      "Skipped frame with incorrect size.\n",
      "Skipped frame with incorrect size.\n",
      "Skipped frame with incorrect size.\n",
      "Skipped frame with incorrect size.\n",
      "Skipped frame with incorrect size.\n",
      "Skipped frame with incorrect size.\n",
      "Skipped frame with incorrect size.\n",
      "Skipped frame with incorrect size.\n",
      "Skipped frame with incorrect size.\n",
      "Skipped frame with incorrect size.\n",
      "Skipped frame with incorrect size.\n",
      "Skipped frame with incorrect size.\n",
      "Skipped frame with incorrect size.\n",
      "Skipped frame with incorrect size.\n",
      "Skipped frame with incorrect size.\n",
      "Skipped frame with incorrect size.\n",
      "Skipped frame with incorrect size.\n",
      "Skipped frame with incorrect size.\n",
      "Skipped frame with incorrect size.\n",
      "Skipped frame with incorrect size.\n",
      "Skipped frame with incorrect size.\n",
      "buffer error\n",
      "only one tx and rx\n",
      "336\n",
      "---------------\n",
      "313.0\n",
      "[313.         316.62122481 318.15247917 321.30981933 333.60005995\n",
      " 356.48281866 377.15381478 422.40383521 453.71025997 512.96491108\n",
      " 562.83745433 598.88980622 617.64471988 621.72823645 634.08043654\n",
      " 642.77912225 646.53692857 640.31945152 628.61832617 606.76848962\n",
      " 598.03093565 554.5493666  473.43848597 304.45360895 324.29924453\n",
      " 484.33459509 574.18638089 615.17883579 619.43199788 666.48330812\n",
      " 683.48299174 700.32135481 705.97237906 707.78033315 708.15605625\n",
      " 722.25895633 716.94490723 692.74093282 654.24765953 598.19060508\n",
      " 566.07861645 523.97805298 518.47468598 526.43708076 522.55621707\n",
      " 535.0513994  541.02587738 546.77234751]\n",
      "CSI data saved to C:\\Users\\keng-tse\\Desktop\\csi_tool\\csi_dataset\\peoplecounting\\1107_amp\\5p.xlsx\n"
     ]
    },
    {
     "data": {
      "text/plain": [
       "array([[313.        , 316.62122481, 318.15247917, ..., 535.0513994 ,\n",
       "        541.02587738, 546.77234751],\n",
       "       [312.05928924, 311.01446912, 320.75535849, ..., 551.49252035,\n",
       "        549.94636102, 549.41423353],\n",
       "       [301.9552947 , 309.00647242, 326.38167841, ..., 537.90426658,\n",
       "        539.57946588, 545.21188542],\n",
       "       ...,\n",
       "       [329.60734215, 331.83730954, 333.21614607, ..., 642.64842644,\n",
       "        653.05819036, 653.05819036],\n",
       "       [321.59601988, 327.67056627, 335.87199943, ..., 652.53429029,\n",
       "        654.70145868, 659.99469695],\n",
       "       [323.04798405, 333.51011979, 337.37960816, ..., 632.58201049,\n",
       "        655.66454838, 660.13634955]])"
      ]
     },
     "execution_count": 32,
     "metadata": {},
     "output_type": "execute_result"
    }
   ],
   "source": [
    "csi_matrix, no_frames, no_subcarriers = Csi_Reader().get_csi_matrix(r\"C:\\Users\\keng-tse\\Desktop\\csi_tool\\csi_dataset\\peoplecounting\\1107_under_all\\1107_5.pcap\", \"original\")\n",
    "csi_matrix = np.fft.fftshift(csi_matrix, axes=1)\n",
    "csi_tool.csi_preprocessor_amp(csi_matrix, no_frames, no_subcarriers, to_db=False, remove_sub=True, save_as_xlsx=True, path=r\"C:\\Users\\keng-tse\\Desktop\\csi_tool\\csi_dataset\\peoplecounting\\1107_amp\\5p.xlsx\")"
   ]
  },
  {
   "cell_type": "code",
   "execution_count": null,
   "id": "8f8f3b48-5f4a-4260-8f16-ceb86a4c63bd",
   "metadata": {},
   "outputs": [],
   "source": []
  },
  {
   "cell_type": "code",
   "execution_count": null,
   "id": "4ce250ed-eaae-4726-8c36-593329529af4",
   "metadata": {},
   "outputs": [],
   "source": []
  },
  {
   "cell_type": "code",
   "execution_count": null,
   "id": "78161afb-aa66-468d-b7d1-f16b7fbf9aa7",
   "metadata": {},
   "outputs": [],
   "source": []
  }
 ],
 "metadata": {
  "kernelspec": {
   "display_name": "Python 3 (ipykernel)",
   "language": "python",
   "name": "python3"
  },
  "language_info": {
   "codemirror_mode": {
    "name": "ipython",
    "version": 3
   },
   "file_extension": ".py",
   "mimetype": "text/x-python",
   "name": "python",
   "nbconvert_exporter": "python",
   "pygments_lexer": "ipython3",
   "version": "3.12.4"
  }
 },
 "nbformat": 4,
 "nbformat_minor": 5
}
