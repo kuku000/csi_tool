{
 "cells": [
  {
   "cell_type": "code",
   "execution_count": 8,
   "metadata": {},
   "outputs": [],
   "source": [
    "import os \n",
    "import sys\n",
    "\n",
    "import sklearn as sk\n",
    "import numpy as np\n",
    "import pandas as pd\n",
    "from sklearn.model_selection import train_test_split\n",
    "from sklearn.neighbors import KNeighborsClassifier\n",
    "from sklearn.metrics import confusion_matrix, accuracy_score, classification_report\n",
    "from sklearn.preprocessing import StandardScaler, MinMaxScaler\n",
    "from sklearn.ensemble import RandomForestClassifier\n",
    "from xgboost import XGBClassifier\n",
    "from sklearn.decomposition import PCA\n",
    "import matplotlib.pyplot as plt \n",
    "import xgboost as xgb\n",
    "from sklearn.preprocessing import OneHotEncoder\n",
    "\n",
    "from scipy.stats import kurtosis, entropy\n",
    "from scipy.fft import fft"
   ]
  },
  {
   "cell_type": "code",
   "execution_count": 9,
   "metadata": {},
   "outputs": [],
   "source": [
    "sys.path.append(r\"/media/mcs/1441ae67-d7cd-43e6-b028-169f78661a2f/kyle/csi_tool\") #這行為絕對路徑，如需使用，必須要修改為當前決路徑\n",
    "import csi_tool\n",
    "import denoise"
   ]
  },
  {
   "cell_type": "code",
   "execution_count": 10,
   "metadata": {},
   "outputs": [
    {
     "name": "stdout",
     "output_type": "stream",
     "text": [
      "{'/media/mcs/1441ae67-d7cd-43e6-b028-169f78661a2f/kyle/csi_tool/csi_dataset/localization_phone/micro/0309/20MHz/csv/reference_point1.xlsx': 1, '/media/mcs/1441ae67-d7cd-43e6-b028-169f78661a2f/kyle/csi_tool/csi_dataset/localization_phone/micro/0309/20MHz/csv/reference_point2.xlsx': 2, '/media/mcs/1441ae67-d7cd-43e6-b028-169f78661a2f/kyle/csi_tool/csi_dataset/localization_phone/micro/0309/20MHz/csv/reference_point3.xlsx': 3, '/media/mcs/1441ae67-d7cd-43e6-b028-169f78661a2f/kyle/csi_tool/csi_dataset/localization_phone/micro/0309/20MHz/csv/reference_point4.xlsx': 4, '/media/mcs/1441ae67-d7cd-43e6-b028-169f78661a2f/kyle/csi_tool/csi_dataset/localization_phone/micro/0309/20MHz/csv/reference_point5.xlsx': 5, '/media/mcs/1441ae67-d7cd-43e6-b028-169f78661a2f/kyle/csi_tool/csi_dataset/localization_phone/micro/0309/20MHz/csv/reference_point6.xlsx': 6, '/media/mcs/1441ae67-d7cd-43e6-b028-169f78661a2f/kyle/csi_tool/csi_dataset/localization_phone/micro/0309/20MHz/csv/reference_point7.xlsx': 7, '/media/mcs/1441ae67-d7cd-43e6-b028-169f78661a2f/kyle/csi_tool/csi_dataset/localization_phone/micro/0309/20MHz/csv/reference_point8.xlsx': 8, '/media/mcs/1441ae67-d7cd-43e6-b028-169f78661a2f/kyle/csi_tool/csi_dataset/localization_phone/micro/0309/20MHz/csv/reference_point9.xlsx': 9, '/media/mcs/1441ae67-d7cd-43e6-b028-169f78661a2f/kyle/csi_tool/csi_dataset/localization_phone/micro/0309/20MHz/csv/reference_point10.xlsx': 10, '/media/mcs/1441ae67-d7cd-43e6-b028-169f78661a2f/kyle/csi_tool/csi_dataset/localization_phone/micro/0309/20MHz/csv/reference_point11.xlsx': 11, '/media/mcs/1441ae67-d7cd-43e6-b028-169f78661a2f/kyle/csi_tool/csi_dataset/localization_phone/micro/0309/20MHz/csv/reference_point12.xlsx': 12, '/media/mcs/1441ae67-d7cd-43e6-b028-169f78661a2f/kyle/csi_tool/csi_dataset/localization_phone/micro/0309/20MHz/csv/reference_point13.xlsx': 13, '/media/mcs/1441ae67-d7cd-43e6-b028-169f78661a2f/kyle/csi_tool/csi_dataset/localization_phone/micro/0309/20MHz/csv/reference_point14.xlsx': 14, '/media/mcs/1441ae67-d7cd-43e6-b028-169f78661a2f/kyle/csi_tool/csi_dataset/localization_phone/micro/0309/20MHz/csv/reference_point15.xlsx': 15, '/media/mcs/1441ae67-d7cd-43e6-b028-169f78661a2f/kyle/csi_tool/csi_dataset/localization_phone/micro/0309/20MHz/csv/reference_point16.xlsx': 16, '/media/mcs/1441ae67-d7cd-43e6-b028-169f78661a2f/kyle/csi_tool/csi_dataset/localization_phone/micro/0309/20MHz/csv/reference_point17.xlsx': 17, '/media/mcs/1441ae67-d7cd-43e6-b028-169f78661a2f/kyle/csi_tool/csi_dataset/localization_phone/micro/0309/20MHz/csv/reference_point18.xlsx': 18, '/media/mcs/1441ae67-d7cd-43e6-b028-169f78661a2f/kyle/csi_tool/csi_dataset/localization_phone/micro/0309/20MHz/csv/reference_point19.xlsx': 19, '/media/mcs/1441ae67-d7cd-43e6-b028-169f78661a2f/kyle/csi_tool/csi_dataset/localization_phone/micro/0309/20MHz/csv/reference_point20.xlsx': 20, '/media/mcs/1441ae67-d7cd-43e6-b028-169f78661a2f/kyle/csi_tool/csi_dataset/localization_phone/micro/0309/20MHz/csv/reference_point21.xlsx': 21, '/media/mcs/1441ae67-d7cd-43e6-b028-169f78661a2f/kyle/csi_tool/csi_dataset/localization_phone/micro/0309/20MHz/csv/reference_point22.xlsx': 22, '/media/mcs/1441ae67-d7cd-43e6-b028-169f78661a2f/kyle/csi_tool/csi_dataset/localization_phone/micro/0309/20MHz/csv/reference_point23.xlsx': 23, '/media/mcs/1441ae67-d7cd-43e6-b028-169f78661a2f/kyle/csi_tool/csi_dataset/localization_phone/micro/0309/20MHz/csv/reference_point24.xlsx': 24, '/media/mcs/1441ae67-d7cd-43e6-b028-169f78661a2f/kyle/csi_tool/csi_dataset/localization_phone/micro/0309/20MHz/csv/reference_point25.xlsx': 25, '/media/mcs/1441ae67-d7cd-43e6-b028-169f78661a2f/kyle/csi_tool/csi_dataset/localization_phone/micro/0309/20MHz/csv/reference_point26.xlsx': 26, '/media/mcs/1441ae67-d7cd-43e6-b028-169f78661a2f/kyle/csi_tool/csi_dataset/localization_phone/micro/0309/20MHz/csv/reference_point27.xlsx': 27, '/media/mcs/1441ae67-d7cd-43e6-b028-169f78661a2f/kyle/csi_tool/csi_dataset/localization_phone/micro/0309/20MHz/csv/reference_point28.xlsx': 28, '/media/mcs/1441ae67-d7cd-43e6-b028-169f78661a2f/kyle/csi_tool/csi_dataset/localization_phone/micro/0309/20MHz/csv/reference_point29.xlsx': 29, '/media/mcs/1441ae67-d7cd-43e6-b028-169f78661a2f/kyle/csi_tool/csi_dataset/localization_phone/micro/0309/20MHz/csv/reference_point30.xlsx': 30, '/media/mcs/1441ae67-d7cd-43e6-b028-169f78661a2f/kyle/csi_tool/csi_dataset/localization_phone/micro/0309/20MHz/csv/reference_point31.xlsx': 31, '/media/mcs/1441ae67-d7cd-43e6-b028-169f78661a2f/kyle/csi_tool/csi_dataset/localization_phone/micro/0309/20MHz/csv/reference_point32.xlsx': 32, '/media/mcs/1441ae67-d7cd-43e6-b028-169f78661a2f/kyle/csi_tool/csi_dataset/localization_phone/micro/0309/20MHz/csv/reference_point33.xlsx': 33, '/media/mcs/1441ae67-d7cd-43e6-b028-169f78661a2f/kyle/csi_tool/csi_dataset/localization_phone/micro/0309/20MHz/csv/reference_point34.xlsx': 34, '/media/mcs/1441ae67-d7cd-43e6-b028-169f78661a2f/kyle/csi_tool/csi_dataset/localization_phone/micro/0309/20MHz/csv/reference_point35.xlsx': 35, '/media/mcs/1441ae67-d7cd-43e6-b028-169f78661a2f/kyle/csi_tool/csi_dataset/localization_phone/micro/0309/20MHz/csv/reference_point36.xlsx': 36}\n"
     ]
    }
   ],
   "source": [
    "base_path = \"/media/mcs/1441ae67-d7cd-43e6-b028-169f78661a2f/kyle/csi_tool/csi_dataset/localization_phone/micro/0309/20MHz/csv\"\n",
    "reference_points = {\n",
    "    f\"{base_path}/reference_point{i}.xlsx\": i for i in range(1, 37)\n",
    "}\n",
    "\n",
    "print(reference_points)"
   ]
  },
  {
   "cell_type": "code",
   "execution_count": 26,
   "metadata": {},
   "outputs": [],
   "source": [
    "def load_data(reference_points):\n",
    "    data = []          \n",
    "    rp_labels = []     \n",
    "\n",
    "    for path, ref_id in reference_points.items():\n",
    "        df = pd.read_excel(path)\n",
    "        data.append(df.values)\n",
    "        rp_labels.extend([ref_id] * len(df))  # 只保留 Reference Point ID\n",
    "\n",
    "    data = pd.DataFrame(np.vstack(data))\n",
    "    rp_labels = pd.Series(rp_labels, name=\"Reference Point ID\")  # 轉為 Pandas Series\n",
    "\n",
    "    return data, rp_labels"
   ]
  },
  {
   "cell_type": "code",
   "execution_count": 27,
   "metadata": {},
   "outputs": [],
   "source": [
    "data, rp_labels = load_data(reference_points)"
   ]
  },
  {
   "cell_type": "code",
   "execution_count": 28,
   "metadata": {},
   "outputs": [],
   "source": [
    "amp_data = np.array(data.iloc[:, :234])\n",
    "phase_data = np.array(data.iloc[:, 234:-2]) "
   ]
  },
  {
   "cell_type": "code",
   "execution_count": 29,
   "metadata": {},
   "outputs": [],
   "source": [
    "amp_d = denoise.preprocess_csi_for_fingerprint2(amp_data)"
   ]
  },
  {
   "cell_type": "code",
   "execution_count": 30,
   "metadata": {},
   "outputs": [],
   "source": [
    "encoder = OneHotEncoder(sparse_output=False)\n",
    "one_hot_labels = encoder.fit_transform(np.array(rp_labels).reshape(-1, 1))"
   ]
  },
  {
   "cell_type": "code",
   "execution_count": 31,
   "metadata": {},
   "outputs": [],
   "source": [
    "amp_train, amp_temp, y_train, y_temp = train_test_split(amp_d, one_hot_labels, test_size=0.3, random_state=1)\n",
    "amp_val, amp_test, y_val, y_test = train_test_split(amp_temp, y_temp, test_size=1/3, random_state=42)"
   ]
  },
  {
   "cell_type": "code",
   "execution_count": 32,
   "metadata": {},
   "outputs": [
    {
     "name": "stdout",
     "output_type": "stream",
     "text": [
      "(1797, 36)\n"
     ]
    }
   ],
   "source": [
    "print(y_test.shape)"
   ]
  },
  {
   "cell_type": "markdown",
   "metadata": {},
   "source": [
    "# K值測試"
   ]
  },
  {
   "cell_type": "code",
   "execution_count": 33,
   "metadata": {},
   "outputs": [
    {
     "name": "stdout",
     "output_type": "stream",
     "text": [
      "K=3 平均準確率: 99.27%\n",
      "K=5 平均準確率: 99.03%\n",
      "K=7 平均準確率: 98.83%\n",
      "K=9 平均準確率: 98.62%\n",
      "K=11 平均準確率: 98.52%\n",
      "K=13 平均準確率: 98.47%\n",
      "K=15 平均準確率: 98.44%\n",
      "K=17 平均準確率: 98.37%\n",
      "K=19 平均準確率: 98.30%\n",
      "\n",
      "📊 最佳 KNN 模型\n",
      "🎯 最佳 K 值: 3\n",
      "🏆 最佳準確率: 99.27%\n"
     ]
    }
   ],
   "source": [
    "from sklearn.model_selection import StratifiedKFold\n",
    "from sklearn.neighbors import KNeighborsClassifier\n",
    "from sklearn.metrics import accuracy_score\n",
    "import numpy as np\n",
    "\n",
    "# 設定 N-Fold 交叉驗證\n",
    "N_FOLD = 10\n",
    "skf = StratifiedKFold(n_splits=N_FOLD, shuffle=True, random_state=42)\n",
    "\n",
    "# 轉換 One-Hot 標籤為標籤索引\n",
    "y_labels = np.argmax(one_hot_labels, axis=1)\n",
    "\n",
    "# 測試的 K 值範圍\n",
    "k_values = range(3, 20, 2)  # 1, 3, 5, ..., 19\n",
    "best_k = None\n",
    "best_acc = 0\n",
    "all_k_accuracies = {}  # 紀錄不同 K 值的準確率\n",
    "\n",
    "# 測試不同的 K 值\n",
    "for k in k_values:\n",
    "    accuracies = []  # 儲存 N-Fold 交叉驗證的準確率\n",
    "    \n",
    "    # 執行 N-Fold 交叉驗證\n",
    "    for train_index, test_index in skf.split(amp_d, y_labels):\n",
    "        X_train, X_test = amp_data[train_index], amp_data[test_index]\n",
    "        y_train, y_test = y_labels[train_index], y_labels[test_index]\n",
    "\n",
    "        # 訓練 KNN 模型\n",
    "        knn = KNeighborsClassifier(n_neighbors=k)\n",
    "        knn.fit(X_train, y_train)\n",
    "\n",
    "        # 進行預測\n",
    "        y_pred = knn.predict(X_test)\n",
    "\n",
    "        # 計算準確率\n",
    "        acc = accuracy_score(y_test, y_pred)\n",
    "        accuracies.append(acc)\n",
    "\n",
    "    # 計算 K 值的平均準確率\n",
    "    mean_acc = np.mean(accuracies)\n",
    "    all_k_accuracies[k] = mean_acc  # 記錄 K 值的結果\n",
    "\n",
    "    print(f\"K={k} 平均準確率: {mean_acc * 100:.2f}%\")\n",
    "\n",
    "    # 更新最佳 K 值\n",
    "    if mean_acc > best_acc:\n",
    "        best_acc = mean_acc\n",
    "        best_k = k\n",
    "\n",
    "# 輸出最佳 K 值\n",
    "print(\"\\n📊 最佳 KNN 模型\")\n",
    "print(f\"🎯 最佳 K 值: {best_k}\")\n",
    "print(f\"🏆 最佳準確率: {best_acc * 100:.2f}%\")\n"
   ]
  },
  {
   "cell_type": "code",
   "execution_count": 34,
   "metadata": {},
   "outputs": [],
   "source": [
    "knn = KNeighborsClassifier(n_neighbors=3, weights='distance', metric='manhattan')"
   ]
  },
  {
   "cell_type": "markdown",
   "metadata": {},
   "source": [
    "# N-ford 測試"
   ]
  },
  {
   "cell_type": "code",
   "execution_count": 35,
   "metadata": {},
   "outputs": [
    {
     "name": "stdout",
     "output_type": "stream",
     "text": [
      "Fold 準確率: 0.9933\n",
      "Fold 準確率: 0.9950\n",
      "Fold 準確率: 0.9928\n",
      "Fold 準確率: 0.9922\n",
      "Fold 準確率: 0.9933\n",
      "Fold 準確率: 0.9922\n",
      "Fold 準確率: 0.9939\n",
      "Fold 準確率: 0.9939\n",
      "Fold 準確率: 0.9939\n",
      "Fold 準確率: 0.9928\n",
      "\n",
      "📊 N-FOLD 交叉驗證結果\n",
      "⏱️ 平均準確率: 99.33%\n",
      "📉 準確率標準差: 0.08%\n"
     ]
    }
   ],
   "source": [
    "from sklearn.model_selection import StratifiedKFold\n",
    "from sklearn.metrics import accuracy_score\n",
    "import numpy as np\n",
    "\n",
    "# 設定 N-Fold 交叉驗證\n",
    "N_FOLD = 10  # 設定 N 為 10\n",
    "skf = StratifiedKFold(n_splits=N_FOLD, shuffle=True, random_state=1)\n",
    "\n",
    "accuracies = []  # 儲存每次 Fold 的準確率\n",
    "\n",
    "# 轉換 one-hot 標籤為標籤索引\n",
    "y_labels = np.argmax(one_hot_labels, axis=1)  # 轉換成 (N,)\n",
    "\n",
    "# 開始 N-Fold 交叉驗證\n",
    "for train_index, test_index in skf.split(amp_d, y_labels):  # ✅ 使用標籤索引\n",
    "    X_train, X_test = amp_data[train_index], amp_data[test_index]\n",
    "    y_train, y_test = y_labels[train_index], y_labels[test_index]  # ✅ 確保 y_train, y_test 是 (N,)\n",
    "\n",
    "    # 訓練 KNN 模型\n",
    "    knn.fit(X_train, y_train)\n",
    "\n",
    "    # 進行預測\n",
    "    y_pred = knn.predict(X_test)\n",
    "\n",
    "    # 計算準確率\n",
    "    acc = accuracy_score(y_test, y_pred)\n",
    "    accuracies.append(acc)\n",
    "\n",
    "    print(f\"Fold 準確率: {acc:.4f}\")\n",
    "\n",
    "# 計算 N-Fold 平均準確率與標準差\n",
    "mean_acc = np.mean(accuracies)\n",
    "std_acc = np.std(accuracies)\n",
    "\n",
    "print(\"\\n📊 N-FOLD 交叉驗證結果\")\n",
    "print(f\"⏱️ 平均準確率: {mean_acc * 100:.2f}%\")\n",
    "print(f\"📉 準確率標準差: {std_acc * 100:.2f}%\")\n"
   ]
  },
  {
   "cell_type": "code",
   "execution_count": 36,
   "metadata": {},
   "outputs": [
    {
     "name": "stdout",
     "output_type": "stream",
     "text": [
      "\n",
      "📊 KNN (7:2:1, Val 作為測試集) 結果\n",
      "✅ K-Fold 平均準確率: 99.23%\n",
      "🏆 KNN 最終測試集準確率（使用原 Val）: 99.09%\n"
     ]
    }
   ],
   "source": [
    "from sklearn.model_selection import StratifiedShuffleSplit, StratifiedKFold, GridSearchCV\n",
    "from sklearn.neighbors import KNeighborsClassifier\n",
    "from sklearn.metrics import accuracy_score\n",
    "import numpy as np\n",
    "\n",
    "# 轉換標籤索引\n",
    "y_labels = np.argmax(one_hot_labels, axis=1) if one_hot_labels.ndim == 2 else one_hot_labels\n",
    "\n",
    "# **先分 7:2:1，但捨棄 10% 測試集**\n",
    "splitter = StratifiedShuffleSplit(n_splits=1, test_size=0.3, random_state=42)  # 30% = 20% 驗證 + 10% 測試\n",
    "train_val_idx, test_idx = next(splitter.split(amp_d, y_labels))\n",
    "\n",
    "# ✅ **不使用 10% 測試集，只用 20% Val 作為測試集**\n",
    "X_train, y_train = amp_data[train_val_idx], y_labels[train_val_idx]  # 70% 訓練\n",
    "X_test, y_test = amp_data[test_idx], y_labels[test_idx]  # 20% 測試（原本的驗證集）\n",
    "\n",
    "# **在 70% 訓練集內部做 10-Fold 交叉驗證**\n",
    "N_FOLD = 10\n",
    "skf = StratifiedKFold(n_splits=N_FOLD, shuffle=True, random_state=42)\n",
    "\n",
    "# 設定 KNN 和 GridSearch 參數\n",
    "knn = KNeighborsClassifier()\n",
    "param_grid = {\n",
    "    'n_neighbors': [3, 5, 7, 9],\n",
    "    'metric': ['euclidean', 'manhattan'],\n",
    "    'weights': ['uniform', 'distance']\n",
    "}\n",
    "\n",
    "grid_search = GridSearchCV(knn, param_grid, cv=skf, scoring='accuracy', n_jobs=-1)\n",
    "grid_search.fit(X_train, y_train)\n",
    "\n",
    "# **取得 K-Fold 平均準確率**\n",
    "mean_cv_acc = grid_search.best_score_\n",
    "\n",
    "# **最後測試最佳模型在測試集（原本的 Val）上的準確率**\n",
    "best_knn = grid_search.best_estimator_\n",
    "y_test_pred = best_knn.predict(X_test)\n",
    "final_acc = accuracy_score(y_test, y_test_pred)\n",
    "\n",
    "print(\"\\n📊 KNN (7:2:1, Val 作為測試集) 結果\")\n",
    "print(f\"✅ K-Fold 平均準確率: {mean_cv_acc * 100:.2f}%\")\n",
    "print(f\"🏆 KNN 最終測試集準確率（使用原 Val）: {final_acc * 100:.2f}%\")\n",
    "\n"
   ]
  },
  {
   "cell_type": "code",
   "execution_count": 38,
   "metadata": {},
   "outputs": [
    {
     "name": "stdout",
     "output_type": "stream",
     "text": [
      "📊 N-FOLD 測試結果（共 10 次）\n",
      "⏳ 平均每次總推論時間: 0.636980 秒\n",
      "⏱️ 平均每筆資料推論時間: 0.354469 毫秒\n",
      "📉 單筆推論時間標準差: 0.006764 毫秒\n"
     ]
    }
   ],
   "source": [
    "import time\n",
    "import numpy as np\n",
    "\n",
    "N_FOLD = 10  # 設定重複測試的次數\n",
    "total_times = []  # 儲存 N 次的總推論時間\n",
    "sample_times = []  # 儲存 N 次的單筆推論時間\n",
    "\n",
    "\n",
    "for _ in range(N_FOLD):\n",
    "    knn.fit(X_train, y_train)\n",
    "    start_time = time.perf_counter()\n",
    "    y_pred = knn.predict(amp_d)  # 進行 KNN 預測\n",
    "    end_time = time.perf_counter()\n",
    "\n",
    "    total_time = end_time - start_time  # 計算 KNN 預測總時間\n",
    "    total_times.append(total_time)\n",
    "\n",
    "    avg_time_per_sample = total_time / len(amp_test)  # 計算每筆資料的平均推論時間\n",
    "    sample_times.append(avg_time_per_sample)\n",
    "\n",
    "# 計算統計數據\n",
    "mean_total_time = np.mean(total_times)\n",
    "mean_sample_time = np.mean(sample_times)\n",
    "std_sample_time = np.std(sample_times)\n",
    "\n",
    "# 顯示結果\n",
    "print(f\"📊 N-FOLD 測試結果（共 {N_FOLD} 次）\")\n",
    "print(f\"⏳ 平均每次總推論時間: {mean_total_time:.6f} 秒\")\n",
    "print(f\"⏱️ 平均每筆資料推論時間: {mean_sample_time * 1000:.6f} 毫秒\")\n",
    "print(f\"📉 單筆推論時間標準差: {std_sample_time * 1000:.6f} 毫秒\")\n",
    "\n"
   ]
  }
 ],
 "metadata": {
  "kernelspec": {
   "display_name": "kyle_ai",
   "language": "python",
   "name": "python3"
  },
  "language_info": {
   "codemirror_mode": {
    "name": "ipython",
    "version": 3
   },
   "file_extension": ".py",
   "mimetype": "text/x-python",
   "name": "python",
   "nbconvert_exporter": "python",
   "pygments_lexer": "ipython3",
   "version": "3.12.0"
  }
 },
 "nbformat": 4,
 "nbformat_minor": 2
}
