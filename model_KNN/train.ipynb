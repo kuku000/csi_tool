{
 "cells": [
  {
   "cell_type": "code",
   "execution_count": 1,
   "metadata": {},
   "outputs": [],
   "source": [
    "import os \n",
    "import sys\n",
    "\n",
    "import sklearn as sk\n",
    "import numpy as np\n",
    "import pandas as pd\n",
    "from sklearn.model_selection import train_test_split\n",
    "from sklearn.neighbors import KNeighborsClassifier\n",
    "from sklearn.metrics import confusion_matrix, accuracy_score, classification_report\n",
    "from sklearn.preprocessing import StandardScaler, MinMaxScaler\n",
    "from sklearn.ensemble import RandomForestClassifier\n",
    "from xgboost import XGBClassifier\n",
    "from sklearn.decomposition import PCA\n",
    "import matplotlib.pyplot as plt \n",
    "import xgboost as xgb\n",
    "from sklearn.preprocessing import OneHotEncoder\n",
    "\n",
    "from scipy.stats import kurtosis, entropy\n",
    "from scipy.fft import fft"
   ]
  },
  {
   "cell_type": "code",
   "execution_count": 2,
   "metadata": {},
   "outputs": [],
   "source": [
    "sys.path.append(r\"/media/mcs/1441ae67-d7cd-43e6-b028-169f78661a2f/kyle/csi_tool\") #這行為絕對路徑，如需使用，必須要修改為當前決路徑\n",
    "import csi_tool\n",
    "import denoise"
   ]
  },
  {
   "cell_type": "code",
   "execution_count": 3,
   "metadata": {},
   "outputs": [
    {
     "name": "stdout",
     "output_type": "stream",
     "text": [
      "{'/media/mcs/1441ae67-d7cd-43e6-b028-169f78661a2f/kyle/csi_tool/csi_dataset/localization_phone/micro/0303/80Mhz/csv/reference_point1.xlsx': 1, '/media/mcs/1441ae67-d7cd-43e6-b028-169f78661a2f/kyle/csi_tool/csi_dataset/localization_phone/micro/0303/80Mhz/csv/reference_point2.xlsx': 2, '/media/mcs/1441ae67-d7cd-43e6-b028-169f78661a2f/kyle/csi_tool/csi_dataset/localization_phone/micro/0303/80Mhz/csv/reference_point3.xlsx': 3, '/media/mcs/1441ae67-d7cd-43e6-b028-169f78661a2f/kyle/csi_tool/csi_dataset/localization_phone/micro/0303/80Mhz/csv/reference_point4.xlsx': 4, '/media/mcs/1441ae67-d7cd-43e6-b028-169f78661a2f/kyle/csi_tool/csi_dataset/localization_phone/micro/0303/80Mhz/csv/reference_point5.xlsx': 5, '/media/mcs/1441ae67-d7cd-43e6-b028-169f78661a2f/kyle/csi_tool/csi_dataset/localization_phone/micro/0303/80Mhz/csv/reference_point6.xlsx': 6, '/media/mcs/1441ae67-d7cd-43e6-b028-169f78661a2f/kyle/csi_tool/csi_dataset/localization_phone/micro/0303/80Mhz/csv/reference_point7.xlsx': 7, '/media/mcs/1441ae67-d7cd-43e6-b028-169f78661a2f/kyle/csi_tool/csi_dataset/localization_phone/micro/0303/80Mhz/csv/reference_point8.xlsx': 8, '/media/mcs/1441ae67-d7cd-43e6-b028-169f78661a2f/kyle/csi_tool/csi_dataset/localization_phone/micro/0303/80Mhz/csv/reference_point9.xlsx': 9, '/media/mcs/1441ae67-d7cd-43e6-b028-169f78661a2f/kyle/csi_tool/csi_dataset/localization_phone/micro/0303/80Mhz/csv/reference_point10.xlsx': 10, '/media/mcs/1441ae67-d7cd-43e6-b028-169f78661a2f/kyle/csi_tool/csi_dataset/localization_phone/micro/0303/80Mhz/csv/reference_point11.xlsx': 11, '/media/mcs/1441ae67-d7cd-43e6-b028-169f78661a2f/kyle/csi_tool/csi_dataset/localization_phone/micro/0303/80Mhz/csv/reference_point12.xlsx': 12, '/media/mcs/1441ae67-d7cd-43e6-b028-169f78661a2f/kyle/csi_tool/csi_dataset/localization_phone/micro/0303/80Mhz/csv/reference_point13.xlsx': 13, '/media/mcs/1441ae67-d7cd-43e6-b028-169f78661a2f/kyle/csi_tool/csi_dataset/localization_phone/micro/0303/80Mhz/csv/reference_point14.xlsx': 14, '/media/mcs/1441ae67-d7cd-43e6-b028-169f78661a2f/kyle/csi_tool/csi_dataset/localization_phone/micro/0303/80Mhz/csv/reference_point15.xlsx': 15, '/media/mcs/1441ae67-d7cd-43e6-b028-169f78661a2f/kyle/csi_tool/csi_dataset/localization_phone/micro/0303/80Mhz/csv/reference_point16.xlsx': 16, '/media/mcs/1441ae67-d7cd-43e6-b028-169f78661a2f/kyle/csi_tool/csi_dataset/localization_phone/micro/0303/80Mhz/csv/reference_point17.xlsx': 17, '/media/mcs/1441ae67-d7cd-43e6-b028-169f78661a2f/kyle/csi_tool/csi_dataset/localization_phone/micro/0303/80Mhz/csv/reference_point18.xlsx': 18, '/media/mcs/1441ae67-d7cd-43e6-b028-169f78661a2f/kyle/csi_tool/csi_dataset/localization_phone/micro/0303/80Mhz/csv/reference_point19.xlsx': 19, '/media/mcs/1441ae67-d7cd-43e6-b028-169f78661a2f/kyle/csi_tool/csi_dataset/localization_phone/micro/0303/80Mhz/csv/reference_point20.xlsx': 20, '/media/mcs/1441ae67-d7cd-43e6-b028-169f78661a2f/kyle/csi_tool/csi_dataset/localization_phone/micro/0303/80Mhz/csv/reference_point21.xlsx': 21, '/media/mcs/1441ae67-d7cd-43e6-b028-169f78661a2f/kyle/csi_tool/csi_dataset/localization_phone/micro/0303/80Mhz/csv/reference_point22.xlsx': 22, '/media/mcs/1441ae67-d7cd-43e6-b028-169f78661a2f/kyle/csi_tool/csi_dataset/localization_phone/micro/0303/80Mhz/csv/reference_point23.xlsx': 23, '/media/mcs/1441ae67-d7cd-43e6-b028-169f78661a2f/kyle/csi_tool/csi_dataset/localization_phone/micro/0303/80Mhz/csv/reference_point24.xlsx': 24, '/media/mcs/1441ae67-d7cd-43e6-b028-169f78661a2f/kyle/csi_tool/csi_dataset/localization_phone/micro/0303/80Mhz/csv/reference_point25.xlsx': 25, '/media/mcs/1441ae67-d7cd-43e6-b028-169f78661a2f/kyle/csi_tool/csi_dataset/localization_phone/micro/0303/80Mhz/csv/reference_point26.xlsx': 26, '/media/mcs/1441ae67-d7cd-43e6-b028-169f78661a2f/kyle/csi_tool/csi_dataset/localization_phone/micro/0303/80Mhz/csv/reference_point27.xlsx': 27, '/media/mcs/1441ae67-d7cd-43e6-b028-169f78661a2f/kyle/csi_tool/csi_dataset/localization_phone/micro/0303/80Mhz/csv/reference_point28.xlsx': 28, '/media/mcs/1441ae67-d7cd-43e6-b028-169f78661a2f/kyle/csi_tool/csi_dataset/localization_phone/micro/0303/80Mhz/csv/reference_point29.xlsx': 29, '/media/mcs/1441ae67-d7cd-43e6-b028-169f78661a2f/kyle/csi_tool/csi_dataset/localization_phone/micro/0303/80Mhz/csv/reference_point30.xlsx': 30, '/media/mcs/1441ae67-d7cd-43e6-b028-169f78661a2f/kyle/csi_tool/csi_dataset/localization_phone/micro/0303/80Mhz/csv/reference_point31.xlsx': 31, '/media/mcs/1441ae67-d7cd-43e6-b028-169f78661a2f/kyle/csi_tool/csi_dataset/localization_phone/micro/0303/80Mhz/csv/reference_point32.xlsx': 32, '/media/mcs/1441ae67-d7cd-43e6-b028-169f78661a2f/kyle/csi_tool/csi_dataset/localization_phone/micro/0303/80Mhz/csv/reference_point33.xlsx': 33, '/media/mcs/1441ae67-d7cd-43e6-b028-169f78661a2f/kyle/csi_tool/csi_dataset/localization_phone/micro/0303/80Mhz/csv/reference_point34.xlsx': 34, '/media/mcs/1441ae67-d7cd-43e6-b028-169f78661a2f/kyle/csi_tool/csi_dataset/localization_phone/micro/0303/80Mhz/csv/reference_point35.xlsx': 35, '/media/mcs/1441ae67-d7cd-43e6-b028-169f78661a2f/kyle/csi_tool/csi_dataset/localization_phone/micro/0303/80Mhz/csv/reference_point36.xlsx': 36}\n"
     ]
    }
   ],
   "source": [
    "base_path = \"/media/mcs/1441ae67-d7cd-43e6-b028-169f78661a2f/kyle/csi_tool/csi_dataset/localization_phone/micro/0303/80Mhz/csv\"\n",
    "reference_points = {\n",
    "    f\"{base_path}/reference_point{i}.xlsx\": i for i in range(1, 37)\n",
    "}\n",
    "\n",
    "print(reference_points)"
   ]
  },
  {
   "cell_type": "code",
   "execution_count": 4,
   "metadata": {},
   "outputs": [],
   "source": [
    "def load_data(reference_points):\n",
    "    data = []          \n",
    "    rp_labels = []     \n",
    "\n",
    "    for path, ref_id in reference_points.items():\n",
    "        df = pd.read_excel(path)\n",
    "        data.append(df.values)\n",
    "        rp_labels.extend([ref_id] * len(df))  # 只保留 Reference Point ID\n",
    "\n",
    "    data = pd.DataFrame(np.vstack(data))\n",
    "    rp_labels = pd.Series(rp_labels, name=\"Reference Point ID\")  # 轉為 Pandas Series\n",
    "\n",
    "    return data, rp_labels"
   ]
  },
  {
   "cell_type": "code",
   "execution_count": 5,
   "metadata": {},
   "outputs": [],
   "source": [
    "data, rp_labels = load_data(reference_points)"
   ]
  },
  {
   "cell_type": "code",
   "execution_count": 6,
   "metadata": {},
   "outputs": [],
   "source": [
    "amp_data = np.array(data.iloc[:, :234])\n",
    "phase_data = np.array(data.iloc[:, 234:-2]) "
   ]
  },
  {
   "cell_type": "code",
   "execution_count": 7,
   "metadata": {},
   "outputs": [],
   "source": [
    "amp_d = denoise.preprocess_csi_for_fingerprint2(amp_data)"
   ]
  },
  {
   "cell_type": "code",
   "execution_count": 8,
   "metadata": {},
   "outputs": [],
   "source": [
    "encoder = OneHotEncoder(sparse_output=False)\n",
    "one_hot_labels = encoder.fit_transform(np.array(rp_labels).reshape(-1, 1))"
   ]
  },
  {
   "cell_type": "code",
   "execution_count": 9,
   "metadata": {},
   "outputs": [],
   "source": [
    "amp_train, amp_temp, y_train, y_temp = train_test_split(data, one_hot_labels, test_size=0.3, random_state=1)\n",
    "amp_val, amp_test, y_val, y_test = train_test_split(amp_temp, y_temp, test_size=1/3, random_state=42)"
   ]
  },
  {
   "cell_type": "code",
   "execution_count": 10,
   "metadata": {},
   "outputs": [
    {
     "name": "stdout",
     "output_type": "stream",
     "text": [
      "(717, 36)\n"
     ]
    }
   ],
   "source": [
    "print(y_test.shape)"
   ]
  },
  {
   "cell_type": "markdown",
   "metadata": {},
   "source": [
    "# K值測試"
   ]
  },
  {
   "cell_type": "code",
   "execution_count": 11,
   "metadata": {},
   "outputs": [
    {
     "name": "stdout",
     "output_type": "stream",
     "text": [
      "K=3 平均準確率: 97.26%\n",
      "K=5 平均準確率: 96.83%\n",
      "K=7 平均準確率: 96.40%\n",
      "K=9 平均準確率: 95.99%\n",
      "K=11 平均準確率: 95.69%\n",
      "K=13 平均準確率: 95.30%\n",
      "K=15 平均準確率: 94.99%\n",
      "K=17 平均準確率: 94.53%\n",
      "K=19 平均準確率: 94.22%\n",
      "\n",
      "📊 最佳 KNN 模型\n",
      "🎯 最佳 K 值: 3\n",
      "🏆 最佳準確率: 97.26%\n"
     ]
    }
   ],
   "source": [
    "from sklearn.model_selection import StratifiedKFold\n",
    "from sklearn.neighbors import KNeighborsClassifier\n",
    "from sklearn.metrics import accuracy_score\n",
    "import numpy as np\n",
    "\n",
    "# 設定 N-Fold 交叉驗證\n",
    "N_FOLD = 10\n",
    "skf = StratifiedKFold(n_splits=N_FOLD, shuffle=True, random_state=42)\n",
    "\n",
    "# 轉換 One-Hot 標籤為標籤索引\n",
    "y_labels = np.argmax(one_hot_labels, axis=1)\n",
    "\n",
    "# 測試的 K 值範圍\n",
    "k_values = range(3, 20, 2)  # 1, 3, 5, ..., 19\n",
    "best_k = None\n",
    "best_acc = 0\n",
    "all_k_accuracies = {}  # 紀錄不同 K 值的準確率\n",
    "\n",
    "# 測試不同的 K 值\n",
    "for k in k_values:\n",
    "    accuracies = []  # 儲存 N-Fold 交叉驗證的準確率\n",
    "    \n",
    "    # 執行 N-Fold 交叉驗證\n",
    "    for train_index, test_index in skf.split(data, y_labels):\n",
    "        X_train, X_test = amp_data[train_index], amp_data[test_index]\n",
    "        y_train, y_test = y_labels[train_index], y_labels[test_index]\n",
    "\n",
    "        # 訓練 KNN 模型\n",
    "        knn = KNeighborsClassifier(n_neighbors=k)\n",
    "        knn.fit(X_train, y_train)\n",
    "\n",
    "        # 進行預測\n",
    "        y_pred = knn.predict(X_test)\n",
    "\n",
    "        # 計算準確率\n",
    "        acc = accuracy_score(y_test, y_pred)\n",
    "        accuracies.append(acc)\n",
    "\n",
    "    # 計算 K 值的平均準確率\n",
    "    mean_acc = np.mean(accuracies)\n",
    "    all_k_accuracies[k] = mean_acc  # 記錄 K 值的結果\n",
    "\n",
    "    print(f\"K={k} 平均準確率: {mean_acc * 100:.2f}%\")\n",
    "\n",
    "    # 更新最佳 K 值\n",
    "    if mean_acc > best_acc:\n",
    "        best_acc = mean_acc\n",
    "        best_k = k\n",
    "\n",
    "# 輸出最佳 K 值\n",
    "print(\"\\n📊 最佳 KNN 模型\")\n",
    "print(f\"🎯 最佳 K 值: {best_k}\")\n",
    "print(f\"🏆 最佳準確率: {best_acc * 100:.2f}%\")\n"
   ]
  },
  {
   "cell_type": "code",
   "execution_count": 25,
   "metadata": {},
   "outputs": [],
   "source": [
    "knn = KNeighborsClassifier(n_neighbors=3, weights='distance', metric='manhattan')"
   ]
  },
  {
   "cell_type": "markdown",
   "metadata": {},
   "source": [
    "# N-ford 測試"
   ]
  },
  {
   "cell_type": "code",
   "execution_count": 34,
   "metadata": {},
   "outputs": [
    {
     "name": "stdout",
     "output_type": "stream",
     "text": [
      "Fold 準確率: 0.9749\n",
      "Fold 準確率: 0.9693\n",
      "Fold 準確率: 0.9637\n",
      "Fold 準確率: 0.9637\n",
      "Fold 準確率: 0.9721\n",
      "Fold 準確率: 0.9763\n",
      "Fold 準確率: 0.9721\n",
      "Fold 準確率: 0.9721\n",
      "Fold 準確率: 0.9595\n",
      "Fold 準確率: 0.9777\n",
      "\n",
      "📊 N-FOLD 交叉驗證結果\n",
      "⏱️ 平均準確率: 97.01%\n",
      "📉 準確率標準差: 0.57%\n"
     ]
    }
   ],
   "source": [
    "from sklearn.model_selection import StratifiedKFold\n",
    "from sklearn.metrics import accuracy_score\n",
    "import numpy as np\n",
    "\n",
    "# 設定 N-Fold 交叉驗證\n",
    "N_FOLD = 10  # 設定 N 為 10\n",
    "skf = StratifiedKFold(n_splits=N_FOLD, shuffle=True, random_state=1)\n",
    "\n",
    "accuracies = []  # 儲存每次 Fold 的準確率\n",
    "\n",
    "# 轉換 one-hot 標籤為標籤索引\n",
    "y_labels = np.argmax(one_hot_labels, axis=1)  # 轉換成 (N,)\n",
    "\n",
    "# 開始 N-Fold 交叉驗證\n",
    "for train_index, test_index in skf.split(amp_data, y_labels):  # ✅ 使用標籤索引\n",
    "    X_train, X_test = amp_data[train_index], amp_data[test_index]\n",
    "    y_train, y_test = y_labels[train_index], y_labels[test_index]  # ✅ 確保 y_train, y_test 是 (N,)\n",
    "\n",
    "    # 訓練 KNN 模型\n",
    "    knn.fit(X_train, y_train)\n",
    "\n",
    "    # 進行預測\n",
    "    y_pred = knn.predict(X_test)\n",
    "\n",
    "    # 計算準確率\n",
    "    acc = accuracy_score(y_test, y_pred)\n",
    "    accuracies.append(acc)\n",
    "\n",
    "    print(f\"Fold 準確率: {acc:.4f}\")\n",
    "\n",
    "# 計算 N-Fold 平均準確率與標準差\n",
    "mean_acc = np.mean(accuracies)\n",
    "std_acc = np.std(accuracies)\n",
    "\n",
    "print(\"\\n📊 N-FOLD 交叉驗證結果\")\n",
    "print(f\"⏱️ 平均準確率: {mean_acc * 100:.2f}%\")\n",
    "print(f\"📉 準確率標準差: {std_acc * 100:.2f}%\")\n"
   ]
  },
  {
   "cell_type": "code",
   "execution_count": 33,
   "metadata": {},
   "outputs": [
    {
     "name": "stdout",
     "output_type": "stream",
     "text": [
      "\n",
      "📊 KNN (7:2:1, Val 作為測試集) 結果\n",
      "✅ K-Fold 平均準確率: 97.15%\n",
      "🏆 KNN 最終測試集準確率（使用原 Val）: 97.81%\n"
     ]
    }
   ],
   "source": [
    "from sklearn.model_selection import StratifiedShuffleSplit, StratifiedKFold, GridSearchCV\n",
    "from sklearn.neighbors import KNeighborsClassifier\n",
    "from sklearn.metrics import accuracy_score\n",
    "import numpy as np\n",
    "\n",
    "# 轉換標籤索引\n",
    "y_labels = np.argmax(one_hot_labels, axis=1) if one_hot_labels.ndim == 2 else one_hot_labels\n",
    "\n",
    "# **先分 7:2:1，但捨棄 10% 測試集**\n",
    "splitter = StratifiedShuffleSplit(n_splits=1, test_size=0.3, random_state=42)  # 30% = 20% 驗證 + 10% 測試\n",
    "train_val_idx, test_idx = next(splitter.split(amp_data, y_labels))\n",
    "\n",
    "# ✅ **不使用 10% 測試集，只用 20% Val 作為測試集**\n",
    "X_train, y_train = amp_data[train_val_idx], y_labels[train_val_idx]  # 70% 訓練\n",
    "X_test, y_test = amp_data[test_idx], y_labels[test_idx]  # 20% 測試（原本的驗證集）\n",
    "\n",
    "# **在 70% 訓練集內部做 10-Fold 交叉驗證**\n",
    "N_FOLD = 10\n",
    "skf = StratifiedKFold(n_splits=N_FOLD, shuffle=True, random_state=42)\n",
    "\n",
    "# 設定 KNN 和 GridSearch 參數\n",
    "knn = KNeighborsClassifier()\n",
    "param_grid = {\n",
    "    'n_neighbors': [3, 5, 7, 9],\n",
    "    'metric': ['euclidean', 'manhattan'],\n",
    "    'weights': ['uniform', 'distance']\n",
    "}\n",
    "\n",
    "grid_search = GridSearchCV(knn, param_grid, cv=skf, scoring='accuracy', n_jobs=-1)\n",
    "grid_search.fit(X_train, y_train)\n",
    "\n",
    "# **取得 K-Fold 平均準確率**\n",
    "mean_cv_acc = grid_search.best_score_\n",
    "\n",
    "# **最後測試最佳模型在測試集（原本的 Val）上的準確率**\n",
    "best_knn = grid_search.best_estimator_\n",
    "y_test_pred = best_knn.predict(X_test)\n",
    "final_acc = accuracy_score(y_test, y_test_pred)\n",
    "\n",
    "print(\"\\n📊 KNN (7:2:1, Val 作為測試集) 結果\")\n",
    "print(f\"✅ K-Fold 平均準確率: {mean_cv_acc * 100:.2f}%\")\n",
    "print(f\"🏆 KNN 最終測試集準確率（使用原 Val）: {final_acc * 100:.2f}%\")\n",
    "\n"
   ]
  },
  {
   "cell_type": "code",
   "execution_count": null,
   "metadata": {},
   "outputs": [
    {
     "ename": "ValueError",
     "evalue": "X has 470 features, but KNeighborsClassifier is expecting 234 features as input.",
     "output_type": "error",
     "traceback": [
      "\u001b[0;31m---------------------------------------------------------------------------\u001b[0m",
      "\u001b[0;31mValueError\u001b[0m                                Traceback (most recent call last)",
      "Cell \u001b[0;32mIn[42], line 10\u001b[0m\n\u001b[1;32m      8\u001b[0m \u001b[38;5;28;01mfor\u001b[39;00m _ \u001b[38;5;129;01min\u001b[39;00m \u001b[38;5;28mrange\u001b[39m(N_FOLD):\n\u001b[1;32m      9\u001b[0m     start_time \u001b[38;5;241m=\u001b[39m time\u001b[38;5;241m.\u001b[39mperf_counter()\n\u001b[0;32m---> 10\u001b[0m     y_pred \u001b[38;5;241m=\u001b[39m \u001b[43mknn\u001b[49m\u001b[38;5;241;43m.\u001b[39;49m\u001b[43mpredict\u001b[49m\u001b[43m(\u001b[49m\u001b[43mdata\u001b[49m\u001b[43m)\u001b[49m  \u001b[38;5;66;03m# 進行 KNN 預測\u001b[39;00m\n\u001b[1;32m     11\u001b[0m     end_time \u001b[38;5;241m=\u001b[39m time\u001b[38;5;241m.\u001b[39mperf_counter()\n\u001b[1;32m     13\u001b[0m     total_time \u001b[38;5;241m=\u001b[39m end_time \u001b[38;5;241m-\u001b[39m start_time  \u001b[38;5;66;03m# 計算 KNN 預測總時間\u001b[39;00m\n",
      "File \u001b[0;32m~/anaconda3/envs/kyle_ai/lib/python3.12/site-packages/sklearn/neighbors/_classification.py:274\u001b[0m, in \u001b[0;36mKNeighborsClassifier.predict\u001b[0;34m(self, X)\u001b[0m\n\u001b[1;32m    271\u001b[0m         \u001b[38;5;28;01mreturn\u001b[39;00m \u001b[38;5;28mself\u001b[39m\u001b[38;5;241m.\u001b[39mclasses_[np\u001b[38;5;241m.\u001b[39margmax(probabilities, axis\u001b[38;5;241m=\u001b[39m\u001b[38;5;241m1\u001b[39m)]\n\u001b[1;32m    272\u001b[0m     \u001b[38;5;66;03m# In that case, we do not need the distances to perform\u001b[39;00m\n\u001b[1;32m    273\u001b[0m     \u001b[38;5;66;03m# the weighting so we do not compute them.\u001b[39;00m\n\u001b[0;32m--> 274\u001b[0m     neigh_ind \u001b[38;5;241m=\u001b[39m \u001b[38;5;28;43mself\u001b[39;49m\u001b[38;5;241;43m.\u001b[39;49m\u001b[43mkneighbors\u001b[49m\u001b[43m(\u001b[49m\u001b[43mX\u001b[49m\u001b[43m,\u001b[49m\u001b[43m \u001b[49m\u001b[43mreturn_distance\u001b[49m\u001b[38;5;241;43m=\u001b[39;49m\u001b[38;5;28;43;01mFalse\u001b[39;49;00m\u001b[43m)\u001b[49m\n\u001b[1;32m    275\u001b[0m     neigh_dist \u001b[38;5;241m=\u001b[39m \u001b[38;5;28;01mNone\u001b[39;00m\n\u001b[1;32m    276\u001b[0m \u001b[38;5;28;01melse\u001b[39;00m:\n",
      "File \u001b[0;32m~/anaconda3/envs/kyle_ai/lib/python3.12/site-packages/sklearn/neighbors/_base.py:838\u001b[0m, in \u001b[0;36mKNeighborsMixin.kneighbors\u001b[0;34m(self, X, n_neighbors, return_distance)\u001b[0m\n\u001b[1;32m    836\u001b[0m         X \u001b[38;5;241m=\u001b[39m _check_precomputed(X)\n\u001b[1;32m    837\u001b[0m     \u001b[38;5;28;01melse\u001b[39;00m:\n\u001b[0;32m--> 838\u001b[0m         X \u001b[38;5;241m=\u001b[39m \u001b[43mvalidate_data\u001b[49m\u001b[43m(\u001b[49m\n\u001b[1;32m    839\u001b[0m \u001b[43m            \u001b[49m\u001b[38;5;28;43mself\u001b[39;49m\u001b[43m,\u001b[49m\n\u001b[1;32m    840\u001b[0m \u001b[43m            \u001b[49m\u001b[43mX\u001b[49m\u001b[43m,\u001b[49m\n\u001b[1;32m    841\u001b[0m \u001b[43m            \u001b[49m\u001b[43mensure_all_finite\u001b[49m\u001b[38;5;241;43m=\u001b[39;49m\u001b[43mensure_all_finite\u001b[49m\u001b[43m,\u001b[49m\n\u001b[1;32m    842\u001b[0m \u001b[43m            \u001b[49m\u001b[43maccept_sparse\u001b[49m\u001b[38;5;241;43m=\u001b[39;49m\u001b[38;5;124;43m\"\u001b[39;49m\u001b[38;5;124;43mcsr\u001b[39;49m\u001b[38;5;124;43m\"\u001b[39;49m\u001b[43m,\u001b[49m\n\u001b[1;32m    843\u001b[0m \u001b[43m            \u001b[49m\u001b[43mreset\u001b[49m\u001b[38;5;241;43m=\u001b[39;49m\u001b[38;5;28;43;01mFalse\u001b[39;49;00m\u001b[43m,\u001b[49m\n\u001b[1;32m    844\u001b[0m \u001b[43m            \u001b[49m\u001b[43morder\u001b[49m\u001b[38;5;241;43m=\u001b[39;49m\u001b[38;5;124;43m\"\u001b[39;49m\u001b[38;5;124;43mC\u001b[39;49m\u001b[38;5;124;43m\"\u001b[39;49m\u001b[43m,\u001b[49m\n\u001b[1;32m    845\u001b[0m \u001b[43m        \u001b[49m\u001b[43m)\u001b[49m\n\u001b[1;32m    847\u001b[0m n_samples_fit \u001b[38;5;241m=\u001b[39m \u001b[38;5;28mself\u001b[39m\u001b[38;5;241m.\u001b[39mn_samples_fit_\n\u001b[1;32m    848\u001b[0m \u001b[38;5;28;01mif\u001b[39;00m n_neighbors \u001b[38;5;241m>\u001b[39m n_samples_fit:\n",
      "File \u001b[0;32m~/anaconda3/envs/kyle_ai/lib/python3.12/site-packages/sklearn/utils/validation.py:2965\u001b[0m, in \u001b[0;36mvalidate_data\u001b[0;34m(_estimator, X, y, reset, validate_separately, skip_check_array, **check_params)\u001b[0m\n\u001b[1;32m   2962\u001b[0m     out \u001b[38;5;241m=\u001b[39m X, y\n\u001b[1;32m   2964\u001b[0m \u001b[38;5;28;01mif\u001b[39;00m \u001b[38;5;129;01mnot\u001b[39;00m no_val_X \u001b[38;5;129;01mand\u001b[39;00m check_params\u001b[38;5;241m.\u001b[39mget(\u001b[38;5;124m\"\u001b[39m\u001b[38;5;124mensure_2d\u001b[39m\u001b[38;5;124m\"\u001b[39m, \u001b[38;5;28;01mTrue\u001b[39;00m):\n\u001b[0;32m-> 2965\u001b[0m     \u001b[43m_check_n_features\u001b[49m\u001b[43m(\u001b[49m\u001b[43m_estimator\u001b[49m\u001b[43m,\u001b[49m\u001b[43m \u001b[49m\u001b[43mX\u001b[49m\u001b[43m,\u001b[49m\u001b[43m \u001b[49m\u001b[43mreset\u001b[49m\u001b[38;5;241;43m=\u001b[39;49m\u001b[43mreset\u001b[49m\u001b[43m)\u001b[49m\n\u001b[1;32m   2967\u001b[0m \u001b[38;5;28;01mreturn\u001b[39;00m out\n",
      "File \u001b[0;32m~/anaconda3/envs/kyle_ai/lib/python3.12/site-packages/sklearn/utils/validation.py:2829\u001b[0m, in \u001b[0;36m_check_n_features\u001b[0;34m(estimator, X, reset)\u001b[0m\n\u001b[1;32m   2826\u001b[0m     \u001b[38;5;28;01mreturn\u001b[39;00m\n\u001b[1;32m   2828\u001b[0m \u001b[38;5;28;01mif\u001b[39;00m n_features \u001b[38;5;241m!=\u001b[39m estimator\u001b[38;5;241m.\u001b[39mn_features_in_:\n\u001b[0;32m-> 2829\u001b[0m     \u001b[38;5;28;01mraise\u001b[39;00m \u001b[38;5;167;01mValueError\u001b[39;00m(\n\u001b[1;32m   2830\u001b[0m         \u001b[38;5;124mf\u001b[39m\u001b[38;5;124m\"\u001b[39m\u001b[38;5;124mX has \u001b[39m\u001b[38;5;132;01m{\u001b[39;00mn_features\u001b[38;5;132;01m}\u001b[39;00m\u001b[38;5;124m features, but \u001b[39m\u001b[38;5;132;01m{\u001b[39;00mestimator\u001b[38;5;241m.\u001b[39m\u001b[38;5;18m__class__\u001b[39m\u001b[38;5;241m.\u001b[39m\u001b[38;5;18m__name__\u001b[39m\u001b[38;5;132;01m}\u001b[39;00m\u001b[38;5;124m \u001b[39m\u001b[38;5;124m\"\u001b[39m\n\u001b[1;32m   2831\u001b[0m         \u001b[38;5;124mf\u001b[39m\u001b[38;5;124m\"\u001b[39m\u001b[38;5;124mis expecting \u001b[39m\u001b[38;5;132;01m{\u001b[39;00mestimator\u001b[38;5;241m.\u001b[39mn_features_in_\u001b[38;5;132;01m}\u001b[39;00m\u001b[38;5;124m features as input.\u001b[39m\u001b[38;5;124m\"\u001b[39m\n\u001b[1;32m   2832\u001b[0m     )\n",
      "\u001b[0;31mValueError\u001b[0m: X has 470 features, but KNeighborsClassifier is expecting 234 features as input."
     ]
    }
   ],
   "source": [
    "import time\n",
    "import numpy as np\n",
    "\n",
    "N_FOLD = 10  # 設定重複測試的次數\n",
    "total_times = []  # 儲存 N 次的總推論時間\n",
    "sample_times = []  # 儲存 N 次的單筆推論時間\n",
    "\n",
    "for _ in range(N_FOLD):\n",
    "    start_time = time.perf_counter()\n",
    "    y_pred = knn.predict(data)  # 進行 KNN 預測\n",
    "    end_time = time.perf_counter()\n",
    "\n",
    "    total_time = end_time - start_time  # 計算 KNN 預測總時間\n",
    "    total_times.append(total_time)\n",
    "\n",
    "    avg_time_per_sample = total_time / len(amp_test)  # 計算每筆資料的平均推論時間\n",
    "    sample_times.append(avg_time_per_sample)\n",
    "\n",
    "# 計算統計數據\n",
    "mean_total_time = np.mean(total_times)\n",
    "mean_sample_time = np.mean(sample_times)\n",
    "std_sample_time = np.std(sample_times)\n",
    "\n",
    "# 顯示結果\n",
    "print(f\"📊 N-FOLD 測試結果（共 {N_FOLD} 次）\")\n",
    "print(f\"⏳ 平均每次總推論時間: {mean_total_time:.6f} 秒\")\n",
    "print(f\"⏱️ 平均每筆資料推論時間: {mean_sample_time * 1000:.6f} 毫秒\")\n",
    "print(f\"📉 單筆推論時間標準差: {std_sample_time * 1000:.6f} 毫秒\")\n",
    "\n"
   ]
  }
 ],
 "metadata": {
  "kernelspec": {
   "display_name": "kyle_ai",
   "language": "python",
   "name": "python3"
  },
  "language_info": {
   "codemirror_mode": {
    "name": "ipython",
    "version": 3
   },
   "file_extension": ".py",
   "mimetype": "text/x-python",
   "name": "python",
   "nbconvert_exporter": "python",
   "pygments_lexer": "ipython3",
   "version": "3.12.0"
  }
 },
 "nbformat": 4,
 "nbformat_minor": 2
}
